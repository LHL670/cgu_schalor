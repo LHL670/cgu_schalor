{
 "cells": [
  {
   "cell_type": "code",
   "execution_count": 47,
   "id": "aac9f009",
   "metadata": {},
   "outputs": [
    {
     "ename": "IndentationError",
     "evalue": "unexpected indent (<ipython-input-47-f0b764540204>, line 3)",
     "output_type": "error",
     "traceback": [
      "\u001b[1;36m  File \u001b[1;32m\"<ipython-input-47-f0b764540204>\"\u001b[1;36m, line \u001b[1;32m3\u001b[0m\n\u001b[1;33m    https://scholar.google.com.tw/citations?view_op=search_authors&hl=zh-TW&mauthors=label:biometrics&after_author=q2czAIpn__8J&astart=10\u001b[0m\n\u001b[1;37m    ^\u001b[0m\n\u001b[1;31mIndentationError\u001b[0m\u001b[1;31m:\u001b[0m unexpected indent\n"
     ]
    }
   ],
   "source": [
    "import requests\n",
    "from bs4 import BeautifulSoup\n",
    "url = 'https://scholar.google.com.tw/citations?view_op=search_authors&hl=zh-TW&mauthors=label:biometrics'\n",
    "r = requests.get(url)\n",
    "soup = BeautifulSoup(r.text)\n"
   ]
  },
  {
   "cell_type": "code",
   "execution_count": 81,
   "id": "4b880699",
   "metadata": {},
   "outputs": [
    {
     "data": {
      "text/plain": [
       "[{'id': 'g-_ZXGsAAAAJ',\n",
       "  'label': ['Biometrics',\n",
       "   'Computer vision',\n",
       "   'Pattern recognition',\n",
       "   'Machine learning',\n",
       "   'Image processing']},\n",
       " {'id': 'bjEpXBoAAAAJ',\n",
       "  'label': ['computer vision',\n",
       "   'pattern recognition',\n",
       "   'biometrics',\n",
       "   'affective computing',\n",
       "   'artificial intelligence']},\n",
       " {'id': 'IOagLnEAAAAJ',\n",
       "  'label': ['Biometrics', 'Pattern Recognition', 'Image Processing']},\n",
       " {'id': 'tAK5l1IAAAAJ',\n",
       "  'label': ['Computer Vision',\n",
       "   'Image Processing',\n",
       "   'Pattern Recognition',\n",
       "   'Machine Learning',\n",
       "   'Biometrics']},\n",
       " {'id': 'XZkvOTEAAAAJ',\n",
       "  'label': ['Biometrics',\n",
       "   'Pattern Recognition',\n",
       "   'Computer Vision',\n",
       "   'Data Mining']},\n",
       " {'id': 'EqetexsAAAAJ', 'label': ['Computer Vision', 'Biometrics']},\n",
       " {'id': 'iXtCV_QAAAAJ',\n",
       "  'label': ['Pattern Recognition',\n",
       "   'Biometrics',\n",
       "   'Image Processing',\n",
       "   'Remote Sensing']},\n",
       " {'id': 'J8YyZugAAAAJ',\n",
       "  'label': ['Computer Vision',\n",
       "   'Machine Learning',\n",
       "   'Biometrics',\n",
       "   'Computer Graphics']},\n",
       " {'id': 'h20U9WcAAAAJ',\n",
       "  'label': ['Computer vision',\n",
       "   'Biometrics',\n",
       "   'Pattern recognition',\n",
       "   'Image Processing']},\n",
       " {'id': 'NjciM8IAAAAJ',\n",
       "  'label': ['Antennas and Propagation',\n",
       "   'RF systems',\n",
       "   'image processing',\n",
       "   'biometrics']}]"
      ]
     },
     "execution_count": 81,
     "metadata": {},
     "output_type": "execute_result"
    }
   ],
   "source": [
    "info=[]\n",
    "\n",
    "for i in soup.find_all('div', class_ = 'gsc_1usr'):\n",
    "    temp={}\n",
    "    label = []\n",
    "    \n",
    "    user = i.find('a')['href'].split('user=')[1]\n",
    "\n",
    "    for j in i.find_all('a', class_ = 'gs_ai_one_int'):\n",
    "        label.append(j.text)\n",
    "    #print(label)\n",
    "    temp['id'] = user\n",
    "    temp['label'] = label\n",
    "    info.append(temp)\n",
    "info"
   ]
  },
  {
   "cell_type": "code",
   "execution_count": 6,
   "id": "6db30b9b",
   "metadata": {},
   "outputs": [],
   "source": [
    "import requests\n",
    "from bs4 import BeautifulSoup\n",
    "\n",
    "label='outlier_detection'\n",
    "url = 'https://scholar.google.com.tw/citations?view_op=search_authors&hl=zh-TW&mauthors=label:'+ label\n",
    "headers = {\n",
    "    'User-Agent': 'Mozilla/5.0 (Macintosh; Intel Mac OS X 10_13_6) AppleWebKit/537.36 (KHTML, like Gecko) Chrome/73.0.3683.103 Safari/537.36'\n",
    "}\n",
    "r = requests.get(url, headers=headers)\n",
    "soup = BeautifulSoup(r.text)"
   ]
  },
  {
   "cell_type": "code",
   "execution_count": 7,
   "id": "f9580080",
   "metadata": {},
   "outputs": [
    {
     "name": "stdout",
     "output_type": "stream",
     "text": [
      "2\n",
      "3\n",
      "4\n",
      "5\n",
      "6\n",
      "7\n",
      "8\n",
      "9\n",
      "10\n",
      "11\n"
     ]
    },
    {
     "data": {
      "text/plain": [
       "[{'userID': ['x_wsduUAAAAJ',\n",
       "   '-8xAh5IAAAAJ',\n",
       "   'Rfc8k-EAAAAJ',\n",
       "   'OrFUuH0AAAAJ',\n",
       "   'NAzAaY0AAAAJ',\n",
       "   'Ca8f9TEAAAAJ',\n",
       "   'ylK19VUAAAAJ',\n",
       "   'NjKPYcsAAAAJ',\n",
       "   'IB3_fzoAAAAJ',\n",
       "   '1ZO7pHkAAAAJ',\n",
       "   'CRo660MAAAAJ',\n",
       "   'QLxmlf0AAAAJ',\n",
       "   '6Z9AaHAAAAAJ',\n",
       "   'lLgQE20AAAAJ',\n",
       "   '0ZE58lcAAAAJ',\n",
       "   'muLakuUAAAAJ',\n",
       "   'ANHZN8QAAAAJ',\n",
       "   'JudU__UAAAAJ',\n",
       "   'EkNe99gAAAAJ',\n",
       "   'qbvfVlcAAAAJ',\n",
       "   'qRXa3qwAAAAJ',\n",
       "   'zoGDYsoAAAAJ',\n",
       "   'jgDtWugAAAAJ',\n",
       "   'Z8dm08MAAAAJ',\n",
       "   'bopLPrEAAAAJ',\n",
       "   'Gx7XSA4AAAAJ',\n",
       "   'O0GvP1IAAAAJ',\n",
       "   '8PHHt4EAAAAJ',\n",
       "   'oLXKzkQAAAAJ',\n",
       "   '7KZ4FfwAAAAJ',\n",
       "   'Zj3bAYIAAAAJ',\n",
       "   '54h_-8EAAAAJ',\n",
       "   '1EYc-0QAAAAJ',\n",
       "   'V-Qg1ugAAAAJ',\n",
       "   'xm3j7P0AAAAJ',\n",
       "   'tizsbLsAAAAJ',\n",
       "   '3sEfawkAAAAJ',\n",
       "   'HHT42RQAAAAJ',\n",
       "   'rZQOvIsAAAAJ',\n",
       "   'r4PXCAsAAAAJ',\n",
       "   'cNrRG6wAAAAJ',\n",
       "   'h18ojwQAAAAJ',\n",
       "   'Ft-vRSYAAAAJ',\n",
       "   'WRRMPzMAAAAJ',\n",
       "   'LuvK01MAAAAJ',\n",
       "   'Zl077OUAAAAJ',\n",
       "   'FoXygPUAAAAJ',\n",
       "   'vdKSKwYAAAAJ',\n",
       "   'MkVpga8AAAAJ',\n",
       "   '0WRkeloAAAAJ',\n",
       "   'gEL17ZEAAAAJ',\n",
       "   'aRALDu0AAAAJ',\n",
       "   'QkIx7-MAAAAJ',\n",
       "   'qqyIT8kAAAAJ',\n",
       "   'ePEmOzIAAAAJ',\n",
       "   'ACsS478AAAAJ',\n",
       "   '0nBcKAoAAAAJ',\n",
       "   'Avbysq0AAAAJ',\n",
       "   'rYN6wQcAAAAJ',\n",
       "   'VpsNlgwAAAAJ',\n",
       "   'B675Ov0AAAAJ',\n",
       "   'oo3HhWIAAAAJ',\n",
       "   'eP_VoNwAAAAJ',\n",
       "   'jA8LjUwAAAAJ',\n",
       "   'YoPHa4YAAAAJ',\n",
       "   '-K_orF0AAAAJ',\n",
       "   'Fy74s54AAAAJ',\n",
       "   '9V0elrkAAAAJ',\n",
       "   'RIah2BQAAAAJ',\n",
       "   'adXadYAAAAAJ',\n",
       "   'gAJrRboAAAAJ',\n",
       "   'fciDb1gAAAAJ',\n",
       "   'pZz5VdwAAAAJ',\n",
       "   'WVP9wDUAAAAJ',\n",
       "   '4xPzh2MAAAAJ',\n",
       "   'H_2Bry4AAAAJ',\n",
       "   'TvHZIOwAAAAJ',\n",
       "   'U5LiCwsAAAAJ',\n",
       "   'kY5gijMAAAAJ',\n",
       "   'vSOu3yEAAAAJ',\n",
       "   'hAmWzhAAAAAJ',\n",
       "   '8WrA_AIAAAAJ',\n",
       "   'Xjj4CfkAAAAJ',\n",
       "   '0lIm6zUAAAAJ',\n",
       "   'Lf_d6t4AAAAJ',\n",
       "   'UtsK2jEAAAAJ',\n",
       "   'fEwX0SMAAAAJ',\n",
       "   'wK-uXg0AAAAJ',\n",
       "   'n4_saqEAAAAJ',\n",
       "   't0Ct8QoAAAAJ',\n",
       "   'w_SdN_AAAAAJ',\n",
       "   'Il8c4HMAAAAJ',\n",
       "   'ogjPkdIAAAAJ',\n",
       "   'XZbe9MgAAAAJ',\n",
       "   'o2IoewsAAAAJ',\n",
       "   'iCr1ofoAAAAJ',\n",
       "   't5LHZjAAAAAJ',\n",
       "   'nZBKH5QAAAAJ',\n",
       "   'Kd4vSHQAAAAJ',\n",
       "   'm4FtTZkAAAAJ',\n",
       "   'Wxd3vycAAAAJ',\n",
       "   'xkjlNiwAAAAJ',\n",
       "   'cnGfN7kAAAAJ']}]"
      ]
     },
     "execution_count": 7,
     "metadata": {},
     "output_type": "execute_result"
    }
   ],
   "source": [
    "searchPage = True\n",
    "count = 1\n",
    "infos = []\n",
    "temp = []\n",
    "user = {}\n",
    "page = int('0')\n",
    "  \n",
    "while searchPage == True:\n",
    "    for i in soup.find_all('div', class_ = 'gsc_1usr'):      \n",
    "        #tag = []\n",
    "\n",
    "        id = i.find('a')['href'].split('user=')[1]\n",
    "        '''\n",
    "        for j in i.find_all('a', class_ = 'gs_ai_one_int'):\n",
    "            tag.append(j.text)\n",
    "        #print(label)\n",
    "        '''\n",
    "        temp.append(id)\n",
    "        #temp['label'] = tag\n",
    "        \n",
    "    user['userID'] = temp\n",
    "    try:\n",
    "        #split nextpage after_author\n",
    "        afterAuthor = soup.find('div', id = 'gsc_authors_bottom_pag').find('button', class_ = 'gs_btnPR gs_in_ib gs_btn_half gs_btn_lsb gs_btn_srt gsc_pgn_pnx')['onclick'].split('author\\\\x3d')[1].split('\\\\x26')[0]\n",
    "        page = str(int(page) + 10) \n",
    "        \n",
    "        url = 'https://scholar.google.com.tw/citations?view_op=search_authors&hl=zh-TW&mauthors=label:'+label+'&after_author='+afterAuthor+'&astart='+page\n",
    "        r = requests.get(url, headers=headers)\n",
    "        soup = BeautifulSoup(r.text)\n",
    "        \n",
    "        count = count +1\n",
    "        print(count)\n",
    "    except KeyError as err:        \n",
    "        searchPage == False\n",
    "        break\n",
    "infos.append(user)\n",
    "            \n",
    "infos"
   ]
  },
  {
   "cell_type": "code",
   "execution_count": 8,
   "id": "b0b8a20e",
   "metadata": {},
   "outputs": [
    {
     "name": "stdout",
     "output_type": "stream",
     "text": [
      "[{\"userID\": [\"x_wsduUAAAAJ\", \"-8xAh5IAAAAJ\", \"Rfc8k-EAAAAJ\", \"OrFUuH0AAAAJ\", \"NAzAaY0AAAAJ\", \"Ca8f9TEAAAAJ\", \"ylK19VUAAAAJ\", \"NjKPYcsAAAAJ\", \"IB3_fzoAAAAJ\", \"1ZO7pHkAAAAJ\", \"CRo660MAAAAJ\", \"QLxmlf0AAAAJ\", \"6Z9AaHAAAAAJ\", \"lLgQE20AAAAJ\", \"0ZE58lcAAAAJ\", \"muLakuUAAAAJ\", \"ANHZN8QAAAAJ\", \"JudU__UAAAAJ\", \"EkNe99gAAAAJ\", \"qbvfVlcAAAAJ\", \"qRXa3qwAAAAJ\", \"zoGDYsoAAAAJ\", \"jgDtWugAAAAJ\", \"Z8dm08MAAAAJ\", \"bopLPrEAAAAJ\", \"Gx7XSA4AAAAJ\", \"O0GvP1IAAAAJ\", \"8PHHt4EAAAAJ\", \"oLXKzkQAAAAJ\", \"7KZ4FfwAAAAJ\", \"Zj3bAYIAAAAJ\", \"54h_-8EAAAAJ\", \"1EYc-0QAAAAJ\", \"V-Qg1ugAAAAJ\", \"xm3j7P0AAAAJ\", \"tizsbLsAAAAJ\", \"3sEfawkAAAAJ\", \"HHT42RQAAAAJ\", \"rZQOvIsAAAAJ\", \"r4PXCAsAAAAJ\", \"cNrRG6wAAAAJ\", \"h18ojwQAAAAJ\", \"Ft-vRSYAAAAJ\", \"WRRMPzMAAAAJ\", \"LuvK01MAAAAJ\", \"Zl077OUAAAAJ\", \"FoXygPUAAAAJ\", \"vdKSKwYAAAAJ\", \"MkVpga8AAAAJ\", \"0WRkeloAAAAJ\", \"gEL17ZEAAAAJ\", \"aRALDu0AAAAJ\", \"QkIx7-MAAAAJ\", \"qqyIT8kAAAAJ\", \"ePEmOzIAAAAJ\", \"ACsS478AAAAJ\", \"0nBcKAoAAAAJ\", \"Avbysq0AAAAJ\", \"rYN6wQcAAAAJ\", \"VpsNlgwAAAAJ\", \"B675Ov0AAAAJ\", \"oo3HhWIAAAAJ\", \"eP_VoNwAAAAJ\", \"jA8LjUwAAAAJ\", \"YoPHa4YAAAAJ\", \"-K_orF0AAAAJ\", \"Fy74s54AAAAJ\", \"9V0elrkAAAAJ\", \"RIah2BQAAAAJ\", \"adXadYAAAAAJ\", \"gAJrRboAAAAJ\", \"fciDb1gAAAAJ\", \"pZz5VdwAAAAJ\", \"WVP9wDUAAAAJ\", \"4xPzh2MAAAAJ\", \"H_2Bry4AAAAJ\", \"TvHZIOwAAAAJ\", \"U5LiCwsAAAAJ\", \"kY5gijMAAAAJ\", \"vSOu3yEAAAAJ\", \"hAmWzhAAAAAJ\", \"8WrA_AIAAAAJ\", \"Xjj4CfkAAAAJ\", \"0lIm6zUAAAAJ\", \"Lf_d6t4AAAAJ\", \"UtsK2jEAAAAJ\", \"fEwX0SMAAAAJ\", \"wK-uXg0AAAAJ\", \"n4_saqEAAAAJ\", \"t0Ct8QoAAAAJ\", \"w_SdN_AAAAAJ\", \"Il8c4HMAAAAJ\", \"ogjPkdIAAAAJ\", \"XZbe9MgAAAAJ\", \"o2IoewsAAAAJ\", \"iCr1ofoAAAAJ\", \"t5LHZjAAAAAJ\", \"nZBKH5QAAAAJ\", \"Kd4vSHQAAAAJ\", \"m4FtTZkAAAAJ\", \"Wxd3vycAAAAJ\", \"xkjlNiwAAAAJ\", \"cnGfN7kAAAAJ\"]}]\n"
     ]
    }
   ],
   "source": [
    "import json\n",
    "jsonStr = json.dumps(infos)\n",
    "print(jsonStr)"
   ]
  },
  {
   "cell_type": "code",
   "execution_count": 9,
   "id": "d92d3820",
   "metadata": {},
   "outputs": [],
   "source": [
    "jsonFile = open('jsonFile/{}.json'.format(label), \"w\")\n",
    "jsonFile.write(jsonStr)\n",
    "jsonFile.close()"
   ]
  },
  {
   "cell_type": "code",
   "execution_count": 12,
   "id": "26cdb13f",
   "metadata": {},
   "outputs": [
    {
     "ename": "SyntaxError",
     "evalue": "invalid syntax (<ipython-input-12-8d39ba346c6d>, line 1)",
     "output_type": "error",
     "traceback": [
      "\u001b[1;36m  File \u001b[1;32m\"<ipython-input-12-8d39ba346c6d>\"\u001b[1;36m, line \u001b[1;32m1\u001b[0m\n\u001b[1;33m    upload-json-to-firestore.py outlier_detection.json set label-demo\u001b[0m\n\u001b[1;37m                                ^\u001b[0m\n\u001b[1;31mSyntaxError\u001b[0m\u001b[1;31m:\u001b[0m invalid syntax\n"
     ]
    }
   ],
   "source": []
  },
  {
   "cell_type": "code",
   "execution_count": null,
   "id": "44c38a78",
   "metadata": {},
   "outputs": [],
   "source": []
  }
 ],
 "metadata": {
  "kernelspec": {
   "display_name": "Python 3",
   "language": "python",
   "name": "python3"
  },
  "language_info": {
   "codemirror_mode": {
    "name": "ipython",
    "version": 3
   },
   "file_extension": ".py",
   "mimetype": "text/x-python",
   "name": "python",
   "nbconvert_exporter": "python",
   "pygments_lexer": "ipython3",
   "version": "3.8.8"
  }
 },
 "nbformat": 4,
 "nbformat_minor": 5
}
