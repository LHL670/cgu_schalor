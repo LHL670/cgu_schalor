{
 "cells": [
  {
   "cell_type": "code",
   "execution_count": 3,
   "id": "6db30b9b",
   "metadata": {},
   "outputs": [],
   "source": [
    "import firebase_admin\n",
    "from firebase_admin import credentials\n",
    "from firebase_admin import firestore\n",
    "\n",
    "if not firebase_admin._apps:\n",
    "    cred = credentials.Certificate(\"../jsonFile/service-account.json\")\n",
    "    firebase_admin.initialize_app(cred)\n",
    "    \n",
    "db = firestore.client()"
   ]
  },
  {
   "cell_type": "code",
   "execution_count": 16,
   "id": "503e82d0",
   "metadata": {},
   "outputs": [],
   "source": [
    "import requests\n",
    "from bs4 import BeautifulSoup\n",
    "\n",
    "label='rf_systems'\n",
    "url = 'https://scholar.google.com.tw/citations?view_op=search_authors&hl=zh-TW&mauthors=label:'+ label\n",
    "headers = {\n",
    "    'User-Agent': 'Mozilla/5.0 (Macintosh; Intel Mac OS X 10_13_6) AppleWebKit/537.36 (KHTML, like Gecko) Chrome/73.0.3683.103 Safari/537.36'\n",
    "}\n",
    "r = requests.get(url, headers=headers)\n",
    "soup = BeautifulSoup(r.text)"
   ]
  },
  {
   "cell_type": "code",
   "execution_count": 17,
   "id": "f9580080",
   "metadata": {},
   "outputs": [
    {
     "ename": "AttributeError",
     "evalue": "'NoneType' object has no attribute 'find'",
     "output_type": "error",
     "traceback": [
      "\u001b[1;31m---------------------------------------------------------------------------\u001b[0m",
      "\u001b[1;31mAttributeError\u001b[0m                            Traceback (most recent call last)",
      "\u001b[1;32m<ipython-input-17-906b9a2a4333>\u001b[0m in \u001b[0;36m<module>\u001b[1;34m\u001b[0m\n\u001b[0;32m     18\u001b[0m     \u001b[1;32mtry\u001b[0m\u001b[1;33m:\u001b[0m\u001b[1;33m\u001b[0m\u001b[1;33m\u001b[0m\u001b[0m\n\u001b[0;32m     19\u001b[0m         \u001b[1;31m#split nextpage after_author\u001b[0m\u001b[1;33m\u001b[0m\u001b[1;33m\u001b[0m\u001b[1;33m\u001b[0m\u001b[0m\n\u001b[1;32m---> 20\u001b[1;33m         \u001b[0mafterAuthor\u001b[0m \u001b[1;33m=\u001b[0m \u001b[0msoup\u001b[0m\u001b[1;33m.\u001b[0m\u001b[0mfind\u001b[0m\u001b[1;33m(\u001b[0m\u001b[1;34m'div'\u001b[0m\u001b[1;33m,\u001b[0m \u001b[0mid\u001b[0m \u001b[1;33m=\u001b[0m \u001b[1;34m'gsc_authors_bottom_pag'\u001b[0m\u001b[1;33m)\u001b[0m\u001b[1;33m.\u001b[0m\u001b[0mfind\u001b[0m\u001b[1;33m(\u001b[0m\u001b[1;34m'button'\u001b[0m\u001b[1;33m,\u001b[0m \u001b[0mclass_\u001b[0m \u001b[1;33m=\u001b[0m \u001b[1;34m'gs_btnPR gs_in_ib gs_btn_half gs_btn_lsb gs_btn_srt gsc_pgn_pnx'\u001b[0m\u001b[1;33m)\u001b[0m\u001b[1;33m[\u001b[0m\u001b[1;34m'onclick'\u001b[0m\u001b[1;33m]\u001b[0m\u001b[1;33m.\u001b[0m\u001b[0msplit\u001b[0m\u001b[1;33m(\u001b[0m\u001b[1;34m'author\\\\x3d'\u001b[0m\u001b[1;33m)\u001b[0m\u001b[1;33m[\u001b[0m\u001b[1;36m1\u001b[0m\u001b[1;33m]\u001b[0m\u001b[1;33m.\u001b[0m\u001b[0msplit\u001b[0m\u001b[1;33m(\u001b[0m\u001b[1;34m'\\\\x26'\u001b[0m\u001b[1;33m)\u001b[0m\u001b[1;33m[\u001b[0m\u001b[1;36m0\u001b[0m\u001b[1;33m]\u001b[0m\u001b[1;33m\u001b[0m\u001b[1;33m\u001b[0m\u001b[0m\n\u001b[0m\u001b[0;32m     21\u001b[0m         \u001b[0mpage\u001b[0m \u001b[1;33m=\u001b[0m \u001b[0mstr\u001b[0m\u001b[1;33m(\u001b[0m\u001b[0mint\u001b[0m\u001b[1;33m(\u001b[0m\u001b[0mpage\u001b[0m\u001b[1;33m)\u001b[0m \u001b[1;33m+\u001b[0m \u001b[1;36m10\u001b[0m\u001b[1;33m)\u001b[0m\u001b[1;33m\u001b[0m\u001b[1;33m\u001b[0m\u001b[0m\n\u001b[0;32m     22\u001b[0m \u001b[1;33m\u001b[0m\u001b[0m\n",
      "\u001b[1;31mAttributeError\u001b[0m: 'NoneType' object has no attribute 'find'"
     ]
    }
   ],
   "source": [
    "searchPage = True\n",
    "count = 1\n",
    "\n",
    "temp = []\n",
    "user = {}\n",
    "page = int('0')\n",
    "  \n",
    "while searchPage == True:\n",
    "    for i in soup.find_all('div', class_ = 'gsc_1usr'):      \n",
    "        #tag = []\n",
    "\n",
    "        id = i.find('a')['href'].split('user=')[1]\n",
    "        id.replace(\" \", \"_\")\n",
    "        temp.append(id)\n",
    "        #temp['label'] = tag\n",
    "        \n",
    "    user['userID'] = temp\n",
    "    try:\n",
    "        #split nextpage after_author\n",
    "        afterAuthor = soup.find('div', id = 'gsc_authors_bottom_pag').find('button', class_ = 'gs_btnPR gs_in_ib gs_btn_half gs_btn_lsb gs_btn_srt gsc_pgn_pnx')['onclick'].split('author\\\\x3d')[1].split('\\\\x26')[0]\n",
    "        page = str(int(page) + 10) \n",
    "        \n",
    "        url = 'https://scholar.google.com.tw/citations?view_op=search_authors&hl=zh-TW&mauthors=label:'+label+'&after_author='+afterAuthor+'&astart='+page\n",
    "        r = requests.get(url, headers=headers)\n",
    "        soup = BeautifulSoup(r.text)\n",
    "        \n",
    "        count = count +1\n",
    "        print(count)\n",
    "    except KeyError as err:        \n",
    "        searchPage == False\n",
    "        break\n",
    "\n",
    "            \n"
   ]
  },
  {
   "cell_type": "code",
   "execution_count": 4,
   "id": "a28434ad",
   "metadata": {},
   "outputs": [],
   "source": [
    "import json\n",
    "def jsontransfer(items):\n",
    "    data = json.dumps(items)\n",
    "    jsonStr = json.loads(data) \n",
    "    return jsonStr"
   ]
  },
  {
   "cell_type": "code",
   "execution_count": null,
   "id": "761e05f7",
   "metadata": {},
   "outputs": [],
   "source": []
  },
  {
   "cell_type": "code",
   "execution_count": 38,
   "id": "8b3a90d1",
   "metadata": {},
   "outputs": [],
   "source": [
    "def update_labelinfo(items, label):\n",
    "    print(label)\n",
    "    ref = db.collection(u'Label-Domain').document(label)\n",
    "    ref.set(items)"
   ]
  },
  {
   "cell_type": "code",
   "execution_count": 21,
   "id": "7024fcda",
   "metadata": {},
   "outputs": [],
   "source": [
    "updateLabel(user, label)"
   ]
  },
  {
   "cell_type": "code",
   "execution_count": 4,
   "id": "53e0e214",
   "metadata": {},
   "outputs": [],
   "source": [
    "import requests\n",
    "from bs4 import BeautifulSoup\n",
    "import datetime\n",
    "def currentTime():\n",
    "    now = datetime.datetime.now()\n",
    "    currentTime = now.strftime(\"%Y-%m-%d %H:%M:%S\")\n",
    "    return currentTime"
   ]
  },
  {
   "cell_type": "code",
   "execution_count": 14,
   "id": "8c18c02e",
   "metadata": {},
   "outputs": [],
   "source": [
    "def get_labelIDlist(label):\n",
    "\n",
    "    url = 'https://scholar.google.com.tw/citations?view_op=search_authors&hl=zh-TW&mauthors=label:' + label\n",
    "    headers = {\n",
    "        'User-Agent': 'Mozilla/5.0 (Macintosh; Intel Mac OS X 10_13_6) AppleWebKit/537.36 (KHTML, like Gecko) Chrome/73.0.3683.103 Safari/537.36'\n",
    "    }\n",
    "    r = requests.get(url, headers=headers)\n",
    "    soup = BeautifulSoup(r.text)\n",
    "\n",
    "    searchPage = True\n",
    "    tempList = []\n",
    "    Label = {}\n",
    "    page = int('0')\n",
    "\n",
    "    while searchPage == True:\n",
    "        for i in soup.find_all('div', class_='gsc_1usr'):\n",
    "            #tag = []\n",
    "\n",
    "            id = i.find('a')['href'].split('user=')[1]\n",
    "            tempList.append(id)\n",
    "            #temp['label'] = tag\n",
    "\n",
    "        Label['userID'] = tempList\n",
    "        try:\n",
    "            # split nextpage after_author\n",
    "            afterAuthor = soup.find('div', id='gsc_authors_bottom_pag').find(\n",
    "                'button', class_='gs_btnPR gs_in_ib gs_btn_half gs_btn_lsb gs_btn_srt gsc_pgn_pnx')['onclick'].split('author\\\\x3d')[1].split('\\\\x26')[0]\n",
    "            page = str(int(page) + 10)\n",
    "\n",
    "            url = 'https://scholar.google.com.tw/citations?view_op=search_authors&hl=zh-TW&mauthors=label:' + \\\n",
    "                label+'&after_author='+afterAuthor+'&astart='+page\n",
    "            r = requests.get(url, headers=headers)\n",
    "            soup = BeautifulSoup(r.text)\n",
    "            print(page)\n",
    "        except :\n",
    "            searchPage == False\n",
    "            break\n",
    "    Label['updateTime'] = currentTime()\n",
    "    return Label"
   ]
  },
  {
   "cell_type": "code",
   "execution_count": null,
   "id": "988f7097",
   "metadata": {},
   "outputs": [],
   "source": [
    " t=get_LabelIDList('Bayesian_inference')\n",
    "print(t)"
   ]
  },
  {
   "cell_type": "code",
   "execution_count": 22,
   "id": "e6021f4a",
   "metadata": {},
   "outputs": [
    {
     "name": "stdout",
     "output_type": "stream",
     "text": [
      "<class 'dict'>\n"
     ]
    }
   ],
   "source": [
    "print(type(t))"
   ]
  },
  {
   "cell_type": "code",
   "execution_count": 47,
   "id": "89c4d113",
   "metadata": {},
   "outputs": [],
   "source": [
    "updateLabel(t, '5G Wireless Communications')"
   ]
  },
  {
   "cell_type": "code",
   "execution_count": 9,
   "id": "0873271b",
   "metadata": {},
   "outputs": [],
   "source": [
    "def labelinfoformat(data):\n",
    "    print(data)\n",
    "    rewriteData = data\n",
    "    if(len(data['userID']) == 0):\n",
    "        print(len(data['userID']))\n",
    "        return False\n",
    "    # check updateTime format\n",
    "    if(data['updateTime'] == '' or data['updateTime'] == None):\n",
    "        rewriteData['personalData']['updateTime'] = currentTime()\n",
    "        print(2)\n",
    "\n",
    "    try:\n",
    "        datetime.datetime.strptime(\n",
    "            data['updateTime'], \"%Y-%m-%d %H:%M:%S\")\n",
    "        print(1)\n",
    "    except:\n",
    "        rewriteData['updateTime'] = currentTime()\n",
    "        print(3)\n",
    "    return rewriteData"
   ]
  },
  {
   "cell_type": "code",
   "execution_count": 10,
   "id": "b41d0225",
   "metadata": {},
   "outputs": [],
   "source": [
    "\n",
    "def LabelCrawl():\n",
    "    print('label start')\n",
    "    label = get_lastupdatelabel()\n",
    "    label ='Bayesian_inference'# limit\n",
    "    labellist = get_labelIDlist('Bayesian_inference')\n",
    "    print(labellist)\n",
    "    check_labelformat = labelinfoformat(labellist)\n",
    "\n",
    "    # label list 為空或格式錯誤時回傳False,格式錯誤修正後回傳rewriteInfo\n",
    "    if(check_labelformat != False):\n",
    "        update_labelinfo(labellist, label)\n",
    "        print('label 1done')\n",
    "    else:\n",
    "        rewrite_labelinfo = check_labelformat\n",
    "        update_labelinfo(rewrite_labelinfo, label)\n",
    "        print('label done')"
   ]
  },
  {
   "cell_type": "code",
   "execution_count": 11,
   "id": "1ea8c640",
   "metadata": {},
   "outputs": [],
   "source": [
    "def get_lastupdatelabel():\n",
    "    query = db.collection(u'Label-Domain').where(u'updateTime', '==', None).limit(1)\n",
    "    results = query.stream()\n",
    "    for r in results:\n",
    "        label = r.id\n",
    "    return label"
   ]
  },
  {
   "cell_type": "code",
   "execution_count": 18,
   "id": "776737e1",
   "metadata": {},
   "outputs": [
    {
     "name": "stdout",
     "output_type": "stream",
     "text": [
      "label start\n",
      "10\n",
      "20\n",
      "30\n",
      "40\n",
      "50\n",
      "60\n",
      "70\n",
      "80\n",
      "90\n",
      "100\n",
      "110\n",
      "120\n",
      "130\n",
      "140\n",
      "150\n",
      "160\n",
      "170\n",
      "180\n",
      "190\n",
      "200\n",
      "210\n",
      "220\n",
      "230\n",
      "240\n",
      "250\n",
      "260\n",
      "270\n",
      "280\n",
      "290\n",
      "300\n",
      "310\n",
      "320\n",
      "330\n",
      "340\n",
      "350\n",
      "360\n",
      "370\n",
      "380\n",
      "390\n",
      "400\n",
      "410\n",
      "420\n",
      "430\n",
      "440\n",
      "450\n",
      "460\n",
      "470\n",
      "480\n",
      "490\n",
      "500\n",
      "510\n",
      "520\n",
      "530\n",
      "540\n",
      "550\n",
      "560\n",
      "570\n",
      "580\n",
      "590\n",
      "600\n",
      "610\n",
      "620\n",
      "630\n",
      "640\n",
      "650\n",
      "660\n",
      "670\n",
      "680\n",
      "690\n",
      "700\n",
      "710\n",
      "720\n",
      "730\n",
      "740\n",
      "750\n",
      "760\n",
      "770\n",
      "780\n",
      "790\n",
      "800\n",
      "810\n",
      "820\n",
      "830\n",
      "840\n",
      "850\n",
      "860\n",
      "870\n",
      "880\n",
      "890\n",
      "900\n",
      "{'userID': ['ZyOio_YAAAAJ', 'CmWHB9gAAAAJ', 'W4SZGV8AAAAJ', 'L_HG640AAAAJ', 'aqgFQqMAAAAJ', 'rr8pZoUAAAAJ', 'k9SFchAAAAAJ', 'T1lNNLkAAAAJ', 'Y7MiQqkAAAAJ', '4wWQsj8AAAAJ', '2K3F0MMAAAAJ', 'odOmEY0AAAAJ', 'i_k7UrQAAAAJ', 'pw6xnRcAAAAJ', '0Xa0gGwAAAAJ', 'zN1unagAAAAJ', 'N0qz4VkAAAAJ', 'efOGg5IAAAAJ', 'WjCG3owAAAAJ', 'N3oasbQAAAAJ', 'H8fpNVYAAAAJ', 'lVpFF40AAAAJ', 'Va6LlhgAAAAJ', 'xz6_iTEAAAAJ', 'dDhxUmgAAAAJ', 'QrXr-4cAAAAJ', 'BAtd7FcAAAAJ', 'dgVYYngAAAAJ', 'vt1EAJcAAAAJ', 'HNhEAN8AAAAJ', '1gr9rvUAAAAJ', 'cqxv9PAAAAAJ', 'MUJ51_gAAAAJ', 'RDf-d68AAAAJ', 'KoJrMIAAAAAJ', 'Fd6mdHcAAAAJ', '33ynLk8AAAAJ', '4BEvaw8AAAAJ', 'Z-kAK98AAAAJ', 'RqbpaXcAAAAJ', 'UXY08zEAAAAJ', '8BBz_k0AAAAJ', 'yWTAbFAAAAAJ', 'NAzAaY0AAAAJ', 'xVRKg-8AAAAJ', 'T6UTmeMAAAAJ', 'OggVQCkAAAAJ', 'DgLEyZgAAAAJ', 'uuacDrAAAAAJ', 'm6IbAvkAAAAJ', 'AeAOEM8AAAAJ', 'C5J787MAAAAJ', '7HU0UoUAAAAJ', 'nDj-zN0AAAAJ', 'Tp_e8ikAAAAJ', 'k2niISoAAAAJ', 'c5nCaXEAAAAJ', 'lyW8fWYAAAAJ', 'GFQXXzQAAAAJ', 'uXQBuxAAAAAJ', 'SBPYOOMAAAAJ', 'qwj5Ww8AAAAJ', 'DMPOaIMAAAAJ', 'CbXslqQAAAAJ', 'SaB00PgAAAAJ', '4WVfFAoAAAAJ', 'ukAwOdAAAAAJ', 'NXXCqScAAAAJ', '5GAAs7IAAAAJ', 'ILUeAloAAAAJ', 'JaqWSe4AAAAJ', 'IRwn3fYAAAAJ', '86V0RSQAAAAJ', 'FKOqtF8AAAAJ', 'XsyLs6AAAAAJ', 'ZrRZFc0AAAAJ', 'dQuDSboAAAAJ', 'sRg-VkwAAAAJ', 'yJ5qKBYAAAAJ', '9raRJDoAAAAJ', 'y2mxpbcAAAAJ', 'c6TtVxkAAAAJ', 'fv_SUKIAAAAJ', 'rsGFcxwAAAAJ', 'aC5-LiEAAAAJ', 'Vkr8yxkAAAAJ', 'RWaXcd0AAAAJ', '3r61E7kAAAAJ', 'U2Y5Bj8AAAAJ', 'TZdYfmYAAAAJ', 'voTaEpgAAAAJ', 'dPX0wQcAAAAJ', 'qyOs7OMAAAAJ', '0IusdKAAAAAJ', 'd3OQPe8AAAAJ', 'fYTIHUYAAAAJ', '-cTBEVAAAAAJ', '0V_-F5sAAAAJ', 'm68RfCIAAAAJ', 'OkOGR_8AAAAJ', 'aQeTAr4AAAAJ', 'jA4Nm3oAAAAJ', 'NldhiuYAAAAJ', 'Lcg-sRwAAAAJ', '-21GKOQAAAAJ', 'WaVpE78AAAAJ', 'UdE224wAAAAJ', 'UW3tRn8AAAAJ', 'srHC1roAAAAJ', '-3IO6dcAAAAJ', 'trgOvPoAAAAJ', 'Io606VwAAAAJ', '8fZalZUAAAAJ', 'thaKgo4AAAAJ', 'SQPOa14AAAAJ', 'Pdt6-qMAAAAJ', 'ZwmIw4EAAAAJ', '1iduKLwAAAAJ', '3C_Bu5UAAAAJ', '5bEU2N4AAAAJ', '3Bawtm4AAAAJ', '__OKD-kAAAAJ', 'jhbInA4AAAAJ', '9L09pdwAAAAJ', 'XrJoHiQAAAAJ', 'PKcjcT4AAAAJ', 'Rl1olXgAAAAJ', 'MWcMGQQAAAAJ', 'JYmAww4AAAAJ', 'nNXHNoYAAAAJ', '_wA03WkAAAAJ', 'TjK7hu8AAAAJ', 'PIQ_ZhUAAAAJ', 'kS3rxRsAAAAJ', 'beYWV-AAAAAJ', 'wFTKxuUAAAAJ', '-PkXCQQAAAAJ', 'mgABsA4AAAAJ', 'kVry5EkAAAAJ', 'NTYc27IAAAAJ', '58GAc80AAAAJ', 'aYRVvs4AAAAJ', 'YdUlqpYAAAAJ', '7COqXrEAAAAJ', 'GLGGnLUAAAAJ', 'iqSPIOoAAAAJ', 'jDLHy60AAAAJ', 'DGBAc6QAAAAJ', 'woSKVtwAAAAJ', 'cwUgs64AAAAJ', '7Vo2q94AAAAJ', 'NQFTr-4AAAAJ', 'gWQzBQMAAAAJ', 'zGqIh9UAAAAJ', 'r6fl93QAAAAJ', 'dGtTcrYAAAAJ', 'GLwW01cAAAAJ', 'rNW3ReoAAAAJ', 'm9nwWWgAAAAJ', 'Cm-n3-0AAAAJ', 'gysdMxwAAAAJ', '613GPbQAAAAJ', 'QTqii4kAAAAJ', '9dLinQwAAAAJ', 'QUQ8UYsAAAAJ', 'iq2S36EAAAAJ', 'ilfwfuUAAAAJ', 'KMqju5UAAAAJ', 'P2n-dZEAAAAJ', 'gBhZfE0AAAAJ', 'O5EtAaUAAAAJ', 'YwXwvYEAAAAJ', 'GCJHdOIAAAAJ', 'JhyW-nAAAAAJ', 'v3sdL6MAAAAJ', 'kWrpsbMAAAAJ', 'ieLRNKMAAAAJ', 'IkhgmfEAAAAJ', 'wn7bIdAAAAAJ', 'NItHMRYAAAAJ', 'IpBEFSkAAAAJ', '-cW_vtIAAAAJ', 'tJ6JXRYAAAAJ', 'pjN7iWYAAAAJ', 'mvjz77kAAAAJ', 'AtnyIEcAAAAJ', 'X88esbcAAAAJ', 'Uq5KrMoAAAAJ', 'OIhak1YAAAAJ', 'dY3iiG0AAAAJ', 'DF9khKUAAAAJ', 'AOQXS7QAAAAJ', 'yQeoc1gAAAAJ', 'C30OzQ0AAAAJ', 'YCqKw-QAAAAJ', 'wjT0JyIAAAAJ', 'KSGoY8wAAAAJ', 'YCSw8-8AAAAJ', 'UuRy_zUAAAAJ', 'llli-OIAAAAJ', 'muLakuUAAAAJ', 'YEQpmqsAAAAJ', 'BB25QXUAAAAJ', 'PZ7w9y4AAAAJ', 'upE5v28AAAAJ', 'Sq5P41wAAAAJ', '2a9C7X8AAAAJ', '1QMZI4kAAAAJ', 'EgbEMqsAAAAJ', '7k2dTdQAAAAJ', 'VD2MYmwAAAAJ', 'lAp-1WEAAAAJ', 'WSLkeDkAAAAJ', 'tkceMM0AAAAJ', 'yNQHbGoAAAAJ', 'vZAmtioAAAAJ', 'c28AlioAAAAJ', 'VKJdvUcAAAAJ', 'skv-Qr8AAAAJ', 'JOCesP0AAAAJ', 'mFga3zkAAAAJ', 'jAmaPr4AAAAJ', 'Y1Yb5lwAAAAJ', 'Px7h8KEAAAAJ', '2YgNmn4AAAAJ', 'j76uSIwAAAAJ', 'q4J3GXAAAAAJ', 'WoX4OdMAAAAJ', 'GBjOgg4AAAAJ', '48mGRJYAAAAJ', 'GUdxcukAAAAJ', 'Gmnfph4AAAAJ', 'yfMGVvkAAAAJ', 'czo3bAwAAAAJ', 'l9trEVYAAAAJ', 'xw4WYD4AAAAJ', 'QrhenzoAAAAJ', 'fTxDiGcAAAAJ', 'VOEjE-wAAAAJ', 'VY1E9DAAAAAJ', 'vt1vYnEAAAAJ', 'DdXWqnUAAAAJ', 'qsFpjOYAAAAJ', 'SvycV6QAAAAJ', 'SrVLpW8AAAAJ', 'PuPa3ekAAAAJ', 'MaqoEGAAAAAJ', 'YMPnscAAAAAJ', 'SZbBm9AAAAAJ', 'Y_b9Ti8AAAAJ', 'Xs7cKMwAAAAJ', 'HunlE1AAAAAJ', 'ZJEup2gAAAAJ', 'nbHjRiYAAAAJ', 'nQZ3m_EAAAAJ', '_ajcbxwAAAAJ', 'EFE2gpQAAAAJ', 'v7WygEAAAAAJ', 'JcJXCDcAAAAJ', 'X7fKeJkAAAAJ', 'UjsgIWYAAAAJ', '-sbw1JIAAAAJ', 'A6j9ikkAAAAJ', '6AXZPtwAAAAJ', 'DK37M8MAAAAJ', 'xdl2MQMAAAAJ', 'oQtf0ZAAAAAJ', 'IJ1YcbAAAAAJ', '28oHCFwAAAAJ', 'p7p6TDUAAAAJ', 'rVrL-tEAAAAJ', 'ERqFrMoAAAAJ', 'AUKMRrYAAAAJ', 'u4oo9HoAAAAJ', '-lapyDsAAAAJ', '4N6ViewAAAAJ', '48ZphCEAAAAJ', 'st1j2_EAAAAJ', 'SzEBdA8AAAAJ', '4urrvVQAAAAJ', 'n_97db4AAAAJ', 'xuQv1QIAAAAJ', 'e4pk9x0AAAAJ', '02OCjKwAAAAJ', 'lx8eFS4AAAAJ', 'i46Yi0YAAAAJ', 'SXFtLQUAAAAJ', 'dLs3In8AAAAJ', 'xLFMZBUAAAAJ', 'ONrhgpQAAAAJ', 'WmQw5ZcAAAAJ', 'D_uGfwIAAAAJ', 't5Xsx0IAAAAJ', '2uw6mskAAAAJ', 'm-9CO3QAAAAJ', '17-Ze24AAAAJ', '_H_Vh-MAAAAJ', 'xnrTch4AAAAJ', 'mWHaIvsAAAAJ', 'uCHNBwUAAAAJ', 'FwEz5s4AAAAJ', 'xC-v_aUAAAAJ', 'oLi7xJ0AAAAJ', 'qvgzd6gAAAAJ', 'TPe7WjMAAAAJ', '2PuoKwQAAAAJ', 'ADJe1AsAAAAJ', 'DzYVONEAAAAJ', 'AzPmZbkAAAAJ', 'tbIPV0MAAAAJ', '5YHd6k4AAAAJ', 'ekt11IAAAAAJ', 'lWjbBZEAAAAJ', '5_ONzJUAAAAJ', 'LUUIw_EAAAAJ', 'e8qul0UAAAAJ', 'xVOm_NAAAAAJ', 'EiWmY9MAAAAJ', 'wT6Qe4YAAAAJ', 'h602wLIAAAAJ', 'Dr8VE04AAAAJ', '8q9tsLAAAAAJ', 'QCCWMn8AAAAJ', 'rsV-vNEAAAAJ', 'z1kV6AIAAAAJ', 't8l-kuoAAAAJ', 'VvLNgToAAAAJ', 'ooqJTvEAAAAJ', 'N7FjrTgAAAAJ', 'CRy6AxsAAAAJ', 'GMelftgAAAAJ', '4EkAsy0AAAAJ', 'S3mYTmwAAAAJ', 'z876m4kAAAAJ', '6l7Zw3cAAAAJ', 'yqv_omUAAAAJ', 'mbEp-w0AAAAJ', 'U4BfEhoAAAAJ', 'pWaOsMIAAAAJ', 'uNx-PRQAAAAJ', '8J6IfPoAAAAJ', 'wiunwsMAAAAJ', 'juKSgKYAAAAJ', 'Z7sGzmkAAAAJ', '8Dv0d58AAAAJ', '6_FDUGEAAAAJ', 'uvQwHRcAAAAJ', 'RjSyxmUAAAAJ', 'fJt9270AAAAJ', '_LZdYzEAAAAJ', '0gRGDLkAAAAJ', 'uPVvMrUAAAAJ', '7OFg_9UAAAAJ', 'Gughv5sAAAAJ', '4K5XpIgAAAAJ', 'QmVIFrwAAAAJ', '76bvNPIAAAAJ', '8H7qQ2cAAAAJ', '5Vk0WmYAAAAJ', 'BgK8V7cAAAAJ', 'z8ubwx8AAAAJ', 'ndWxqQoAAAAJ', 'rYd0GEsAAAAJ', 'RmqIIvEAAAAJ', 'ljMkptwAAAAJ', 'lYGQc-kAAAAJ', 'zGne9YAAAAAJ', 'mPWfFC0AAAAJ', 'fDB12QEAAAAJ', 'mAv5xNQAAAAJ', 'nCv6b9wAAAAJ', 'xFIGfC8AAAAJ', '5A7FIiEAAAAJ', 'A14PwdkAAAAJ', 'kXCyQlAAAAAJ', '0LWSBv0AAAAJ', 'wI4N_YAAAAAJ', 'Z2tqKq4AAAAJ', 'pw4-tVUAAAAJ', 'Gp3LasIAAAAJ', 'BWbOWI0AAAAJ', 'nS1tCSYAAAAJ', 'Wkb8XgEAAAAJ', 'KE_9PAMAAAAJ', 'rjVVF74AAAAJ', '6CKW2A0AAAAJ', 'u_hH-fUAAAAJ', 'HfMJR_AAAAAJ', '6ZSwOZgAAAAJ', 'RYKdTU8AAAAJ', 'EADfJlIAAAAJ', 'fQhELr8AAAAJ', '86AQGvcAAAAJ', 'pxsVFGgAAAAJ', 'gfdhLB0AAAAJ', 'WV2GFrkAAAAJ', 'ml4ryBQAAAAJ', 'SiAXIS0AAAAJ', 'CiCOnrwAAAAJ', '9aXI4LkAAAAJ', 'qkk8XnQAAAAJ', 'CHHWANEAAAAJ', 'W6gIwugAAAAJ', 'l_A9hcsAAAAJ', 'dVKZyG0AAAAJ', 'dKUeUIYAAAAJ', 'kMN50N4AAAAJ', 'BbP_2mIAAAAJ', 'Bq3e_pIAAAAJ', 'kf3C60wAAAAJ', 'OXv2G2kAAAAJ', 'UqcsApEAAAAJ', 'jXaZq_EAAAAJ', 'axw5D8IAAAAJ', 'XzGQ0CgAAAAJ', 'ZHtyqOoAAAAJ', '05uQHIgAAAAJ', '6fh76OQAAAAJ', 'MastYM0AAAAJ', 'hRQ0bCIAAAAJ', 'R9Xgs2IAAAAJ', 'cq1YetUAAAAJ', 'caDdNu0AAAAJ', 'DCRG_voAAAAJ', 'p_ryhTMAAAAJ', 'TkDsba8AAAAJ', 'tkSFvr0AAAAJ', '1F72wDYAAAAJ', '2jQrOi8AAAAJ', '7BeWzswAAAAJ', 'm62ui1cAAAAJ', 'VKwK6QIAAAAJ', 'JPOiXGkAAAAJ', '_1qe2mYAAAAJ', 'Pfj5nWIAAAAJ', 'CNhr58sAAAAJ', 'WrLjBYgAAAAJ', 'Cmm8ZugAAAAJ', '_o3JW7IAAAAJ', 'lPuGm8YAAAAJ', 'fdrMt1gAAAAJ', 'w7m1KhkAAAAJ', '9-5DyZEAAAAJ', 'wxhybK0AAAAJ', '865igKkAAAAJ', 'gd-0G7gAAAAJ', 'XrIe5pUAAAAJ', 'WNrve-UAAAAJ', 'Sb7d-rsAAAAJ', 'jjNcpoEAAAAJ', 'zbH9oDQAAAAJ', 'YEISOUUAAAAJ', 'CEmxHIIAAAAJ', 'K8GCfFUAAAAJ', 'woyG7ysAAAAJ', 'kO5JNAgAAAAJ', 'h2S9PJYAAAAJ', 'Ks_R7QUAAAAJ', 'j7qgASIAAAAJ', 'F554LkQAAAAJ', '68BNz2EAAAAJ', 'aKPeqKUAAAAJ', 'EZEq2nAAAAAJ', 'TLKI6IIAAAAJ', '14Y5cM4AAAAJ', 'hrx6UmYAAAAJ', 'OXMVfvUAAAAJ', 'vxHhYVgAAAAJ', 'ecj2zBQAAAAJ', '2UOjgIUAAAAJ', '2uWpFrYAAAAJ', 'f14V9tgAAAAJ', '7lUww9gAAAAJ', 'ZapBMd0AAAAJ', 'PUW7frUAAAAJ', 'mDTpwt4AAAAJ', '0qbe2UYAAAAJ', 'eK9LoQMAAAAJ', 'fcyOKfQAAAAJ', 'LwdtwxgAAAAJ', 'KGVA95kAAAAJ', 'w-OQujoAAAAJ', 'pxVdJaQAAAAJ', 'WgunFCMAAAAJ', 'xYXckmgAAAAJ', 'PEwbH74AAAAJ', 'MySK67AAAAAJ', 'rICorMoAAAAJ', '71ZEsnEAAAAJ', 'fEUuCnwAAAAJ', 'v-aEJg0AAAAJ', 'oQCq1zwAAAAJ', 'IvI0m4gAAAAJ', '_-XH9u4AAAAJ', '63t057wAAAAJ', 'LvAn7PgAAAAJ', '81i6w6gAAAAJ', 'YNBJE6wAAAAJ', 'xGCRFx4AAAAJ', 'm8x0JucAAAAJ', 'woSzLBMAAAAJ', 'BaSKDtwAAAAJ', '8V8ldYAAAAAJ', 'lu6LpLEAAAAJ', 'MuNOxD0AAAAJ', 'atiu2RUAAAAJ', 'mJH2wncAAAAJ', 'vZdda2kAAAAJ', 'ZJZ9IPkAAAAJ', 'jgI0b8cAAAAJ', 'dvpbWlQAAAAJ', '8vL8iawAAAAJ', '874dSqoAAAAJ', 'II16hbUAAAAJ', 'e6sPSnIAAAAJ', '8jn4yroAAAAJ', 'e7otmVcAAAAJ', 'WAceOWQAAAAJ', '07T2xwoAAAAJ', '-zEMLHMAAAAJ', 'jnde2zUAAAAJ', 'gtztfMwAAAAJ', '8VDyehEAAAAJ', 'U7ueZ7oAAAAJ', 'nA73CN4AAAAJ', 'jqGIgFEAAAAJ', 'EoFSUS8AAAAJ', '2KAhjjUAAAAJ', 'qztBLGYAAAAJ', 'n624HuoAAAAJ', 'C1b_S4oAAAAJ', '9NEFVq8AAAAJ', 'amJUMFEAAAAJ', 'L9LldjUAAAAJ', 'FRdoHO8AAAAJ', '8gWTOBAAAAAJ', 'k4BFcQYAAAAJ', '_-cbldUAAAAJ', 'fOfxmrcAAAAJ', 'nKmJb8MAAAAJ', 'KQ_zuDQAAAAJ', 'xyavlksAAAAJ', 'rCf_ErwAAAAJ', '4ZbP1jEAAAAJ', 'bywLZO4AAAAJ', 'ILKrqWsAAAAJ', 'NELTcygAAAAJ', 'QirRtL0AAAAJ', 'DIM4kDIAAAAJ', '4aJpGfoAAAAJ', 'HlDTmBQAAAAJ', 'FTMSGj8AAAAJ', 'FW_kNZUAAAAJ', 'FMTai3oAAAAJ', 'Ubt0dYYAAAAJ', 'fh73S6gAAAAJ', 'n7y4t4kAAAAJ', 'pLNavowAAAAJ', 'Av_CKFAAAAAJ', 'FXla40AAAAAJ', 'udOhrWAAAAAJ', 'DK5CRasAAAAJ', '8qSL6B0AAAAJ', 'iGRwvf8AAAAJ', '2LSEQYcAAAAJ', 'KcoBGI4AAAAJ', 'Q24H-zYAAAAJ', '422OODYAAAAJ', '1Lm7PkoAAAAJ', 'hYefmTkAAAAJ', '6Ta_ZloAAAAJ', 'cxXPYo8AAAAJ', 'etobkvIAAAAJ', 'DxtPKsoAAAAJ', 'phvwkj8AAAAJ', 'Uum-9pEAAAAJ', 'BfF_HxYAAAAJ', 'xgTq-KEAAAAJ', 'w7_VDLQAAAAJ', 'FsQFBL8AAAAJ', 'amN_LloAAAAJ', 'zMAlv2kAAAAJ', 'm2sBhW0AAAAJ', 'Q-Z9iycAAAAJ', '5_f40z0AAAAJ', '2UZqWXgAAAAJ', '3h0DltIAAAAJ', '6gPLpoAAAAAJ', 'bagQUQUAAAAJ', 'hKbogwoAAAAJ', 'G_lWBoAAAAAJ', 'xMCznYUAAAAJ', 'MfhWZakAAAAJ', 'JLp8mE4AAAAJ', 'DFWcowIAAAAJ', 'HGQ7pdkAAAAJ', 'eWid-9gAAAAJ', 'a5RNqTYAAAAJ', '4ZZ9x5IAAAAJ', 'Zi2HW81Nfg4C', 'T69aK9cAAAAJ', 'qj8T17gAAAAJ', '88iRt2UAAAAJ', 'U1pbr4QAAAAJ', 'Z7SgkKoAAAAJ', 'S3XyGGUAAAAJ', 'eT4pY6QAAAAJ', 'ZHLAT28AAAAJ', 'lkzM5rQAAAAJ', 'yuGwdrMAAAAJ', 'QIyEUo0AAAAJ', 'NEZC60MAAAAJ', 'Bhwg5M0AAAAJ', '2ardMEQAAAAJ', 'bq0AEh4AAAAJ', 'evQX8ZIAAAAJ', 'VoDTAQwAAAAJ', 'W3LWWBYAAAAJ', '6n3T4wYAAAAJ', '3I4iQioAAAAJ', 'WYl6qyEAAAAJ', '98SwU5oAAAAJ', '1-FnHS0AAAAJ', 'NLs-BRQAAAAJ', 'YZPSpjoAAAAJ', 'ogApT0QAAAAJ', 'dmxRg88AAAAJ', 'uoesCCUAAAAJ', 'wL8eFYUAAAAJ', 'rJ0mgw4AAAAJ', 'HkGeQk4AAAAJ', 'LOjiOkkAAAAJ', 'tTDZqW8AAAAJ', 'YxuS0wUAAAAJ', 'c7lKsD4AAAAJ', 'U0lf6PAAAAAJ', 'm4XzGc8AAAAJ', 'Dw3nGl4AAAAJ', '9qSTCjIAAAAJ', 'wsE4N68AAAAJ', 'UQIBiUcAAAAJ', 'W4A_p6YAAAAJ', 'Ncr-rA0AAAAJ', '_KNaj04AAAAJ', 'ujrfgIYAAAAJ', 'VGS8c4MAAAAJ', 'kgdqbFkAAAAJ', '3NuXa4kAAAAJ', 'uCyje4MAAAAJ', 'LUA94cUAAAAJ', 'Ipqdoz4AAAAJ', 'pWQiHZwAAAAJ', 'Zha7UeoAAAAJ', 'eyVQI9oAAAAJ', 'ysDOYB8AAAAJ', 'kDd7nBkAAAAJ', 'Wyzy_kwAAAAJ', 'VBwe6SoAAAAJ', '20lxrFsAAAAJ', 'LMBLCLoAAAAJ', 'lTt86awAAAAJ', '6VY2lJIAAAAJ', '_A-sTMEAAAAJ', '3YLe4roAAAAJ', '68eSr1YAAAAJ', 'LSM7_24AAAAJ', '-dW976UAAAAJ', 'FwQz-70AAAAJ', 'FXZMP7gAAAAJ', 'wxR1ySEAAAAJ', 'on_nvPYAAAAJ', 'ij3kakUAAAAJ', 'MK432xoAAAAJ', 'YQ5rrk4AAAAJ', '-itpVyoAAAAJ', 'w37NnS0AAAAJ', 'V7sNDl8AAAAJ', 'Zx1JAPsAAAAJ', 'gZO7vgMAAAAJ', 'WbOhFksAAAAJ', 'JUc8vo4AAAAJ', 'bO11ymIAAAAJ', 'J48uBYgAAAAJ', 'ICLdPeIAAAAJ', 'QG5ESHMAAAAJ', 'C9ZbB3cAAAAJ', 'vPnw3_0AAAAJ', 'cjn_w5sAAAAJ', 'jVxJuzsAAAAJ', 'eSqOv_QAAAAJ', 'wUq6S5kAAAAJ', 'Q2ticqAAAAAJ', 'GqZfs_IAAAAJ', '4lKdhFIAAAAJ', 'ESo1UqMAAAAJ', 'GQl2G48AAAAJ', 'm6GTEzAAAAAJ', 'ARb1onsAAAAJ', 'xVUl7c8AAAAJ', 'KZ_2KD0AAAAJ', '-T3mEn8AAAAJ', '3mpB9GgAAAAJ', 'Nd6e-I4AAAAJ', 'pMXS5foAAAAJ', 'AJQF8BoAAAAJ', 'l3eBfKAAAAAJ', 'wd6xr6sAAAAJ', 'AH1QvVYAAAAJ', '8ojWgOIAAAAJ', 'ctmuuXcAAAAJ', '9lUhSlQAAAAJ', 'ol_UptEAAAAJ', 'CZTlSTEAAAAJ', 'D5jh-iYAAAAJ', 'SyMeaf0AAAAJ', '0_iAccUAAAAJ', '8uBp0_MAAAAJ', 'cXnRjKoAAAAJ', '1KqATioAAAAJ', 'MuXGrMcAAAAJ', 'GxK3HXIAAAAJ', '4bbzGH8AAAAJ', 'WBkhxe8AAAAJ', 'hBVEYh0AAAAJ', 'I7zD5ewAAAAJ', 'R8ULnXoAAAAJ', '6z_M_BcAAAAJ', '-Vg2HiIAAAAJ', 'BGufKRsAAAAJ', 'phsTbmIAAAAJ', 'D7VZS-sAAAAJ', 'k8iN2L8AAAAJ', '5rOyMc4AAAAJ', 'armR6koAAAAJ', 'Nv7DaiwAAAAJ', 'nHuNwj4AAAAJ', '-uF8h6QAAAAJ', 'teAQZVkAAAAJ', 'kogHKY4AAAAJ', 'qXLUs04AAAAJ', 'wXPtvcMAAAAJ', 'dh70BsoAAAAJ', '_Ui1ED8AAAAJ', 'bDqCsToAAAAJ', 'igvvVY4AAAAJ', 'nfCea1AAAAAJ', 'rqAdo2MAAAAJ', 'tMlRGF8AAAAJ', 'QvVeW1cAAAAJ', 'UTRm7lkAAAAJ', '0F864EMAAAAJ', 'SZYfHGAAAAAJ', 'ZG2XEygAAAAJ', 'Bb-cSGUAAAAJ', 'TpjM0pIAAAAJ', 'wkporJoAAAAJ', 'TsiewjsAAAAJ', 'shGd8PYAAAAJ', 'w3f6vvQAAAAJ', 'zOeuKDgAAAAJ', 'ynyPc1kAAAAJ', 'Pc49MncAAAAJ', 'HBzVKP8AAAAJ', '_eCScb0AAAAJ', 'R2hFgkYAAAAJ', 'b6tLesMAAAAJ', 'a1wJLUMAAAAJ', '-yAccxgAAAAJ', 'MYjCPIkAAAAJ', 'OSLBUN4AAAAJ', 'j1YiUKUAAAAJ', 'AOxF9uMAAAAJ', 'MWROEL4AAAAJ', 'MzPUI0AAAAAJ', 'VzqEN78AAAAJ', 'jLtDPk0AAAAJ', 'aRp47GEAAAAJ', 'sKL6qCEAAAAJ', 'z_Ujdy8AAAAJ', 'BpHB9IwAAAAJ', 'G0x--TUAAAAJ', 'IEPRJPwAAAAJ', 'tqK4sCkAAAAJ', 'nvxBmo8AAAAJ', '8IsbMXAAAAAJ', 'Wtt9qlYAAAAJ', 'inRSsGgAAAAJ', 'cjOFYq8AAAAJ', '3wtwkYAAAAAJ', 'p0PCz3IAAAAJ', 'DwAJS14AAAAJ', 'UPl81vMAAAAJ', 'zFebFpAAAAAJ', '2vejDygAAAAJ', 'rY-sNB8AAAAJ', 'SJ1y8o0AAAAJ', '2v05nvoAAAAJ', 'iHMYeYgAAAAJ', 'IvOu8O4AAAAJ', 'qRBhEFQAAAAJ', 'dWKb1jAAAAAJ', 'EpnJPAsAAAAJ', 'nuA78i0AAAAJ', 'FW26AagAAAAJ', 'RbN3OzUAAAAJ', 'HeeY4vEAAAAJ', 'CpdrrOcAAAAJ', 'gzhQQ9sAAAAJ', 'yANRnQUAAAAJ', 'JqD6llUAAAAJ', 'ULZFAX0AAAAJ', 'uXeEHw8AAAAJ', 'y5cJwpEAAAAJ', 'PX2IQxsAAAAJ', 'SbLiVLQAAAAJ', '-lnEL90AAAAJ', 'sESMbqoAAAAJ', 'Tb9fTOsAAAAJ', 'G4mKTQkAAAAJ', 'fmYsccUAAAAJ', '_zS_O3AAAAAJ', 'kUX9uJ0AAAAJ', 'O41s2L8AAAAJ', '3cu0hnsAAAAJ', 'GMaw2_kAAAAJ', 'BWnXnZsAAAAJ', 'RC5Dq5EAAAAJ', 'mgQJL_IAAAAJ', '7FALiWMAAAAJ', '4ez_XHIAAAAJ', 'vK62IREAAAAJ', 'JDl_k1kAAAAJ', 'Lc1erYMAAAAJ', 'VOm4kA4AAAAJ', 'dLShDLkAAAAJ', 'XPCmiz4AAAAJ', '1JK12SoAAAAJ', '2z4rzNQAAAAJ', '8oCNZl4AAAAJ', 'Li28GPkAAAAJ', 'piA0zS4AAAAJ', 'qxVZ-mIAAAAJ', 'gYIzydcAAAAJ', 'db1uMJwAAAAJ', 'UzsCNMMAAAAJ', 'OpjxQ_0AAAAJ', 'f6-xmLkAAAAJ', '-GK60SsAAAAJ', '6MbR84wAAAAJ', 'G8CUseAAAAAJ', 'bAx34zoAAAAJ', 'rAFIZ2AAAAAJ', 'tRofnDkAAAAJ', 'MoyGC3wAAAAJ', 'fpKoMd8AAAAJ', 'OZhBQqcAAAAJ', 'gS24jX8AAAAJ', 'AzjeK9UAAAAJ', 'z1plcoUAAAAJ', 'G28F-ecAAAAJ', 'Pg87xmMAAAAJ', 'ov-YpD8AAAAJ', 'WECl9fUAAAAJ', 'oI0vKUIAAAAJ', 'nZlZ3ooAAAAJ', 'WKsaDwQAAAAJ', '_8xYQkIAAAAJ', 'Qjpj72cAAAAJ', 'g7auQwUAAAAJ', 'cTEskCwAAAAJ', 'SGYdjx0AAAAJ', '_DA8BqAAAAAJ', 'VHFBuXUAAAAJ', 's_Al2GQAAAAJ', 'xAUan0oAAAAJ', 'FkxagywAAAAJ', 'HbicYHUAAAAJ', 'p_xskwUAAAAJ', '4v94_skAAAAJ', '3RSI4sgAAAAJ', 'e3AwF_oAAAAJ', 'Q7ChJ-gAAAAJ', 'V6naXjgAAAAJ', '6kVPYpYAAAAJ', '_BbDEQgAAAAJ', 'r365MK4AAAAJ', 'JKSK648AAAAJ', 'AG0dUp8AAAAJ', 'DToanvYAAAAJ', 'jO0lTGkAAAAJ', 'AN3_0nsAAAAJ', 'hYw6D10AAAAJ', 'Tzp0jPgAAAAJ', 'GFGNx9AAAAAJ', 'ibiooRgAAAAJ', 'Ymc2m2EAAAAJ', 'YngID0kAAAAJ', 'nBR-_ZgAAAAJ', 'fCzjJs4AAAAJ', 'SiUcAfIAAAAJ', 'fTitlUMAAAAJ', 'KNNlmzQAAAAJ', 'FTVom6gAAAAJ', 'h-azHW8AAAAJ', 'hFwsRS4AAAAJ', 'AJIXYb0AAAAJ', 'rbNcIw0AAAAJ'], 'updateTime': '2021-10-18 18:50:29'}\n",
      "{'userID': ['ZyOio_YAAAAJ', 'CmWHB9gAAAAJ', 'W4SZGV8AAAAJ', 'L_HG640AAAAJ', 'aqgFQqMAAAAJ', 'rr8pZoUAAAAJ', 'k9SFchAAAAAJ', 'T1lNNLkAAAAJ', 'Y7MiQqkAAAAJ', '4wWQsj8AAAAJ', '2K3F0MMAAAAJ', 'odOmEY0AAAAJ', 'i_k7UrQAAAAJ', 'pw6xnRcAAAAJ', '0Xa0gGwAAAAJ', 'zN1unagAAAAJ', 'N0qz4VkAAAAJ', 'efOGg5IAAAAJ', 'WjCG3owAAAAJ', 'N3oasbQAAAAJ', 'H8fpNVYAAAAJ', 'lVpFF40AAAAJ', 'Va6LlhgAAAAJ', 'xz6_iTEAAAAJ', 'dDhxUmgAAAAJ', 'QrXr-4cAAAAJ', 'BAtd7FcAAAAJ', 'dgVYYngAAAAJ', 'vt1EAJcAAAAJ', 'HNhEAN8AAAAJ', '1gr9rvUAAAAJ', 'cqxv9PAAAAAJ', 'MUJ51_gAAAAJ', 'RDf-d68AAAAJ', 'KoJrMIAAAAAJ', 'Fd6mdHcAAAAJ', '33ynLk8AAAAJ', '4BEvaw8AAAAJ', 'Z-kAK98AAAAJ', 'RqbpaXcAAAAJ', 'UXY08zEAAAAJ', '8BBz_k0AAAAJ', 'yWTAbFAAAAAJ', 'NAzAaY0AAAAJ', 'xVRKg-8AAAAJ', 'T6UTmeMAAAAJ', 'OggVQCkAAAAJ', 'DgLEyZgAAAAJ', 'uuacDrAAAAAJ', 'm6IbAvkAAAAJ', 'AeAOEM8AAAAJ', 'C5J787MAAAAJ', '7HU0UoUAAAAJ', 'nDj-zN0AAAAJ', 'Tp_e8ikAAAAJ', 'k2niISoAAAAJ', 'c5nCaXEAAAAJ', 'lyW8fWYAAAAJ', 'GFQXXzQAAAAJ', 'uXQBuxAAAAAJ', 'SBPYOOMAAAAJ', 'qwj5Ww8AAAAJ', 'DMPOaIMAAAAJ', 'CbXslqQAAAAJ', 'SaB00PgAAAAJ', '4WVfFAoAAAAJ', 'ukAwOdAAAAAJ', 'NXXCqScAAAAJ', '5GAAs7IAAAAJ', 'ILUeAloAAAAJ', 'JaqWSe4AAAAJ', 'IRwn3fYAAAAJ', '86V0RSQAAAAJ', 'FKOqtF8AAAAJ', 'XsyLs6AAAAAJ', 'ZrRZFc0AAAAJ', 'dQuDSboAAAAJ', 'sRg-VkwAAAAJ', 'yJ5qKBYAAAAJ', '9raRJDoAAAAJ', 'y2mxpbcAAAAJ', 'c6TtVxkAAAAJ', 'fv_SUKIAAAAJ', 'rsGFcxwAAAAJ', 'aC5-LiEAAAAJ', 'Vkr8yxkAAAAJ', 'RWaXcd0AAAAJ', '3r61E7kAAAAJ', 'U2Y5Bj8AAAAJ', 'TZdYfmYAAAAJ', 'voTaEpgAAAAJ', 'dPX0wQcAAAAJ', 'qyOs7OMAAAAJ', '0IusdKAAAAAJ', 'd3OQPe8AAAAJ', 'fYTIHUYAAAAJ', '-cTBEVAAAAAJ', '0V_-F5sAAAAJ', 'm68RfCIAAAAJ', 'OkOGR_8AAAAJ', 'aQeTAr4AAAAJ', 'jA4Nm3oAAAAJ', 'NldhiuYAAAAJ', 'Lcg-sRwAAAAJ', '-21GKOQAAAAJ', 'WaVpE78AAAAJ', 'UdE224wAAAAJ', 'UW3tRn8AAAAJ', 'srHC1roAAAAJ', '-3IO6dcAAAAJ', 'trgOvPoAAAAJ', 'Io606VwAAAAJ', '8fZalZUAAAAJ', 'thaKgo4AAAAJ', 'SQPOa14AAAAJ', 'Pdt6-qMAAAAJ', 'ZwmIw4EAAAAJ', '1iduKLwAAAAJ', '3C_Bu5UAAAAJ', '5bEU2N4AAAAJ', '3Bawtm4AAAAJ', '__OKD-kAAAAJ', 'jhbInA4AAAAJ', '9L09pdwAAAAJ', 'XrJoHiQAAAAJ', 'PKcjcT4AAAAJ', 'Rl1olXgAAAAJ', 'MWcMGQQAAAAJ', 'JYmAww4AAAAJ', 'nNXHNoYAAAAJ', '_wA03WkAAAAJ', 'TjK7hu8AAAAJ', 'PIQ_ZhUAAAAJ', 'kS3rxRsAAAAJ', 'beYWV-AAAAAJ', 'wFTKxuUAAAAJ', '-PkXCQQAAAAJ', 'mgABsA4AAAAJ', 'kVry5EkAAAAJ', 'NTYc27IAAAAJ', '58GAc80AAAAJ', 'aYRVvs4AAAAJ', 'YdUlqpYAAAAJ', '7COqXrEAAAAJ', 'GLGGnLUAAAAJ', 'iqSPIOoAAAAJ', 'jDLHy60AAAAJ', 'DGBAc6QAAAAJ', 'woSKVtwAAAAJ', 'cwUgs64AAAAJ', '7Vo2q94AAAAJ', 'NQFTr-4AAAAJ', 'gWQzBQMAAAAJ', 'zGqIh9UAAAAJ', 'r6fl93QAAAAJ', 'dGtTcrYAAAAJ', 'GLwW01cAAAAJ', 'rNW3ReoAAAAJ', 'm9nwWWgAAAAJ', 'Cm-n3-0AAAAJ', 'gysdMxwAAAAJ', '613GPbQAAAAJ', 'QTqii4kAAAAJ', '9dLinQwAAAAJ', 'QUQ8UYsAAAAJ', 'iq2S36EAAAAJ', 'ilfwfuUAAAAJ', 'KMqju5UAAAAJ', 'P2n-dZEAAAAJ', 'gBhZfE0AAAAJ', 'O5EtAaUAAAAJ', 'YwXwvYEAAAAJ', 'GCJHdOIAAAAJ', 'JhyW-nAAAAAJ', 'v3sdL6MAAAAJ', 'kWrpsbMAAAAJ', 'ieLRNKMAAAAJ', 'IkhgmfEAAAAJ', 'wn7bIdAAAAAJ', 'NItHMRYAAAAJ', 'IpBEFSkAAAAJ', '-cW_vtIAAAAJ', 'tJ6JXRYAAAAJ', 'pjN7iWYAAAAJ', 'mvjz77kAAAAJ', 'AtnyIEcAAAAJ', 'X88esbcAAAAJ', 'Uq5KrMoAAAAJ', 'OIhak1YAAAAJ', 'dY3iiG0AAAAJ', 'DF9khKUAAAAJ', 'AOQXS7QAAAAJ', 'yQeoc1gAAAAJ', 'C30OzQ0AAAAJ', 'YCqKw-QAAAAJ', 'wjT0JyIAAAAJ', 'KSGoY8wAAAAJ', 'YCSw8-8AAAAJ', 'UuRy_zUAAAAJ', 'llli-OIAAAAJ', 'muLakuUAAAAJ', 'YEQpmqsAAAAJ', 'BB25QXUAAAAJ', 'PZ7w9y4AAAAJ', 'upE5v28AAAAJ', 'Sq5P41wAAAAJ', '2a9C7X8AAAAJ', '1QMZI4kAAAAJ', 'EgbEMqsAAAAJ', '7k2dTdQAAAAJ', 'VD2MYmwAAAAJ', 'lAp-1WEAAAAJ', 'WSLkeDkAAAAJ', 'tkceMM0AAAAJ', 'yNQHbGoAAAAJ', 'vZAmtioAAAAJ', 'c28AlioAAAAJ', 'VKJdvUcAAAAJ', 'skv-Qr8AAAAJ', 'JOCesP0AAAAJ', 'mFga3zkAAAAJ', 'jAmaPr4AAAAJ', 'Y1Yb5lwAAAAJ', 'Px7h8KEAAAAJ', '2YgNmn4AAAAJ', 'j76uSIwAAAAJ', 'q4J3GXAAAAAJ', 'WoX4OdMAAAAJ', 'GBjOgg4AAAAJ', '48mGRJYAAAAJ', 'GUdxcukAAAAJ', 'Gmnfph4AAAAJ', 'yfMGVvkAAAAJ', 'czo3bAwAAAAJ', 'l9trEVYAAAAJ', 'xw4WYD4AAAAJ', 'QrhenzoAAAAJ', 'fTxDiGcAAAAJ', 'VOEjE-wAAAAJ', 'VY1E9DAAAAAJ', 'vt1vYnEAAAAJ', 'DdXWqnUAAAAJ', 'qsFpjOYAAAAJ', 'SvycV6QAAAAJ', 'SrVLpW8AAAAJ', 'PuPa3ekAAAAJ', 'MaqoEGAAAAAJ', 'YMPnscAAAAAJ', 'SZbBm9AAAAAJ', 'Y_b9Ti8AAAAJ', 'Xs7cKMwAAAAJ', 'HunlE1AAAAAJ', 'ZJEup2gAAAAJ', 'nbHjRiYAAAAJ', 'nQZ3m_EAAAAJ', '_ajcbxwAAAAJ', 'EFE2gpQAAAAJ', 'v7WygEAAAAAJ', 'JcJXCDcAAAAJ', 'X7fKeJkAAAAJ', 'UjsgIWYAAAAJ', '-sbw1JIAAAAJ', 'A6j9ikkAAAAJ', '6AXZPtwAAAAJ', 'DK37M8MAAAAJ', 'xdl2MQMAAAAJ', 'oQtf0ZAAAAAJ', 'IJ1YcbAAAAAJ', '28oHCFwAAAAJ', 'p7p6TDUAAAAJ', 'rVrL-tEAAAAJ', 'ERqFrMoAAAAJ', 'AUKMRrYAAAAJ', 'u4oo9HoAAAAJ', '-lapyDsAAAAJ', '4N6ViewAAAAJ', '48ZphCEAAAAJ', 'st1j2_EAAAAJ', 'SzEBdA8AAAAJ', '4urrvVQAAAAJ', 'n_97db4AAAAJ', 'xuQv1QIAAAAJ', 'e4pk9x0AAAAJ', '02OCjKwAAAAJ', 'lx8eFS4AAAAJ', 'i46Yi0YAAAAJ', 'SXFtLQUAAAAJ', 'dLs3In8AAAAJ', 'xLFMZBUAAAAJ', 'ONrhgpQAAAAJ', 'WmQw5ZcAAAAJ', 'D_uGfwIAAAAJ', 't5Xsx0IAAAAJ', '2uw6mskAAAAJ', 'm-9CO3QAAAAJ', '17-Ze24AAAAJ', '_H_Vh-MAAAAJ', 'xnrTch4AAAAJ', 'mWHaIvsAAAAJ', 'uCHNBwUAAAAJ', 'FwEz5s4AAAAJ', 'xC-v_aUAAAAJ', 'oLi7xJ0AAAAJ', 'qvgzd6gAAAAJ', 'TPe7WjMAAAAJ', '2PuoKwQAAAAJ', 'ADJe1AsAAAAJ', 'DzYVONEAAAAJ', 'AzPmZbkAAAAJ', 'tbIPV0MAAAAJ', '5YHd6k4AAAAJ', 'ekt11IAAAAAJ', 'lWjbBZEAAAAJ', '5_ONzJUAAAAJ', 'LUUIw_EAAAAJ', 'e8qul0UAAAAJ', 'xVOm_NAAAAAJ', 'EiWmY9MAAAAJ', 'wT6Qe4YAAAAJ', 'h602wLIAAAAJ', 'Dr8VE04AAAAJ', '8q9tsLAAAAAJ', 'QCCWMn8AAAAJ', 'rsV-vNEAAAAJ', 'z1kV6AIAAAAJ', 't8l-kuoAAAAJ', 'VvLNgToAAAAJ', 'ooqJTvEAAAAJ', 'N7FjrTgAAAAJ', 'CRy6AxsAAAAJ', 'GMelftgAAAAJ', '4EkAsy0AAAAJ', 'S3mYTmwAAAAJ', 'z876m4kAAAAJ', '6l7Zw3cAAAAJ', 'yqv_omUAAAAJ', 'mbEp-w0AAAAJ', 'U4BfEhoAAAAJ', 'pWaOsMIAAAAJ', 'uNx-PRQAAAAJ', '8J6IfPoAAAAJ', 'wiunwsMAAAAJ', 'juKSgKYAAAAJ', 'Z7sGzmkAAAAJ', '8Dv0d58AAAAJ', '6_FDUGEAAAAJ', 'uvQwHRcAAAAJ', 'RjSyxmUAAAAJ', 'fJt9270AAAAJ', '_LZdYzEAAAAJ', '0gRGDLkAAAAJ', 'uPVvMrUAAAAJ', '7OFg_9UAAAAJ', 'Gughv5sAAAAJ', '4K5XpIgAAAAJ', 'QmVIFrwAAAAJ', '76bvNPIAAAAJ', '8H7qQ2cAAAAJ', '5Vk0WmYAAAAJ', 'BgK8V7cAAAAJ', 'z8ubwx8AAAAJ', 'ndWxqQoAAAAJ', 'rYd0GEsAAAAJ', 'RmqIIvEAAAAJ', 'ljMkptwAAAAJ', 'lYGQc-kAAAAJ', 'zGne9YAAAAAJ', 'mPWfFC0AAAAJ', 'fDB12QEAAAAJ', 'mAv5xNQAAAAJ', 'nCv6b9wAAAAJ', 'xFIGfC8AAAAJ', '5A7FIiEAAAAJ', 'A14PwdkAAAAJ', 'kXCyQlAAAAAJ', '0LWSBv0AAAAJ', 'wI4N_YAAAAAJ', 'Z2tqKq4AAAAJ', 'pw4-tVUAAAAJ', 'Gp3LasIAAAAJ', 'BWbOWI0AAAAJ', 'nS1tCSYAAAAJ', 'Wkb8XgEAAAAJ', 'KE_9PAMAAAAJ', 'rjVVF74AAAAJ', '6CKW2A0AAAAJ', 'u_hH-fUAAAAJ', 'HfMJR_AAAAAJ', '6ZSwOZgAAAAJ', 'RYKdTU8AAAAJ', 'EADfJlIAAAAJ', 'fQhELr8AAAAJ', '86AQGvcAAAAJ', 'pxsVFGgAAAAJ', 'gfdhLB0AAAAJ', 'WV2GFrkAAAAJ', 'ml4ryBQAAAAJ', 'SiAXIS0AAAAJ', 'CiCOnrwAAAAJ', '9aXI4LkAAAAJ', 'qkk8XnQAAAAJ', 'CHHWANEAAAAJ', 'W6gIwugAAAAJ', 'l_A9hcsAAAAJ', 'dVKZyG0AAAAJ', 'dKUeUIYAAAAJ', 'kMN50N4AAAAJ', 'BbP_2mIAAAAJ', 'Bq3e_pIAAAAJ', 'kf3C60wAAAAJ', 'OXv2G2kAAAAJ', 'UqcsApEAAAAJ', 'jXaZq_EAAAAJ', 'axw5D8IAAAAJ', 'XzGQ0CgAAAAJ', 'ZHtyqOoAAAAJ', '05uQHIgAAAAJ', '6fh76OQAAAAJ', 'MastYM0AAAAJ', 'hRQ0bCIAAAAJ', 'R9Xgs2IAAAAJ', 'cq1YetUAAAAJ', 'caDdNu0AAAAJ', 'DCRG_voAAAAJ', 'p_ryhTMAAAAJ', 'TkDsba8AAAAJ', 'tkSFvr0AAAAJ', '1F72wDYAAAAJ', '2jQrOi8AAAAJ', '7BeWzswAAAAJ', 'm62ui1cAAAAJ', 'VKwK6QIAAAAJ', 'JPOiXGkAAAAJ', '_1qe2mYAAAAJ', 'Pfj5nWIAAAAJ', 'CNhr58sAAAAJ', 'WrLjBYgAAAAJ', 'Cmm8ZugAAAAJ', '_o3JW7IAAAAJ', 'lPuGm8YAAAAJ', 'fdrMt1gAAAAJ', 'w7m1KhkAAAAJ', '9-5DyZEAAAAJ', 'wxhybK0AAAAJ', '865igKkAAAAJ', 'gd-0G7gAAAAJ', 'XrIe5pUAAAAJ', 'WNrve-UAAAAJ', 'Sb7d-rsAAAAJ', 'jjNcpoEAAAAJ', 'zbH9oDQAAAAJ', 'YEISOUUAAAAJ', 'CEmxHIIAAAAJ', 'K8GCfFUAAAAJ', 'woyG7ysAAAAJ', 'kO5JNAgAAAAJ', 'h2S9PJYAAAAJ', 'Ks_R7QUAAAAJ', 'j7qgASIAAAAJ', 'F554LkQAAAAJ', '68BNz2EAAAAJ', 'aKPeqKUAAAAJ', 'EZEq2nAAAAAJ', 'TLKI6IIAAAAJ', '14Y5cM4AAAAJ', 'hrx6UmYAAAAJ', 'OXMVfvUAAAAJ', 'vxHhYVgAAAAJ', 'ecj2zBQAAAAJ', '2UOjgIUAAAAJ', '2uWpFrYAAAAJ', 'f14V9tgAAAAJ', '7lUww9gAAAAJ', 'ZapBMd0AAAAJ', 'PUW7frUAAAAJ', 'mDTpwt4AAAAJ', '0qbe2UYAAAAJ', 'eK9LoQMAAAAJ', 'fcyOKfQAAAAJ', 'LwdtwxgAAAAJ', 'KGVA95kAAAAJ', 'w-OQujoAAAAJ', 'pxVdJaQAAAAJ', 'WgunFCMAAAAJ', 'xYXckmgAAAAJ', 'PEwbH74AAAAJ', 'MySK67AAAAAJ', 'rICorMoAAAAJ', '71ZEsnEAAAAJ', 'fEUuCnwAAAAJ', 'v-aEJg0AAAAJ', 'oQCq1zwAAAAJ', 'IvI0m4gAAAAJ', '_-XH9u4AAAAJ', '63t057wAAAAJ', 'LvAn7PgAAAAJ', '81i6w6gAAAAJ', 'YNBJE6wAAAAJ', 'xGCRFx4AAAAJ', 'm8x0JucAAAAJ', 'woSzLBMAAAAJ', 'BaSKDtwAAAAJ', '8V8ldYAAAAAJ', 'lu6LpLEAAAAJ', 'MuNOxD0AAAAJ', 'atiu2RUAAAAJ', 'mJH2wncAAAAJ', 'vZdda2kAAAAJ', 'ZJZ9IPkAAAAJ', 'jgI0b8cAAAAJ', 'dvpbWlQAAAAJ', '8vL8iawAAAAJ', '874dSqoAAAAJ', 'II16hbUAAAAJ', 'e6sPSnIAAAAJ', '8jn4yroAAAAJ', 'e7otmVcAAAAJ', 'WAceOWQAAAAJ', '07T2xwoAAAAJ', '-zEMLHMAAAAJ', 'jnde2zUAAAAJ', 'gtztfMwAAAAJ', '8VDyehEAAAAJ', 'U7ueZ7oAAAAJ', 'nA73CN4AAAAJ', 'jqGIgFEAAAAJ', 'EoFSUS8AAAAJ', '2KAhjjUAAAAJ', 'qztBLGYAAAAJ', 'n624HuoAAAAJ', 'C1b_S4oAAAAJ', '9NEFVq8AAAAJ', 'amJUMFEAAAAJ', 'L9LldjUAAAAJ', 'FRdoHO8AAAAJ', '8gWTOBAAAAAJ', 'k4BFcQYAAAAJ', '_-cbldUAAAAJ', 'fOfxmrcAAAAJ', 'nKmJb8MAAAAJ', 'KQ_zuDQAAAAJ', 'xyavlksAAAAJ', 'rCf_ErwAAAAJ', '4ZbP1jEAAAAJ', 'bywLZO4AAAAJ', 'ILKrqWsAAAAJ', 'NELTcygAAAAJ', 'QirRtL0AAAAJ', 'DIM4kDIAAAAJ', '4aJpGfoAAAAJ', 'HlDTmBQAAAAJ', 'FTMSGj8AAAAJ', 'FW_kNZUAAAAJ', 'FMTai3oAAAAJ', 'Ubt0dYYAAAAJ', 'fh73S6gAAAAJ', 'n7y4t4kAAAAJ', 'pLNavowAAAAJ', 'Av_CKFAAAAAJ', 'FXla40AAAAAJ', 'udOhrWAAAAAJ', 'DK5CRasAAAAJ', '8qSL6B0AAAAJ', 'iGRwvf8AAAAJ', '2LSEQYcAAAAJ', 'KcoBGI4AAAAJ', 'Q24H-zYAAAAJ', '422OODYAAAAJ', '1Lm7PkoAAAAJ', 'hYefmTkAAAAJ', '6Ta_ZloAAAAJ', 'cxXPYo8AAAAJ', 'etobkvIAAAAJ', 'DxtPKsoAAAAJ', 'phvwkj8AAAAJ', 'Uum-9pEAAAAJ', 'BfF_HxYAAAAJ', 'xgTq-KEAAAAJ', 'w7_VDLQAAAAJ', 'FsQFBL8AAAAJ', 'amN_LloAAAAJ', 'zMAlv2kAAAAJ', 'm2sBhW0AAAAJ', 'Q-Z9iycAAAAJ', '5_f40z0AAAAJ', '2UZqWXgAAAAJ', '3h0DltIAAAAJ', '6gPLpoAAAAAJ', 'bagQUQUAAAAJ', 'hKbogwoAAAAJ', 'G_lWBoAAAAAJ', 'xMCznYUAAAAJ', 'MfhWZakAAAAJ', 'JLp8mE4AAAAJ', 'DFWcowIAAAAJ', 'HGQ7pdkAAAAJ', 'eWid-9gAAAAJ', 'a5RNqTYAAAAJ', '4ZZ9x5IAAAAJ', 'Zi2HW81Nfg4C', 'T69aK9cAAAAJ', 'qj8T17gAAAAJ', '88iRt2UAAAAJ', 'U1pbr4QAAAAJ', 'Z7SgkKoAAAAJ', 'S3XyGGUAAAAJ', 'eT4pY6QAAAAJ', 'ZHLAT28AAAAJ', 'lkzM5rQAAAAJ', 'yuGwdrMAAAAJ', 'QIyEUo0AAAAJ', 'NEZC60MAAAAJ', 'Bhwg5M0AAAAJ', '2ardMEQAAAAJ', 'bq0AEh4AAAAJ', 'evQX8ZIAAAAJ', 'VoDTAQwAAAAJ', 'W3LWWBYAAAAJ', '6n3T4wYAAAAJ', '3I4iQioAAAAJ', 'WYl6qyEAAAAJ', '98SwU5oAAAAJ', '1-FnHS0AAAAJ', 'NLs-BRQAAAAJ', 'YZPSpjoAAAAJ', 'ogApT0QAAAAJ', 'dmxRg88AAAAJ', 'uoesCCUAAAAJ', 'wL8eFYUAAAAJ', 'rJ0mgw4AAAAJ', 'HkGeQk4AAAAJ', 'LOjiOkkAAAAJ', 'tTDZqW8AAAAJ', 'YxuS0wUAAAAJ', 'c7lKsD4AAAAJ', 'U0lf6PAAAAAJ', 'm4XzGc8AAAAJ', 'Dw3nGl4AAAAJ', '9qSTCjIAAAAJ', 'wsE4N68AAAAJ', 'UQIBiUcAAAAJ', 'W4A_p6YAAAAJ', 'Ncr-rA0AAAAJ', '_KNaj04AAAAJ', 'ujrfgIYAAAAJ', 'VGS8c4MAAAAJ', 'kgdqbFkAAAAJ', '3NuXa4kAAAAJ', 'uCyje4MAAAAJ', 'LUA94cUAAAAJ', 'Ipqdoz4AAAAJ', 'pWQiHZwAAAAJ', 'Zha7UeoAAAAJ', 'eyVQI9oAAAAJ', 'ysDOYB8AAAAJ', 'kDd7nBkAAAAJ', 'Wyzy_kwAAAAJ', 'VBwe6SoAAAAJ', '20lxrFsAAAAJ', 'LMBLCLoAAAAJ', 'lTt86awAAAAJ', '6VY2lJIAAAAJ', '_A-sTMEAAAAJ', '3YLe4roAAAAJ', '68eSr1YAAAAJ', 'LSM7_24AAAAJ', '-dW976UAAAAJ', 'FwQz-70AAAAJ', 'FXZMP7gAAAAJ', 'wxR1ySEAAAAJ', 'on_nvPYAAAAJ', 'ij3kakUAAAAJ', 'MK432xoAAAAJ', 'YQ5rrk4AAAAJ', '-itpVyoAAAAJ', 'w37NnS0AAAAJ', 'V7sNDl8AAAAJ', 'Zx1JAPsAAAAJ', 'gZO7vgMAAAAJ', 'WbOhFksAAAAJ', 'JUc8vo4AAAAJ', 'bO11ymIAAAAJ', 'J48uBYgAAAAJ', 'ICLdPeIAAAAJ', 'QG5ESHMAAAAJ', 'C9ZbB3cAAAAJ', 'vPnw3_0AAAAJ', 'cjn_w5sAAAAJ', 'jVxJuzsAAAAJ', 'eSqOv_QAAAAJ', 'wUq6S5kAAAAJ', 'Q2ticqAAAAAJ', 'GqZfs_IAAAAJ', '4lKdhFIAAAAJ', 'ESo1UqMAAAAJ', 'GQl2G48AAAAJ', 'm6GTEzAAAAAJ', 'ARb1onsAAAAJ', 'xVUl7c8AAAAJ', 'KZ_2KD0AAAAJ', '-T3mEn8AAAAJ', '3mpB9GgAAAAJ', 'Nd6e-I4AAAAJ', 'pMXS5foAAAAJ', 'AJQF8BoAAAAJ', 'l3eBfKAAAAAJ', 'wd6xr6sAAAAJ', 'AH1QvVYAAAAJ', '8ojWgOIAAAAJ', 'ctmuuXcAAAAJ', '9lUhSlQAAAAJ', 'ol_UptEAAAAJ', 'CZTlSTEAAAAJ', 'D5jh-iYAAAAJ', 'SyMeaf0AAAAJ', '0_iAccUAAAAJ', '8uBp0_MAAAAJ', 'cXnRjKoAAAAJ', '1KqATioAAAAJ', 'MuXGrMcAAAAJ', 'GxK3HXIAAAAJ', '4bbzGH8AAAAJ', 'WBkhxe8AAAAJ', 'hBVEYh0AAAAJ', 'I7zD5ewAAAAJ', 'R8ULnXoAAAAJ', '6z_M_BcAAAAJ', '-Vg2HiIAAAAJ', 'BGufKRsAAAAJ', 'phsTbmIAAAAJ', 'D7VZS-sAAAAJ', 'k8iN2L8AAAAJ', '5rOyMc4AAAAJ', 'armR6koAAAAJ', 'Nv7DaiwAAAAJ', 'nHuNwj4AAAAJ', '-uF8h6QAAAAJ', 'teAQZVkAAAAJ', 'kogHKY4AAAAJ', 'qXLUs04AAAAJ', 'wXPtvcMAAAAJ', 'dh70BsoAAAAJ', '_Ui1ED8AAAAJ', 'bDqCsToAAAAJ', 'igvvVY4AAAAJ', 'nfCea1AAAAAJ', 'rqAdo2MAAAAJ', 'tMlRGF8AAAAJ', 'QvVeW1cAAAAJ', 'UTRm7lkAAAAJ', '0F864EMAAAAJ', 'SZYfHGAAAAAJ', 'ZG2XEygAAAAJ', 'Bb-cSGUAAAAJ', 'TpjM0pIAAAAJ', 'wkporJoAAAAJ', 'TsiewjsAAAAJ', 'shGd8PYAAAAJ', 'w3f6vvQAAAAJ', 'zOeuKDgAAAAJ', 'ynyPc1kAAAAJ', 'Pc49MncAAAAJ', 'HBzVKP8AAAAJ', '_eCScb0AAAAJ', 'R2hFgkYAAAAJ', 'b6tLesMAAAAJ', 'a1wJLUMAAAAJ', '-yAccxgAAAAJ', 'MYjCPIkAAAAJ', 'OSLBUN4AAAAJ', 'j1YiUKUAAAAJ', 'AOxF9uMAAAAJ', 'MWROEL4AAAAJ', 'MzPUI0AAAAAJ', 'VzqEN78AAAAJ', 'jLtDPk0AAAAJ', 'aRp47GEAAAAJ', 'sKL6qCEAAAAJ', 'z_Ujdy8AAAAJ', 'BpHB9IwAAAAJ', 'G0x--TUAAAAJ', 'IEPRJPwAAAAJ', 'tqK4sCkAAAAJ', 'nvxBmo8AAAAJ', '8IsbMXAAAAAJ', 'Wtt9qlYAAAAJ', 'inRSsGgAAAAJ', 'cjOFYq8AAAAJ', '3wtwkYAAAAAJ', 'p0PCz3IAAAAJ', 'DwAJS14AAAAJ', 'UPl81vMAAAAJ', 'zFebFpAAAAAJ', '2vejDygAAAAJ', 'rY-sNB8AAAAJ', 'SJ1y8o0AAAAJ', '2v05nvoAAAAJ', 'iHMYeYgAAAAJ', 'IvOu8O4AAAAJ', 'qRBhEFQAAAAJ', 'dWKb1jAAAAAJ', 'EpnJPAsAAAAJ', 'nuA78i0AAAAJ', 'FW26AagAAAAJ', 'RbN3OzUAAAAJ', 'HeeY4vEAAAAJ', 'CpdrrOcAAAAJ', 'gzhQQ9sAAAAJ', 'yANRnQUAAAAJ', 'JqD6llUAAAAJ', 'ULZFAX0AAAAJ', 'uXeEHw8AAAAJ', 'y5cJwpEAAAAJ', 'PX2IQxsAAAAJ', 'SbLiVLQAAAAJ', '-lnEL90AAAAJ', 'sESMbqoAAAAJ', 'Tb9fTOsAAAAJ', 'G4mKTQkAAAAJ', 'fmYsccUAAAAJ', '_zS_O3AAAAAJ', 'kUX9uJ0AAAAJ', 'O41s2L8AAAAJ', '3cu0hnsAAAAJ', 'GMaw2_kAAAAJ', 'BWnXnZsAAAAJ', 'RC5Dq5EAAAAJ', 'mgQJL_IAAAAJ', '7FALiWMAAAAJ', '4ez_XHIAAAAJ', 'vK62IREAAAAJ', 'JDl_k1kAAAAJ', 'Lc1erYMAAAAJ', 'VOm4kA4AAAAJ', 'dLShDLkAAAAJ', 'XPCmiz4AAAAJ', '1JK12SoAAAAJ', '2z4rzNQAAAAJ', '8oCNZl4AAAAJ', 'Li28GPkAAAAJ', 'piA0zS4AAAAJ', 'qxVZ-mIAAAAJ', 'gYIzydcAAAAJ', 'db1uMJwAAAAJ', 'UzsCNMMAAAAJ', 'OpjxQ_0AAAAJ', 'f6-xmLkAAAAJ', '-GK60SsAAAAJ', '6MbR84wAAAAJ', 'G8CUseAAAAAJ', 'bAx34zoAAAAJ', 'rAFIZ2AAAAAJ', 'tRofnDkAAAAJ', 'MoyGC3wAAAAJ', 'fpKoMd8AAAAJ', 'OZhBQqcAAAAJ', 'gS24jX8AAAAJ', 'AzjeK9UAAAAJ', 'z1plcoUAAAAJ', 'G28F-ecAAAAJ', 'Pg87xmMAAAAJ', 'ov-YpD8AAAAJ', 'WECl9fUAAAAJ', 'oI0vKUIAAAAJ', 'nZlZ3ooAAAAJ', 'WKsaDwQAAAAJ', '_8xYQkIAAAAJ', 'Qjpj72cAAAAJ', 'g7auQwUAAAAJ', 'cTEskCwAAAAJ', 'SGYdjx0AAAAJ', '_DA8BqAAAAAJ', 'VHFBuXUAAAAJ', 's_Al2GQAAAAJ', 'xAUan0oAAAAJ', 'FkxagywAAAAJ', 'HbicYHUAAAAJ', 'p_xskwUAAAAJ', '4v94_skAAAAJ', '3RSI4sgAAAAJ', 'e3AwF_oAAAAJ', 'Q7ChJ-gAAAAJ', 'V6naXjgAAAAJ', '6kVPYpYAAAAJ', '_BbDEQgAAAAJ', 'r365MK4AAAAJ', 'JKSK648AAAAJ', 'AG0dUp8AAAAJ', 'DToanvYAAAAJ', 'jO0lTGkAAAAJ', 'AN3_0nsAAAAJ', 'hYw6D10AAAAJ', 'Tzp0jPgAAAAJ', 'GFGNx9AAAAAJ', 'ibiooRgAAAAJ', 'Ymc2m2EAAAAJ', 'YngID0kAAAAJ', 'nBR-_ZgAAAAJ', 'fCzjJs4AAAAJ', 'SiUcAfIAAAAJ', 'fTitlUMAAAAJ', 'KNNlmzQAAAAJ', 'FTVom6gAAAAJ', 'h-azHW8AAAAJ', 'hFwsRS4AAAAJ', 'AJIXYb0AAAAJ', 'rbNcIw0AAAAJ'], 'updateTime': '2021-10-18 18:50:29'}\n",
      "1\n"
     ]
    },
    {
     "ename": "NameError",
     "evalue": "name 'update_labelinfo' is not defined",
     "output_type": "error",
     "traceback": [
      "\u001b[1;31m---------------------------------------------------------------------------\u001b[0m",
      "\u001b[1;31mNameError\u001b[0m                                 Traceback (most recent call last)",
      "\u001b[1;32m<ipython-input-18-a653ae48b84f>\u001b[0m in \u001b[0;36m<module>\u001b[1;34m\u001b[0m\n\u001b[1;32m----> 1\u001b[1;33m \u001b[0mLabelCrawl\u001b[0m\u001b[1;33m(\u001b[0m\u001b[1;33m)\u001b[0m\u001b[1;33m\u001b[0m\u001b[1;33m\u001b[0m\u001b[0m\n\u001b[0m",
      "\u001b[1;32m<ipython-input-10-beff963d963c>\u001b[0m in \u001b[0;36mLabelCrawl\u001b[1;34m()\u001b[0m\n\u001b[0;32m      9\u001b[0m     \u001b[1;31m# label list 為空或格式錯誤時回傳False,格式錯誤修正後回傳rewriteInfo\u001b[0m\u001b[1;33m\u001b[0m\u001b[1;33m\u001b[0m\u001b[1;33m\u001b[0m\u001b[0m\n\u001b[0;32m     10\u001b[0m     \u001b[1;32mif\u001b[0m\u001b[1;33m(\u001b[0m\u001b[0mcheck_labelformat\u001b[0m \u001b[1;33m!=\u001b[0m \u001b[1;32mFalse\u001b[0m\u001b[1;33m)\u001b[0m\u001b[1;33m:\u001b[0m\u001b[1;33m\u001b[0m\u001b[1;33m\u001b[0m\u001b[0m\n\u001b[1;32m---> 11\u001b[1;33m         \u001b[0mupdate_labelinfo\u001b[0m\u001b[1;33m(\u001b[0m\u001b[0mlabellist\u001b[0m\u001b[1;33m,\u001b[0m \u001b[0mlabel\u001b[0m\u001b[1;33m)\u001b[0m\u001b[1;33m\u001b[0m\u001b[1;33m\u001b[0m\u001b[0m\n\u001b[0m\u001b[0;32m     12\u001b[0m         \u001b[0mprint\u001b[0m\u001b[1;33m(\u001b[0m\u001b[1;34m'label 1done'\u001b[0m\u001b[1;33m)\u001b[0m\u001b[1;33m\u001b[0m\u001b[1;33m\u001b[0m\u001b[0m\n\u001b[0;32m     13\u001b[0m     \u001b[1;32melse\u001b[0m\u001b[1;33m:\u001b[0m\u001b[1;33m\u001b[0m\u001b[1;33m\u001b[0m\u001b[0m\n",
      "\u001b[1;31mNameError\u001b[0m: name 'update_labelinfo' is not defined"
     ]
    }
   ],
   "source": [
    "LabelCrawl()"
   ]
  },
  {
   "cell_type": "code",
   "execution_count": 71,
   "id": "24dd4bf1",
   "metadata": {},
   "outputs": [],
   "source": [
    "id = 'pp'"
   ]
  },
  {
   "cell_type": "code",
   "execution_count": 72,
   "id": "e5fb3e38",
   "metadata": {},
   "outputs": [
    {
     "data": {
      "text/plain": [
       "'pp'"
      ]
     },
     "execution_count": 72,
     "metadata": {},
     "output_type": "execute_result"
    }
   ],
   "source": [
    "id.replace(\" \", \"_\")"
   ]
  },
  {
   "cell_type": "code",
   "execution_count": null,
   "id": "2ce9a22c",
   "metadata": {},
   "outputs": [],
   "source": []
  }
 ],
 "metadata": {
  "kernelspec": {
   "display_name": "Python 3",
   "language": "python",
   "name": "python3"
  },
  "language_info": {
   "codemirror_mode": {
    "name": "ipython",
    "version": 3
   },
   "file_extension": ".py",
   "mimetype": "text/x-python",
   "name": "python",
   "nbconvert_exporter": "python",
   "pygments_lexer": "ipython3",
   "version": "3.8.8"
  }
 },
 "nbformat": 4,
 "nbformat_minor": 5
}
