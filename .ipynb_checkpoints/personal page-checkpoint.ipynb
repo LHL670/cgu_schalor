{
 "cells": [
  {
   "cell_type": "code",
   "execution_count": 3,
   "id": "1984bdc1",
   "metadata": {},
   "outputs": [],
   "source": [
    "import requests\n",
    "from bs4 import BeautifulSoup\n",
    "import datetime\n",
    "import time\n",
    "import threading\n",
    "import queue"
   ]
  },
  {
   "cell_type": "code",
   "execution_count": 4,
   "id": "e1c42a44",
   "metadata": {},
   "outputs": [],
   "source": [
    "%%capture\n",
    "pip install --upgrade firebase-admin \n"
   ]
  },
  {
   "cell_type": "code",
   "execution_count": 5,
   "id": "2a8519a6",
   "metadata": {},
   "outputs": [],
   "source": [
    "import firebase_admin\n",
    "from firebase_admin import credentials\n",
    "from firebase_admin import firestore\n",
    "\n",
    "if not firebase_admin._apps:\n",
    "    cred = credentials.Certificate(\"jsonFile/service-account.json\")\n",
    "    firebase_admin.initialize_app(cred)\n",
    "    \n",
    "db = firestore.client()"
   ]
  },
  {
   "cell_type": "code",
   "execution_count": 6,
   "id": "99684c60",
   "metadata": {},
   "outputs": [],
   "source": [
    "\n",
    "def currentTime():\n",
    "    now = datetime.datetime.now()\n",
    "    currentTime = now.strftime(\"%Y-%m-%d %H:%M:%S\")\n",
    "    return currentTime"
   ]
  },
  {
   "cell_type": "code",
   "execution_count": 7,
   "id": "feaca5cf",
   "metadata": {},
   "outputs": [],
   "source": [
    "#personal detail\n",
    "def personalData(soup):\n",
    "    info = {}\n",
    "    content = ''.join(soup.find('meta', property = 'og:image')['content']) #list to string\n",
    "    id = content.split('user=')[1].split('&citpid')[0] \n",
    "\n",
    "    d = soup.find('div', id = 'gsc_prf_i')\n",
    "\n",
    "    #name\n",
    "    info['name'] = d.find('div', id = 'gsc_prf_in').text\n",
    "\n",
    "    #university\n",
    "    info['university'] = d.find('a', class_ = 'gsc_prf_ila').text\n",
    "\n",
    "    #email\n",
    "    email = d.find('div', id = 'gsc_prf_ivh').text.split(' ')[1]\n",
    "    info['email'] = email\n",
    "\n",
    "    #picture\n",
    "    info['picture'] = soup.find('div', id = 'gsc_prf_pua').find('img')['src'] \n",
    "    \n",
    "    label = []\n",
    "    for p in soup.find_all('a', class_='gsc_prf_inta gs_ibl'):\n",
    "\n",
    "        label.append(p.text)\n",
    "    info['label'] = label\n",
    "    \n",
    "    return info\n"
   ]
  },
  {
   "cell_type": "code",
   "execution_count": 8,
   "id": "247d1965",
   "metadata": {},
   "outputs": [],
   "source": [
    "def citeBy(soup):\n",
    "    citeBy = {}\n",
    "    citations = {}\n",
    "    h_index = {}\n",
    "    i10_index = {}\n",
    "    def cited(status, value):\n",
    "\n",
    "        if status / 2 < 1:        \n",
    "            if status % 2 == 0:\n",
    "                citations['All'] = value\n",
    "            else:\n",
    "                citations['Since2016'] = value\n",
    "            citeBy['citations'] = citations\n",
    "\n",
    "        if status / 2 < 2:\n",
    "            if status % 2 == 0:\n",
    "                h_index['All'] = value\n",
    "            else:\n",
    "                h_index['Since2016'] = value\n",
    "            citeBy['h_index'] = h_index\n",
    "\n",
    "        if status / 2 < 3:\n",
    "            if status % 2 == 0:\n",
    "                i10_index['All'] = value\n",
    "            else:\n",
    "                i10_index['Since2016'] = value\n",
    "            citeBy['i10_index'] = i10_index\n",
    "            \n",
    "    count_d = 0\n",
    "    for d in soup.find_all('td', class_='gsc_rsb_std'):\n",
    "\n",
    "        cited(count_d, d.text)\n",
    "        count_d = count_d + 1       \n",
    "    \n",
    "    return citeBy"
   ]
  },
  {
   "cell_type": "code",
   "execution_count": 9,
   "id": "e04f03cc",
   "metadata": {},
   "outputs": [],
   "source": [
    "def result(soup, ID):\n",
    "    infos = {}\n",
    "    infos['id'] = ID\n",
    "    infos['updateTime'] = currentTime()\n",
    "    infos['personalData'] = personalData(soup)\n",
    "    infos['cited'] = citeBy(soup)\n",
    "\n",
    "    return infos"
   ]
  },
  {
   "cell_type": "code",
   "execution_count": 10,
   "id": "63dfacf2",
   "metadata": {},
   "outputs": [],
   "source": [
    "def personalPage(id):\n",
    "    url = 'https://scholar.google.com.tw/citations?hl=zh-TW&user=' + id\n",
    "    r = requests.get(url)\n",
    "    soup = BeautifulSoup(r.text)\n",
    "    return result(soup, id)"
   ]
  },
  {
   "cell_type": "code",
   "execution_count": 11,
   "id": "e24cd73d",
   "metadata": {},
   "outputs": [],
   "source": [
    "# import time\n",
    "# import threading\n",
    "# import queue\n",
    "def userDataList(limit):\n",
    "    userDataList = []\n",
    "    # 建立佇列\n",
    "    ID_queue = queue.Queue()\n",
    "\n",
    "    # 將資料放入佇列\n",
    "    users_ref = db.collection(u'cguscholar').limit(limit)\n",
    "    docs = users_ref.get()\n",
    "\n",
    "    for doc in docs:\n",
    "        #print(u'{}'.format(doc.id))\n",
    "        ID_queue.put((doc.id))\n",
    "\n",
    "    # Worker 類別，負責處理資料\n",
    "    class Worker(threading.Thread):\n",
    "      def __init__(self, queue, num):\n",
    "        threading.Thread.__init__(self)\n",
    "        self.queue = queue\n",
    "        self.num = num\n",
    "\n",
    "      def run(self):\n",
    "        while self.queue.qsize() > 0:\n",
    "          # 取得新的資料\n",
    "          userID = self.queue.get()\n",
    "\n",
    "          # 處理資料\n",
    "          #print(\"Worker %d: %s\" % (self.num, userID))\n",
    "          userDataList.append(personalPage(userID))\n",
    "\n",
    "          time.sleep(1)\n",
    "\n",
    "    # 建立兩個 Worker\n",
    "    my_worker1 = Worker(ID_queue, 1)\n",
    "    my_worker2 = Worker(ID_queue, 2)\n",
    "\n",
    "    # 讓 Worker 開始處理資料\n",
    "    my_worker1.start()\n",
    "    my_worker2.start()\n",
    "\n",
    "    # 等待所有 Worker 結束\n",
    "    my_worker1.join()\n",
    "    my_worker2.join()\n",
    "\n",
    "    print(\"Done.\")\n",
    "    return userDataList\n"
   ]
  },
  {
   "cell_type": "code",
   "execution_count": 56,
   "id": "9441d5a5",
   "metadata": {},
   "outputs": [
    {
     "name": "stdout",
     "output_type": "stream",
     "text": [
      "Done.\n",
      "[{'id': 'bjEpXBoAAAAJ', 'updateTime': '2021-09-20 13:44:54', 'personalData': {'name': 'Matti Pietikäinen', 'university': 'University of Oulu', 'email': 'oulu.fi', 'picture': 'https://scholar.googleusercontent.com/citations?view_op=view_photo&user=bjEpXBoAAAAJ&citpid=2', 'label': ['computer vision', 'pattern recognition', 'biometrics', 'affective computing', 'artificial intelligence']}, 'cited': {'citations': {'All': '73213', 'Since2016': '37876'}, 'h_index': {'All': '94', 'Since2016': '70'}, 'i10_index': {'All': '261', 'Since2016': '178'}}}, {'id': 'faE3_ksAAAAJ', 'updateTime': '2021-09-20 13:44:54', 'personalData': {'name': 'Jeffrey M. Wooldridge', 'university': 'Michigan State University', 'email': 'msu.edu', 'picture': 'https://scholar.googleusercontent.com/citations?view_op=view_photo&user=faE3_ksAAAAJ&citpid=2', 'label': ['econometrics', 'panel data', 'treatment effects', 'clustering', 'economics']}, 'cited': {'citations': {'All': '118631', 'Since2016': '54884'}, 'h_index': {'All': '73', 'Since2016': '55'}, 'i10_index': {'All': '155', 'Since2016': '127'}}}, {'id': 'g-_ZXGsAAAAJ', 'updateTime': '2021-09-20 13:44:56', 'personalData': {'name': 'Anil K. Jain', 'university': 'Michigan State University', 'email': 'cse.msu.edu', 'picture': 'https://scholar.googleusercontent.com/citations?view_op=view_photo&user=g-_ZXGsAAAAJ&citpid=1', 'label': ['Biometrics', 'Computer vision', 'Pattern recognition', 'Machine learning', 'Image processing']}, 'cited': {'citations': {'All': '229302', 'Since2016': '72828'}, 'h_index': {'All': '199', 'Since2016': '119'}, 'i10_index': {'All': '732', 'Since2016': '502'}}}]\n"
     ]
    }
   ],
   "source": [
    "import json\n",
    "data = json.dumps(userDataList(3))\n",
    "jsonStr = json.loads(data) \n",
    "print(jsonStr)\n"
   ]
  },
  {
   "cell_type": "code",
   "execution_count": 57,
   "id": "1d8b9a28",
   "metadata": {},
   "outputs": [],
   "source": [
    "def updatetest(items):\n",
    "    count_item = 0\n",
    "    for i in items:\n",
    "        ref = db.collection(u'cguscholar').document((items[count_item]['id']))\n",
    "        ref.collection(u'updateTime').document((items[count_item]['updateTime'])).set(items[count_item]['cited'])\n",
    "        ref.set(items[count_item]['personalData'])\n",
    "        count_item = count_item + 1"
   ]
  },
  {
   "cell_type": "code",
   "execution_count": 58,
   "id": "79e0d6f3",
   "metadata": {},
   "outputs": [],
   "source": [
    "updatetest(jsonStr)"
   ]
  },
  {
   "cell_type": "code",
   "execution_count": 88,
   "id": "ba1610d3",
   "metadata": {},
   "outputs": [],
   "source": [
    "jsonFile = open(\"jsonFile/personalData.json\", \"w\")\n",
    "jsonFile.write(jsonStr)\n",
    "jsonFile.close()"
   ]
  },
  {
   "cell_type": "code",
   "execution_count": 41,
   "id": "fe41add5",
   "metadata": {},
   "outputs": [],
   "source": [
    "#firebase connect test"
   ]
  },
  {
   "cell_type": "code",
   "execution_count": 93,
   "id": "380f9fe4",
   "metadata": {},
   "outputs": [
    {
     "ename": "JSONDecodeError",
     "evalue": "Expecting value: line 1 column 1 (char 0)",
     "output_type": "error",
     "traceback": [
      "\u001b[1;31m---------------------------------------------------------------------------\u001b[0m",
      "\u001b[1;31mJSONDecodeError\u001b[0m                           Traceback (most recent call last)",
      "\u001b[1;32m<ipython-input-93-6305092f1d3a>\u001b[0m in \u001b[0;36m<module>\u001b[1;34m\u001b[0m\n\u001b[0;32m      6\u001b[0m \u001b[1;31m# returns JSON object as\u001b[0m\u001b[1;33m\u001b[0m\u001b[1;33m\u001b[0m\u001b[1;33m\u001b[0m\u001b[0m\n\u001b[0;32m      7\u001b[0m \u001b[1;31m# a dictionary\u001b[0m\u001b[1;33m\u001b[0m\u001b[1;33m\u001b[0m\u001b[1;33m\u001b[0m\u001b[0m\n\u001b[1;32m----> 8\u001b[1;33m \u001b[0mdata\u001b[0m \u001b[1;33m=\u001b[0m \u001b[0mjson\u001b[0m\u001b[1;33m.\u001b[0m\u001b[0mload\u001b[0m\u001b[1;33m(\u001b[0m\u001b[0mf\u001b[0m\u001b[1;33m)\u001b[0m\u001b[1;33m\u001b[0m\u001b[1;33m\u001b[0m\u001b[0m\n\u001b[0m\u001b[0;32m      9\u001b[0m \u001b[1;33m\u001b[0m\u001b[0m\n",
      "\u001b[1;32m~\\anaconda3\\lib\\json\\__init__.py\u001b[0m in \u001b[0;36mload\u001b[1;34m(fp, cls, object_hook, parse_float, parse_int, parse_constant, object_pairs_hook, **kw)\u001b[0m\n\u001b[0;32m    291\u001b[0m     \u001b[0mkwarg\u001b[0m\u001b[1;33m;\u001b[0m \u001b[0motherwise\u001b[0m\u001b[0;31m \u001b[0m\u001b[0;31m`\u001b[0m\u001b[0;31m`\u001b[0m\u001b[0mJSONDecoder\u001b[0m\u001b[0;31m`\u001b[0m\u001b[0;31m`\u001b[0m \u001b[1;32mis\u001b[0m \u001b[0mused\u001b[0m\u001b[1;33m.\u001b[0m\u001b[1;33m\u001b[0m\u001b[1;33m\u001b[0m\u001b[0m\n\u001b[0;32m    292\u001b[0m     \"\"\"\n\u001b[1;32m--> 293\u001b[1;33m     return loads(fp.read(),\n\u001b[0m\u001b[0;32m    294\u001b[0m         \u001b[0mcls\u001b[0m\u001b[1;33m=\u001b[0m\u001b[0mcls\u001b[0m\u001b[1;33m,\u001b[0m \u001b[0mobject_hook\u001b[0m\u001b[1;33m=\u001b[0m\u001b[0mobject_hook\u001b[0m\u001b[1;33m,\u001b[0m\u001b[1;33m\u001b[0m\u001b[1;33m\u001b[0m\u001b[0m\n\u001b[0;32m    295\u001b[0m         \u001b[0mparse_float\u001b[0m\u001b[1;33m=\u001b[0m\u001b[0mparse_float\u001b[0m\u001b[1;33m,\u001b[0m \u001b[0mparse_int\u001b[0m\u001b[1;33m=\u001b[0m\u001b[0mparse_int\u001b[0m\u001b[1;33m,\u001b[0m\u001b[1;33m\u001b[0m\u001b[1;33m\u001b[0m\u001b[0m\n",
      "\u001b[1;32m~\\anaconda3\\lib\\json\\__init__.py\u001b[0m in \u001b[0;36mloads\u001b[1;34m(s, cls, object_hook, parse_float, parse_int, parse_constant, object_pairs_hook, **kw)\u001b[0m\n\u001b[0;32m    355\u001b[0m             \u001b[0mparse_int\u001b[0m \u001b[1;32mis\u001b[0m \u001b[1;32mNone\u001b[0m \u001b[1;32mand\u001b[0m \u001b[0mparse_float\u001b[0m \u001b[1;32mis\u001b[0m \u001b[1;32mNone\u001b[0m \u001b[1;32mand\u001b[0m\u001b[1;33m\u001b[0m\u001b[1;33m\u001b[0m\u001b[0m\n\u001b[0;32m    356\u001b[0m             parse_constant is None and object_pairs_hook is None and not kw):\n\u001b[1;32m--> 357\u001b[1;33m         \u001b[1;32mreturn\u001b[0m \u001b[0m_default_decoder\u001b[0m\u001b[1;33m.\u001b[0m\u001b[0mdecode\u001b[0m\u001b[1;33m(\u001b[0m\u001b[0ms\u001b[0m\u001b[1;33m)\u001b[0m\u001b[1;33m\u001b[0m\u001b[1;33m\u001b[0m\u001b[0m\n\u001b[0m\u001b[0;32m    358\u001b[0m     \u001b[1;32mif\u001b[0m \u001b[0mcls\u001b[0m \u001b[1;32mis\u001b[0m \u001b[1;32mNone\u001b[0m\u001b[1;33m:\u001b[0m\u001b[1;33m\u001b[0m\u001b[1;33m\u001b[0m\u001b[0m\n\u001b[0;32m    359\u001b[0m         \u001b[0mcls\u001b[0m \u001b[1;33m=\u001b[0m \u001b[0mJSONDecoder\u001b[0m\u001b[1;33m\u001b[0m\u001b[1;33m\u001b[0m\u001b[0m\n",
      "\u001b[1;32m~\\anaconda3\\lib\\json\\decoder.py\u001b[0m in \u001b[0;36mdecode\u001b[1;34m(self, s, _w)\u001b[0m\n\u001b[0;32m    335\u001b[0m \u001b[1;33m\u001b[0m\u001b[0m\n\u001b[0;32m    336\u001b[0m         \"\"\"\n\u001b[1;32m--> 337\u001b[1;33m         \u001b[0mobj\u001b[0m\u001b[1;33m,\u001b[0m \u001b[0mend\u001b[0m \u001b[1;33m=\u001b[0m \u001b[0mself\u001b[0m\u001b[1;33m.\u001b[0m\u001b[0mraw_decode\u001b[0m\u001b[1;33m(\u001b[0m\u001b[0ms\u001b[0m\u001b[1;33m,\u001b[0m \u001b[0midx\u001b[0m\u001b[1;33m=\u001b[0m\u001b[0m_w\u001b[0m\u001b[1;33m(\u001b[0m\u001b[0ms\u001b[0m\u001b[1;33m,\u001b[0m \u001b[1;36m0\u001b[0m\u001b[1;33m)\u001b[0m\u001b[1;33m.\u001b[0m\u001b[0mend\u001b[0m\u001b[1;33m(\u001b[0m\u001b[1;33m)\u001b[0m\u001b[1;33m)\u001b[0m\u001b[1;33m\u001b[0m\u001b[1;33m\u001b[0m\u001b[0m\n\u001b[0m\u001b[0;32m    338\u001b[0m         \u001b[0mend\u001b[0m \u001b[1;33m=\u001b[0m \u001b[0m_w\u001b[0m\u001b[1;33m(\u001b[0m\u001b[0ms\u001b[0m\u001b[1;33m,\u001b[0m \u001b[0mend\u001b[0m\u001b[1;33m)\u001b[0m\u001b[1;33m.\u001b[0m\u001b[0mend\u001b[0m\u001b[1;33m(\u001b[0m\u001b[1;33m)\u001b[0m\u001b[1;33m\u001b[0m\u001b[1;33m\u001b[0m\u001b[0m\n\u001b[0;32m    339\u001b[0m         \u001b[1;32mif\u001b[0m \u001b[0mend\u001b[0m \u001b[1;33m!=\u001b[0m \u001b[0mlen\u001b[0m\u001b[1;33m(\u001b[0m\u001b[0ms\u001b[0m\u001b[1;33m)\u001b[0m\u001b[1;33m:\u001b[0m\u001b[1;33m\u001b[0m\u001b[1;33m\u001b[0m\u001b[0m\n",
      "\u001b[1;32m~\\anaconda3\\lib\\json\\decoder.py\u001b[0m in \u001b[0;36mraw_decode\u001b[1;34m(self, s, idx)\u001b[0m\n\u001b[0;32m    353\u001b[0m             \u001b[0mobj\u001b[0m\u001b[1;33m,\u001b[0m \u001b[0mend\u001b[0m \u001b[1;33m=\u001b[0m \u001b[0mself\u001b[0m\u001b[1;33m.\u001b[0m\u001b[0mscan_once\u001b[0m\u001b[1;33m(\u001b[0m\u001b[0ms\u001b[0m\u001b[1;33m,\u001b[0m \u001b[0midx\u001b[0m\u001b[1;33m)\u001b[0m\u001b[1;33m\u001b[0m\u001b[1;33m\u001b[0m\u001b[0m\n\u001b[0;32m    354\u001b[0m         \u001b[1;32mexcept\u001b[0m \u001b[0mStopIteration\u001b[0m \u001b[1;32mas\u001b[0m \u001b[0merr\u001b[0m\u001b[1;33m:\u001b[0m\u001b[1;33m\u001b[0m\u001b[1;33m\u001b[0m\u001b[0m\n\u001b[1;32m--> 355\u001b[1;33m             \u001b[1;32mraise\u001b[0m \u001b[0mJSONDecodeError\u001b[0m\u001b[1;33m(\u001b[0m\u001b[1;34m\"Expecting value\"\u001b[0m\u001b[1;33m,\u001b[0m \u001b[0ms\u001b[0m\u001b[1;33m,\u001b[0m \u001b[0merr\u001b[0m\u001b[1;33m.\u001b[0m\u001b[0mvalue\u001b[0m\u001b[1;33m)\u001b[0m \u001b[1;32mfrom\u001b[0m \u001b[1;32mNone\u001b[0m\u001b[1;33m\u001b[0m\u001b[1;33m\u001b[0m\u001b[0m\n\u001b[0m\u001b[0;32m    356\u001b[0m         \u001b[1;32mreturn\u001b[0m \u001b[0mobj\u001b[0m\u001b[1;33m,\u001b[0m \u001b[0mend\u001b[0m\u001b[1;33m\u001b[0m\u001b[1;33m\u001b[0m\u001b[0m\n",
      "\u001b[1;31mJSONDecodeError\u001b[0m: Expecting value: line 1 column 1 (char 0)"
     ]
    }
   ],
   "source": [
    "import json\n",
    " \n",
    "# Opening JSON file\n",
    "f = open('jsonFile/personalData.json',)\n",
    " \n",
    "# returns JSON object as\n",
    "# a dictionary\n",
    "data = json.load(f)\n",
    "\n"
   ]
  },
  {
   "cell_type": "code",
   "execution_count": 43,
   "id": "7abd64bd",
   "metadata": {},
   "outputs": [],
   "source": []
  }
 ],
 "metadata": {
  "kernelspec": {
   "display_name": "Python 3",
   "language": "python",
   "name": "python3"
  },
  "language_info": {
   "codemirror_mode": {
    "name": "ipython",
    "version": 3
   },
   "file_extension": ".py",
   "mimetype": "text/x-python",
   "name": "python",
   "nbconvert_exporter": "python",
   "pygments_lexer": "ipython3",
   "version": "3.8.8"
  }
 },
 "nbformat": 4,
 "nbformat_minor": 5
}
