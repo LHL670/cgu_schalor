{
 "cells": [
  {
   "cell_type": "code",
   "execution_count": 4,
   "id": "1984bdc1",
   "metadata": {},
   "outputs": [],
   "source": [
    "import requests\n",
    "from bs4 import BeautifulSoup\n",
    "import datetime\n",
    "import time\n",
    "import threading\n",
    "import queue"
   ]
  },
  {
   "cell_type": "code",
   "execution_count": 5,
   "id": "e1c42a44",
   "metadata": {},
   "outputs": [],
   "source": [
    "%%capture\n",
    "pip install --upgrade firebase-admin \n"
   ]
  },
  {
   "cell_type": "code",
   "execution_count": 6,
   "id": "2a8519a6",
   "metadata": {},
   "outputs": [],
   "source": [
    "import firebase_admin\n",
    "from firebase_admin import credentials\n",
    "from firebase_admin import firestore\n",
    "\n",
    "if not firebase_admin._apps:\n",
    "    cred = credentials.Certificate(\"jsonFile/service-account.json\")\n",
    "    firebase_admin.initialize_app(cred)\n",
    "    \n",
    "db = firestore.client()"
   ]
  },
  {
   "cell_type": "code",
   "execution_count": 34,
   "id": "1e5807be",
   "metadata": {},
   "outputs": [
    {
     "ename": "AttributeError",
     "evalue": "'CollectionReference' object has no attribute 'orderBy'",
     "output_type": "error",
     "traceback": [
      "\u001b[1;31m---------------------------------------------------------------------------\u001b[0m",
      "\u001b[1;31mAttributeError\u001b[0m                            Traceback (most recent call last)",
      "\u001b[1;32m<ipython-input-34-3583f9e14b83>\u001b[0m in \u001b[0;36m<module>\u001b[1;34m\u001b[0m\n\u001b[0;32m      1\u001b[0m \u001b[0mdoc\u001b[0m \u001b[1;33m=\u001b[0m \u001b[0mdb\u001b[0m\u001b[1;33m.\u001b[0m\u001b[0mcollection\u001b[0m\u001b[1;33m(\u001b[0m\u001b[1;34mu'cguscholar'\u001b[0m\u001b[1;33m)\u001b[0m\u001b[1;33m.\u001b[0m\u001b[0mdocument\u001b[0m\u001b[1;33m(\u001b[0m\u001b[1;34m'faE3_ksAAAAJ'\u001b[0m\u001b[1;33m)\u001b[0m\u001b[1;33m.\u001b[0m\u001b[0mcollection\u001b[0m\u001b[1;33m(\u001b[0m\u001b[1;34mu'updateTime'\u001b[0m\u001b[1;33m)\u001b[0m\u001b[1;33m\u001b[0m\u001b[1;33m\u001b[0m\u001b[0m\n\u001b[1;32m----> 2\u001b[1;33m \u001b[0mdoc\u001b[0m\u001b[1;33m.\u001b[0m\u001b[0morderBy\u001b[0m\u001b[1;33m(\u001b[0m\u001b[0mdoc\u001b[0m\u001b[1;33m.\u001b[0m\u001b[0mid\u001b[0m\u001b[1;33m)\u001b[0m\u001b[1;33m.\u001b[0m\u001b[0mget\u001b[0m\u001b[1;33m(\u001b[0m\u001b[1;33m)\u001b[0m\u001b[1;33m\u001b[0m\u001b[1;33m\u001b[0m\u001b[0m\n\u001b[0m\u001b[0;32m      3\u001b[0m \u001b[0mprint\u001b[0m\u001b[1;33m(\u001b[0m\u001b[1;34mf'Document data: {doc.to_dict()}'\u001b[0m\u001b[1;33m)\u001b[0m\u001b[1;33m\u001b[0m\u001b[1;33m\u001b[0m\u001b[0m\n",
      "\u001b[1;31mAttributeError\u001b[0m: 'CollectionReference' object has no attribute 'orderBy'"
     ]
    }
   ],
   "source": [
    "doc = db.collection(u'cguscholar').document('faE3_ksAAAAJ').collection(u'updateTime')\n",
    "doc.orderBy(id).getDocuments()\n",
    "print(f'Document data: {doc.to_dict()}')"
   ]
  },
  {
   "cell_type": "code",
   "execution_count": 35,
   "id": "00ab8b03",
   "metadata": {},
   "outputs": [
    {
     "ename": "AttributeError",
     "evalue": "module 'firebase_admin' has no attribute 'FieldValue'",
     "output_type": "error",
     "traceback": [
      "\u001b[1;31m---------------------------------------------------------------------------\u001b[0m",
      "\u001b[1;31mAttributeError\u001b[0m                            Traceback (most recent call last)",
      "\u001b[1;32m<ipython-input-35-d90d41e0027d>\u001b[0m in \u001b[0;36m<module>\u001b[1;34m\u001b[0m\n\u001b[1;32m----> 1\u001b[1;33m \u001b[0mtimestamp\u001b[0m \u001b[1;33m=\u001b[0m \u001b[0mfirebase_admin\u001b[0m\u001b[1;33m.\u001b[0m\u001b[0mFieldValue\u001b[0m\u001b[1;33m.\u001b[0m\u001b[0mserverTimestamp\u001b[0m\u001b[1;33m;\u001b[0m\u001b[1;33m\u001b[0m\u001b[1;33m\u001b[0m\u001b[0m\n\u001b[0m\u001b[0;32m      2\u001b[0m \u001b[0mtimestamp\u001b[0m\u001b[1;33m\u001b[0m\u001b[1;33m\u001b[0m\u001b[0m\n",
      "\u001b[1;31mAttributeError\u001b[0m: module 'firebase_admin' has no attribute 'FieldValue'"
     ]
    }
   ],
   "source": [
    "timestamp = firebase_admin.firestore.FieldValue.serverTimestamp;\n",
    "timestamp"
   ]
  },
  {
   "cell_type": "code",
   "execution_count": 23,
   "id": "1177cc8c",
   "metadata": {},
   "outputs": [],
   "source": [
    "def currentTime():\n",
    "    now = datetime.datetime.now()\n",
    "    currentTime = now.strftime(\"%Y-%m-%d %H:%M:%S\")\n",
    "    return currentTime"
   ]
  },
  {
   "cell_type": "code",
   "execution_count": 8,
   "id": "feaca5cf",
   "metadata": {},
   "outputs": [],
   "source": [
    "#personal detail\n",
    "def personalData(soup):\n",
    "    info = {}\n",
    "    content = ''.join(soup.find('meta', property = 'og:image')['content']) #list to string\n",
    "    id = content.split('user=')[1].split('&citpid')[0] \n",
    "\n",
    "    d = soup.find('div', id = 'gsc_prf_i')\n",
    "\n",
    "    #name\n",
    "    info['name'] = d.find('div', id = 'gsc_prf_in').text\n",
    "\n",
    "    #university\n",
    "    info['university'] = d.find('a', class_ = 'gsc_prf_ila').text\n",
    "\n",
    "    #email\n",
    "    email = d.find('div', id = 'gsc_prf_ivh').text.split(' ')[1]\n",
    "    info['email'] = email\n",
    "\n",
    "    #picture\n",
    "    info['picture'] = soup.find('div', id = 'gsc_prf_pua').find('img')['src'] \n",
    "    \n",
    "    label = []\n",
    "    for p in soup.find_all('a', class_='gsc_prf_inta gs_ibl'):\n",
    "\n",
    "        label.append(p.text)\n",
    "    info['label'] = label\n",
    "    \n",
    "    return info\n"
   ]
  },
  {
   "cell_type": "code",
   "execution_count": 9,
   "id": "247d1965",
   "metadata": {},
   "outputs": [],
   "source": [
    "def citeBy(soup):\n",
    "    citeBy = {}\n",
    "    citations = {}\n",
    "    h_index = {}\n",
    "    i10_index = {}\n",
    "    def cited(status, value):\n",
    "\n",
    "        if status / 2 < 1:        \n",
    "            if status % 2 == 0:\n",
    "                citations['All'] = value\n",
    "            else:\n",
    "                citations['Since2016'] = value\n",
    "            citeBy['citations'] = citations\n",
    "\n",
    "        if status / 2 < 2:\n",
    "            if status % 2 == 0:\n",
    "                h_index['All'] = value\n",
    "            else:\n",
    "                h_index['Since2016'] = value\n",
    "            citeBy['h_index'] = h_index\n",
    "\n",
    "        if status / 2 < 3:\n",
    "            if status % 2 == 0:\n",
    "                i10_index['All'] = value\n",
    "            else:\n",
    "                i10_index['Since2016'] = value\n",
    "            citeBy['i10_index'] = i10_index\n",
    "            \n",
    "    count_d = 0\n",
    "    for d in soup.find_all('td', class_='gsc_rsb_std'):\n",
    "\n",
    "        cited(count_d, d.text)\n",
    "        count_d = count_d + 1       \n",
    "    \n",
    "    return citeBy"
   ]
  },
  {
   "cell_type": "code",
   "execution_count": 10,
   "id": "e04f03cc",
   "metadata": {},
   "outputs": [],
   "source": [
    "def result(soup, ID):\n",
    "    infos = {}\n",
    "    infos['id'] = ID\n",
    "    infos['updateTime'] = currentTime()\n",
    "    infos['personalData'] = personalData(soup)\n",
    "    infos['cited'] = citeBy(soup)\n",
    "\n",
    "    return infos"
   ]
  },
  {
   "cell_type": "code",
   "execution_count": 11,
   "id": "63dfacf2",
   "metadata": {},
   "outputs": [],
   "source": [
    "def personalPage(id):\n",
    "    url = 'https://scholar.google.com.tw/citations?hl=zh-TW&user=' + id\n",
    "    r = requests.get(url)\n",
    "    soup = BeautifulSoup(r.text)\n",
    "    return result(soup, id)"
   ]
  },
  {
   "cell_type": "code",
   "execution_count": 14,
   "id": "ae702551",
   "metadata": {},
   "outputs": [],
   "source": [
    "import json\n",
    "def jsontransfer(items):\n",
    "    data = json.dumps(items)\n",
    "    jsonStr = json.loads(data) \n",
    "    return jsonStr"
   ]
  },
  {
   "cell_type": "code",
   "execution_count": 20,
   "id": "346aac72",
   "metadata": {},
   "outputs": [],
   "source": [
    "def updatePersonal(userID):\n",
    "    items = jsontransfer(personalPage(userID))\n",
    "    print(items)\n",
    "    ref = db.collection(u'cguscholar').document((items['id']))\n",
    "    ref.collection(u'updateTime').document((items['updateTime'])).set(items['cited'])\n",
    "    ref.set(items['personalData'])"
   ]
  },
  {
   "cell_type": "code",
   "execution_count": 21,
   "id": "e24cd73d",
   "metadata": {},
   "outputs": [],
   "source": [
    "# import time\n",
    "# import threading\n",
    "# import queue\n",
    "def userDataList(limit):\n",
    "    userDataList = []\n",
    "    # 建立佇列\n",
    "    ID_queue = queue.Queue()\n",
    "\n",
    "    # 將資料放入佇列\n",
    "    users_ref = db.collection(u'cguscholar').limit(limit)\n",
    "    docs = users_ref.get()\n",
    "\n",
    "    for doc in docs:\n",
    "        #print(u'{}'.format(doc.id))\n",
    "        ID_queue.put((doc.id))\n",
    "\n",
    "    # Worker 類別，負責處理資料\n",
    "    class Worker(threading.Thread):\n",
    "      def __init__(self, queue, num):\n",
    "        threading.Thread.__init__(self)\n",
    "        self.queue = queue\n",
    "        self.num = num\n",
    "\n",
    "      def run(self):\n",
    "        while self.queue.qsize() > 0:\n",
    "          # 取得新的資料\n",
    "          userID = self.queue.get()\n",
    "\n",
    "          # 處理資料\n",
    "          #print(\"Worker %d: %s\" % (self.num, userID))\n",
    "          updatePersonal(userID)\n",
    "\n",
    "          time.sleep(1)\n",
    "\n",
    "    # 建立兩個 Worker\n",
    "    my_worker1 = Worker(ID_queue, 1)\n",
    "    my_worker2 = Worker(ID_queue, 2)\n",
    "\n",
    "    # 讓 Worker 開始處理資料\n",
    "    my_worker1.start()\n",
    "    my_worker2.start()\n",
    "\n",
    "    # 等待所有 Worker 結束\n",
    "    my_worker1.join()\n",
    "    my_worker2.join()\n",
    "\n",
    "    print(\"Done.\")\n",
    "    \n"
   ]
  },
  {
   "cell_type": "code",
   "execution_count": 22,
   "id": "9441d5a5",
   "metadata": {},
   "outputs": [
    {
     "name": "stdout",
     "output_type": "stream",
     "text": [
      "{'id': 'faE3_ksAAAAJ', 'updateTime': '2021-09-22 15:48:04', 'personalData': {'name': 'Jeffrey M. Wooldridge', 'university': 'Michigan State University', 'email': 'msu.edu', 'picture': 'https://scholar.googleusercontent.com/citations?view_op=view_photo&user=faE3_ksAAAAJ&citpid=2', 'label': ['econometrics', 'panel data', 'treatment effects', 'clustering', 'economics']}, 'cited': {'citations': {'All': '118747', 'Since2016': '54991'}, 'h_index': {'All': '74', 'Since2016': '55'}, 'i10_index': {'All': '156', 'Since2016': '127'}}}\n",
      "{'id': 'bjEpXBoAAAAJ', 'updateTime': '2021-09-22 15:48:05', 'personalData': {'name': 'Matti Pietikäinen', 'university': 'University of Oulu', 'email': 'oulu.fi', 'picture': 'https://scholar.googleusercontent.com/citations?view_op=view_photo&user=bjEpXBoAAAAJ&citpid=2', 'label': ['computer vision', 'pattern recognition', 'biometrics', 'affective computing', 'artificial intelligence']}, 'cited': {'citations': {'All': '73264', 'Since2016': '37921'}, 'h_index': {'All': '94', 'Since2016': '70'}, 'i10_index': {'All': '261', 'Since2016': '178'}}}\n",
      "{'id': 'g-_ZXGsAAAAJ', 'updateTime': '2021-09-22 15:48:08', 'personalData': {'name': 'Anil K. Jain', 'university': 'Michigan State University', 'email': 'cse.msu.edu', 'picture': 'https://scholar.googleusercontent.com/citations?view_op=view_photo&user=g-_ZXGsAAAAJ&citpid=1', 'label': ['Biometrics', 'Computer vision', 'Pattern recognition', 'Machine learning', 'Image processing']}, 'cited': {'citations': {'All': '229449', 'Since2016': '72931'}, 'h_index': {'All': '199', 'Since2016': '119'}, 'i10_index': {'All': '732', 'Since2016': '502'}}}\n",
      "Done.\n"
     ]
    }
   ],
   "source": [
    "userDataList(3)"
   ]
  },
  {
   "cell_type": "code",
   "execution_count": 88,
   "id": "ba1610d3",
   "metadata": {},
   "outputs": [],
   "source": [
    "# jsonFile = open(\"jsonFile/personalData.json\", \"w\")\n",
    "# jsonFile.write(jsonStr)\n",
    "# jsonFile.close()"
   ]
  }
 ],
 "metadata": {
  "kernelspec": {
   "display_name": "Python 3",
   "language": "python",
   "name": "python3"
  },
  "language_info": {
   "codemirror_mode": {
    "name": "ipython",
    "version": 3
   },
   "file_extension": ".py",
   "mimetype": "text/x-python",
   "name": "python",
   "nbconvert_exporter": "python",
   "pygments_lexer": "ipython3",
   "version": "3.8.8"
  }
 },
 "nbformat": 4,
 "nbformat_minor": 5
}
