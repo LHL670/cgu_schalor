{
 "cells": [
  {
   "cell_type": "code",
   "execution_count": 1,
   "id": "1984bdc1",
   "metadata": {},
   "outputs": [],
   "source": [
    "# Example： 從 Request 到 BeatifulSoup\n",
    "\n",
    "import requests\n",
    "from bs4 import BeautifulSoup\n",
    "\n",
    "url = 'https://scholar.google.com.tw/citations?user=g-_ZXGsAAAAJ&hl=zh-TW&oi=ao'\n",
    "r = requests.get(url)\n",
    "soup = BeautifulSoup(r.text)\n",
    "\n"
   ]
  },
  {
   "cell_type": "code",
   "execution_count": 10,
   "id": "99684c60",
   "metadata": {},
   "outputs": [
    {
     "name": "stdout",
     "output_type": "stream",
     "text": [
      "2021-09-06 12:47:19\n"
     ]
    }
   ],
   "source": [
    "import datetime\n",
    "now = datetime.datetime.now()\n",
    "currentTime = now.strftime(\"%Y-%m-%d %H:%M:%S\")\n",
    "print (currentTime)"
   ]
  },
  {
   "cell_type": "code",
   "execution_count": null,
   "id": "8c9b0ecc",
   "metadata": {},
   "outputs": [],
   "source": []
  },
  {
   "cell_type": "code",
   "execution_count": 33,
   "id": "aa345e73",
   "metadata": {},
   "outputs": [
    {
     "data": {
      "text/plain": [
       "'g-_ZXGsAAAAJ'"
      ]
     },
     "execution_count": 33,
     "metadata": {},
     "output_type": "execute_result"
    }
   ],
   "source": [
    "content = ''.join(soup.find('meta', property = 'og:image')['content']) #list to string\n",
    "id = content.split('user=')[1].split('&citpid=1')[0] \n",
    "id"
   ]
  },
  {
   "cell_type": "code",
   "execution_count": 32,
   "id": "9425eb84",
   "metadata": {},
   "outputs": [
    {
     "data": {
      "text/plain": [
       "{'name': 'Anil K. Jain',\n",
       " 'university': 'Michigan State University',\n",
       " 'email': 'cse.msu.edu',\n",
       " 'picture': 'https://scholar.googleusercontent.com/citations?view_op=view_photo&user=g-_ZXGsAAAAJ&citpid=1'}"
      ]
     },
     "execution_count": 32,
     "metadata": {},
     "output_type": "execute_result"
    }
   ],
   "source": [
    "\n",
    " #personal detail\n",
    " #personal detail\n",
    "info = {}\n",
    "\n",
    "#id\n",
    "content = ''.join(soup.find('meta', property = 'og:image')['content']) #list to string\n",
    "id = content.split('user=')[1].split('&citpid=1')[0] \n",
    "\n",
    "d = soup.find('div', id = 'gsc_prf_i')\n",
    "\n",
    "#name\n",
    "info['name'] = d.find('div', id = 'gsc_prf_in').text\n",
    "\n",
    "#university\n",
    "info['university'] = d.find('a', class_ = 'gsc_prf_ila').text\n",
    "\n",
    "#email\n",
    "email = d.find('div', id = 'gsc_prf_ivh').text.split(' ')[1]\n",
    "info['email'] = email\n",
    "\n",
    "#picture\n",
    "info['picture'] = soup.find('div', id = 'gsc_prf_pua').find('img')['src'] \n",
    "\n",
    "\n",
    "info\n"
   ]
  },
  {
   "cell_type": "code",
   "execution_count": 33,
   "id": "247d1965",
   "metadata": {},
   "outputs": [],
   "source": [
    "citeBy = {}\n",
    "citations = {}\n",
    "h_index = {}\n",
    "i10_index = {}\n",
    "\n",
    "def cited(status, value):\n",
    "    \n",
    "    if status / 2 < 1:        \n",
    "        if status % 2 == 0:\n",
    "            citations['All'] = value\n",
    "        else:\n",
    "            citations['Since2016'] = value\n",
    "        citeBy['citations'] = citations\n",
    "        \n",
    "    if status / 2 < 2:\n",
    "        if status % 2 == 0:\n",
    "            h_index['All'] = value\n",
    "        else:\n",
    "            h_index['Since2016'] = value\n",
    "        citeBy['h_index'] = h_index\n",
    "        \n",
    "    if status / 2 < 3:\n",
    "        if status % 2 == 0:\n",
    "            i10_index['All'] = value\n",
    "        else:\n",
    "            i10_index['Since2016'] = value\n",
    "        citeBy['i10_index'] = i10_index\n"
   ]
  },
  {
   "cell_type": "code",
   "execution_count": 34,
   "id": "d3df4f8b",
   "metadata": {},
   "outputs": [
    {
     "data": {
      "text/plain": [
       "{'citations': {'All': '228713', 'Since2016': '72308'},\n",
       " 'h_index': {'All': '199', 'Since2016': '119'},\n",
       " 'i10_index': {'All': '731', 'Since2016': '501'}}"
      ]
     },
     "execution_count": 34,
     "metadata": {},
     "output_type": "execute_result"
    }
   ],
   "source": [
    "\n",
    "count_d = 0\n",
    "for d in soup.find_all('td', class_='gsc_rsb_std'):\n",
    "\n",
    "    cited(count_d, d.text)\n",
    "    \n",
    "    count_d = count_d + 1\n",
    "citeBy"
   ]
  },
  {
   "cell_type": "code",
   "execution_count": 35,
   "id": "af133734",
   "metadata": {},
   "outputs": [
    {
     "data": {
      "text/plain": [
       "['Biometrics',\n",
       " 'Computer vision',\n",
       " 'Pattern recognition',\n",
       " 'Machine learning',\n",
       " 'Image processing']"
      ]
     },
     "execution_count": 35,
     "metadata": {},
     "output_type": "execute_result"
    }
   ],
   "source": [
    "\n",
    "label = []\n",
    "for p in soup.find_all('a', class_='gsc_prf_inta gs_ibl'):\n",
    "\n",
    "    label.append(p.text)\n",
    "info['label'] = label\n",
    "label"
   ]
  },
  {
   "cell_type": "code",
   "execution_count": 36,
   "id": "e04f03cc",
   "metadata": {},
   "outputs": [
    {
     "data": {
      "text/plain": [
       "[{'id': 'g-_ZXGsAAAAJ',\n",
       "  'updateTime': '2021-09-06 12:47:19',\n",
       "  'personalData': {'name': 'Anil K. Jain',\n",
       "   'university': 'Michigan State University',\n",
       "   'email': 'cse.msu.edu',\n",
       "   'picture': 'https://scholar.googleusercontent.com/citations?view_op=view_photo&user=g-_ZXGsAAAAJ&citpid=1',\n",
       "   'label': ['Biometrics',\n",
       "    'Computer vision',\n",
       "    'Pattern recognition',\n",
       "    'Machine learning',\n",
       "    'Image processing']},\n",
       "  'cited': {'citations': {'All': '228713', 'Since2016': '72308'},\n",
       "   'h_index': {'All': '199', 'Since2016': '119'},\n",
       "   'i10_index': {'All': '731', 'Since2016': '501'}}}]"
      ]
     },
     "execution_count": 36,
     "metadata": {},
     "output_type": "execute_result"
    }
   ],
   "source": [
    "results = []\n",
    "infos = {}\n",
    "infos['id'] = id\n",
    "infos['updateTime'] = currentTime\n",
    "infos['personalData'] = info\n",
    "infos['cited'] = citeBy\n",
    "\n",
    "results.append(infos)\n",
    "\n",
    "results"
   ]
  },
  {
   "cell_type": "code",
   "execution_count": 37,
   "id": "9441d5a5",
   "metadata": {},
   "outputs": [
    {
     "name": "stdout",
     "output_type": "stream",
     "text": [
      "[{\"id\": \"g-_ZXGsAAAAJ\", \"updateTime\": \"2021-09-06 12:47:19\", \"personalData\": {\"name\": \"Anil K. Jain\", \"university\": \"Michigan State University\", \"email\": \"cse.msu.edu\", \"picture\": \"https://scholar.googleusercontent.com/citations?view_op=view_photo&user=g-_ZXGsAAAAJ&citpid=1\", \"label\": [\"Biometrics\", \"Computer vision\", \"Pattern recognition\", \"Machine learning\", \"Image processing\"]}, \"cited\": {\"citations\": {\"All\": \"228713\", \"Since2016\": \"72308\"}, \"h_index\": {\"All\": \"199\", \"Since2016\": \"119\"}, \"i10_index\": {\"All\": \"731\", \"Since2016\": \"501\"}}}]\n"
     ]
    }
   ],
   "source": [
    "import json\n",
    "jsonStr = json.dumps(results)\n",
    "print(jsonStr)\n"
   ]
  },
  {
   "cell_type": "code",
   "execution_count": 41,
   "id": "ba1610d3",
   "metadata": {},
   "outputs": [],
   "source": [
    "jsonFile = open(\"jsonFile/personalData.json\", \"w\")\n",
    "jsonFile.write(jsonStr)\n",
    "jsonFile.close()"
   ]
  },
  {
   "cell_type": "code",
   "execution_count": 41,
   "id": "fe41add5",
   "metadata": {},
   "outputs": [],
   "source": [
    "#firebase connect test"
   ]
  },
  {
   "cell_type": "code",
   "execution_count": 42,
   "id": "380f9fe4",
   "metadata": {},
   "outputs": [],
   "source": [
    "%%capture\n",
    "pip install --upgrade firebase-admin \n"
   ]
  },
  {
   "cell_type": "code",
   "execution_count": 43,
   "id": "7abd64bd",
   "metadata": {},
   "outputs": [],
   "source": [
    "import firebase_admin\n",
    "from firebase_admin import credentials\n",
    "from firebase_admin import firestore\n",
    "\n",
    "if not firebase_admin._apps:\n",
    "    cred = credentials.Certificate(\"service-account.json\")\n",
    "    firebase_admin.initialize_app(cred)\n",
    "    \n",
    "db = firestore.client()"
   ]
  },
  {
   "cell_type": "code",
   "execution_count": 44,
   "id": "06ff94e3",
   "metadata": {},
   "outputs": [
    {
     "name": "stdout",
     "output_type": "stream",
     "text": [
      "1 => {'citations': 116830, 'timestamp': DatetimeWithNanoseconds(2021, 8, 30, 6, 0, tzinfo=<UTC>)}\n",
      "2 => {'time': DatetimeWithNanoseconds(2021, 8, 3, 5, 29, tzinfo=<UTC>), 'citations': '116900'}\n"
     ]
    }
   ],
   "source": [
    "users_ref = db.collection(u'cguscholar').document(u'faE3_ksAAAAJ').collection(u'updata_time')\n",
    "docs = users_ref.stream()\n",
    "\n",
    "for doc in docs:\n",
    "    print(f'{doc.id} => {doc.to_dict()}')"
   ]
  },
  {
   "cell_type": "code",
   "execution_count": null,
   "id": "559c4735",
   "metadata": {},
   "outputs": [],
   "source": [
    "class UploadJsonFileToFirestore:\n",
    "    def __init__(self) -> None:\n",
    "        # Get class running time\n",
    "        self.start = timeit.default_timer()\n",
    "        # Check to make sure the command line arguements \n",
    "        # are atleast 3 arguements\n",
    "        if len(sys.argv[1:]) != 3:\n",
    "            print(f'ERROR: Check your command line arguments!,\\n 3 arguements expected [file=filepath, method=[set or add], collectionname=[firestore collection name]')\n",
    "            return None\n",
    "        \n",
    "        # Initialize instance variables\n",
    "        self.json_data = sys.argv[1:][0]\n",
    "        self.method = sys.argv[1:][1]\n",
    "        self.collectionname = sys.argv[1:][2]\n",
    "    \n",
    "    def __str__(self) -> str:\n",
    "        return (f'Uploading ****{self.file}***** JSON items to firestore!')\n",
    "    \n",
    "    # Firestore upload method getter method\n",
    "    @property\n",
    "    def method(self):\n",
    "        return self._method\n",
    "    \n",
    "    # Firestore upload method setter method\n",
    "    @method.setter\n",
    "    def method(self, val):\n",
    "        if val == 'set' or val == 'add':\n",
    "            self._method = val\n",
    "        else:\n",
    "            print(f'Wrong method {val}, use set or add')\n",
    "    \n",
    "    # Get Json file path property\n",
    "    @property\n",
    "    def json_data(self):\n",
    "        return self._json_data\n",
    "    \n",
    "    # Set and process Json file path property\n",
    "    @json_data.setter\n",
    "    def json_data(self, val):\n",
    "        if val:\n",
    "            try:\n",
    "                # Opening JSON file\n",
    "                f = open(val,)\n",
    "                \n",
    "                # returns JSON object as a dictionary\n",
    "                data = json.load(f)\n",
    "                \n",
    "                # make sure to close file\n",
    "                f.close()\n",
    "                self._json_data = data\n",
    "            except Exception as e:\n",
    "                print(f'FILE EXCEPTION: {str(e)}')\n",
    "        else:\n",
    "            print(f'Wrong file path {val}')\n",
    "\n",
    "    # Main class method to populate firestore \n",
    "    # With the said data\n",
    "    def upload(self):\n",
    "        if  self.json_data and self.method:\n",
    "           \n",
    "            # Iterating through the json list\n",
    "            for idx, item in enumerate(self.json_data):\n",
    "                '''\n",
    "                 START FOR JUST FOR DEMO REASONS\n",
    "                '''\n",
    "                from pygments import highlight\n",
    "                from pygments.lexers import JsonLexer\n",
    "                from pygments.formatters import TerminalFormatter\n",
    "              \n",
    "                json_str = json.dumps(item, indent=4, sort_keys=True)\n",
    "                print(highlight(json_str, JsonLexer(), TerminalFormatter()))\n",
    "                '''\n",
    "                 END FOR JUST FOR DEMO REASONS\n",
    "                '''\n",
    "             \n",
    "                if self.method == 'set':\n",
    "                    self.set(item)\n",
    "                else:\n",
    "                    self.add(item)\n",
    "                # Successfully got to end of data;\n",
    "                # print success message\n",
    "                if idx == len(self.json_data)-1:\n",
    "                    # All the program statements\n",
    "                    stop = timeit.default_timer()\n",
    "                    print('**************************\\n****SUCCESS UPLOAD*****\\n**************************')\n",
    "                    print(\"Time taken \"+str(stop - self.start))\n",
    "    \n",
    "    # Collection Add method\n",
    "    # Adds all data under a collection\n",
    "    # With firebase firestore auto generated IDS\n",
    "    def add(self, item):\n",
    "        return db.collection(self.collectionname).add(item)\n",
    "    \n",
    "    # Collection document set method\n",
    "    # Adds all data under a collection\n",
    "    # With custom document IDS \n",
    "    def set(self, item):\n",
    "        return db.collection(self.collectionname).document(str(item['id'])).set(item)\n",
    "\n",
    "uploadjson = UploadJsonFileToFirestore()\n",
    "uploadjson.upload()      "
   ]
  }
 ],
 "metadata": {
  "kernelspec": {
   "display_name": "Python 3",
   "language": "python",
   "name": "python3"
  },
  "language_info": {
   "codemirror_mode": {
    "name": "ipython",
    "version": 3
   },
   "file_extension": ".py",
   "mimetype": "text/x-python",
   "name": "python",
   "nbconvert_exporter": "python",
   "pygments_lexer": "ipython3",
   "version": "3.8.8"
  }
 },
 "nbformat": 4,
 "nbformat_minor": 5
}
