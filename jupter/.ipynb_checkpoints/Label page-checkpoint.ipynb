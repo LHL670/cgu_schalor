{
 "cells": [
  {
   "cell_type": "code",
   "execution_count": 11,
   "id": "6db30b9b",
   "metadata": {},
   "outputs": [],
   "source": [
    "import firebase_admin\n",
    "from firebase_admin import credentials\n",
    "from firebase_admin import firestore\n",
    "\n",
    "if not firebase_admin._apps:\n",
    "    cred = credentials.Certificate(\"../jsonFile/service-account.json\")\n",
    "    firebase_admin.initialize_app(cred)\n",
    "    \n",
    "db = firestore.client()"
   ]
  },
  {
   "cell_type": "code",
   "execution_count": 1,
   "id": "503e82d0",
   "metadata": {},
   "outputs": [],
   "source": [
    "import requests\n",
    "from bs4 import BeautifulSoup\n",
    "\n",
    "label='rf_systems'\n",
    "url = 'https://scholar.google.com.tw/citations?view_op=search_authors&hl=zh-TW&mauthors=label:'+ label\n",
    "headers = {\n",
    "    'User-Agent': 'Mozilla/5.0 (Macintosh; Intel Mac OS X 10_13_6) AppleWebKit/537.36 (KHTML, like Gecko) Chrome/73.0.3683.103 Safari/537.36'\n",
    "}\n",
    "r = requests.get(url, headers=headers)\n",
    "soup = BeautifulSoup(r.text)"
   ]
  },
  {
   "cell_type": "code",
   "execution_count": 2,
   "id": "f9580080",
   "metadata": {},
   "outputs": [
    {
     "name": "stdout",
     "output_type": "stream",
     "text": [
      "2\n",
      "3\n",
      "4\n",
      "5\n",
      "6\n",
      "7\n",
      "8\n"
     ]
    },
    {
     "data": {
      "text/plain": [
       "[{'userID': ['NjciM8IAAAAJ',\n",
       "   '_FsNXuIAAAAJ',\n",
       "   '8UU9ZfYAAAAJ',\n",
       "   'X_arEpUAAAAJ',\n",
       "   'ptBfinUAAAAJ',\n",
       "   'ZyX78GgAAAAJ',\n",
       "   'N-SEWfcAAAAJ',\n",
       "   'lmOFlZIAAAAJ',\n",
       "   '683EoygAAAAJ',\n",
       "   'w-3Ew7wAAAAJ',\n",
       "   'KhHjFWMAAAAJ',\n",
       "   'E57IHlUAAAAJ',\n",
       "   'uyoWO5gAAAAJ',\n",
       "   'qXf3SpwAAAAJ',\n",
       "   'To17VOkAAAAJ',\n",
       "   'FhcloGAAAAAJ',\n",
       "   '5eWXa0YAAAAJ',\n",
       "   'eD_xT7UAAAAJ',\n",
       "   'd8QkDAwAAAAJ',\n",
       "   'CAoTUEgAAAAJ',\n",
       "   'rGZmioMAAAAJ',\n",
       "   'heg5lugAAAAJ',\n",
       "   'IVlZ1wsAAAAJ',\n",
       "   'j-NMdXcAAAAJ',\n",
       "   'Qjqh8HUAAAAJ',\n",
       "   'biE0BGcAAAAJ',\n",
       "   'm5lXn6oAAAAJ',\n",
       "   '-NqEMJcAAAAJ',\n",
       "   'Af66FWsAAAAJ',\n",
       "   'yHtxQcQAAAAJ',\n",
       "   'eRTlT2wAAAAJ',\n",
       "   'DoPZHWcAAAAJ',\n",
       "   'A3z3s24AAAAJ',\n",
       "   'OCbSI08AAAAJ',\n",
       "   'CLJ4pmEAAAAJ',\n",
       "   '4lodKcsAAAAJ',\n",
       "   '9CIaAwcAAAAJ',\n",
       "   '-7NOZu0AAAAJ',\n",
       "   '_BFAbiYAAAAJ',\n",
       "   '5pxbliIAAAAJ',\n",
       "   'CS6GfDYAAAAJ',\n",
       "   'T1-O8JEAAAAJ',\n",
       "   '0HMabSEAAAAJ',\n",
       "   'c2UuvMUAAAAJ',\n",
       "   'HZsS6BUAAAAJ',\n",
       "   'wlZwsdQAAAAJ',\n",
       "   'I6obUmQAAAAJ',\n",
       "   'AAQh4bAAAAAJ',\n",
       "   'YzZ6WPgAAAAJ',\n",
       "   'vcj74QYAAAAJ',\n",
       "   'pkTofqsAAAAJ',\n",
       "   'm5CfhiMAAAAJ',\n",
       "   '5a-LqosAAAAJ',\n",
       "   'WKP9choAAAAJ',\n",
       "   'opqKtpgAAAAJ',\n",
       "   'QOOVr8AAAAAJ',\n",
       "   '3eV7wJIAAAAJ',\n",
       "   'lU2C_bwAAAAJ',\n",
       "   'b7zC8YkAAAAJ',\n",
       "   'Ff8XTpMAAAAJ',\n",
       "   'jCY3UIcAAAAJ',\n",
       "   'nPyakUUAAAAJ',\n",
       "   'pkISiIsAAAAJ',\n",
       "   'GmkF9BsAAAAJ',\n",
       "   'PF6ZKJkAAAAJ',\n",
       "   'B747ynEAAAAJ',\n",
       "   'jYb3FjYAAAAJ',\n",
       "   'xbKwlO4AAAAJ',\n",
       "   'tcuhPQYAAAAJ',\n",
       "   '75VB9hAAAAAJ',\n",
       "   'rm7HkcMAAAAJ']}]"
      ]
     },
     "execution_count": 2,
     "metadata": {},
     "output_type": "execute_result"
    }
   ],
   "source": [
    "searchPage = True\n",
    "count = 1\n",
    "\n",
    "temp = []\n",
    "user = {}\n",
    "page = int('0')\n",
    "  \n",
    "while searchPage == True:\n",
    "    for i in soup.find_all('div', class_ = 'gsc_1usr'):      \n",
    "        #tag = []\n",
    "\n",
    "        id = i.find('a')['href'].split('user=')[1]\n",
    "        temp.append(id)\n",
    "        #temp['label'] = tag\n",
    "        \n",
    "    user['userID'] = temp\n",
    "    try:\n",
    "        #split nextpage after_author\n",
    "        afterAuthor = soup.find('div', id = 'gsc_authors_bottom_pag').find('button', class_ = 'gs_btnPR gs_in_ib gs_btn_half gs_btn_lsb gs_btn_srt gsc_pgn_pnx')['onclick'].split('author\\\\x3d')[1].split('\\\\x26')[0]\n",
    "        page = str(int(page) + 10) \n",
    "        \n",
    "        url = 'https://scholar.google.com.tw/citations?view_op=search_authors&hl=zh-TW&mauthors=label:'+label+'&after_author='+afterAuthor+'&astart='+page\n",
    "        r = requests.get(url, headers=headers)\n",
    "        soup = BeautifulSoup(r.text)\n",
    "        \n",
    "        count = count +1\n",
    "        print(count)\n",
    "    except KeyError as err:        \n",
    "        searchPage == False\n",
    "        break\n",
    "\n",
    "            \n"
   ]
  },
  {
   "cell_type": "code",
   "execution_count": 6,
   "id": "a28434ad",
   "metadata": {},
   "outputs": [],
   "source": [
    "import json\n",
    "def jsontransfer(items):\n",
    "    data = json.dumps(items)\n",
    "    jsonStr = json.loads(data) \n",
    "    return jsonStr"
   ]
  },
  {
   "cell_type": "code",
   "execution_count": 20,
   "id": "8b3a90d1",
   "metadata": {},
   "outputs": [],
   "source": [
    "def updateLabel(items, label):\n",
    "    \n",
    "    ref = db.collection(u'Label-Domain').document(label)\n",
    "    ref.set(items)"
   ]
  },
  {
   "cell_type": "code",
   "execution_count": 21,
   "id": "7024fcda",
   "metadata": {},
   "outputs": [],
   "source": [
    "updateLabel(user, label)"
   ]
  },
  {
   "cell_type": "code",
   "execution_count": 3,
   "id": "b0b8a20e",
   "metadata": {},
   "outputs": [],
   "source": [
    "import json\n",
    "jsonStr = json.dumps(infos)\n",
    "#print(jsonStr)"
   ]
  },
  {
   "cell_type": "code",
   "execution_count": null,
   "id": "81fc75ae",
   "metadata": {},
   "outputs": [],
   "source": []
  },
  {
   "cell_type": "code",
   "execution_count": 5,
   "id": "d92d3820",
   "metadata": {},
   "outputs": [
    {
     "ename": "FileNotFoundError",
     "evalue": "[Errno 2] No such file or directory: 'jsonFile/rf_systems.json'",
     "output_type": "error",
     "traceback": [
      "\u001b[1;31m---------------------------------------------------------------------------\u001b[0m",
      "\u001b[1;31mFileNotFoundError\u001b[0m                         Traceback (most recent call last)",
      "\u001b[1;32m<ipython-input-5-457f5284185c>\u001b[0m in \u001b[0;36m<module>\u001b[1;34m\u001b[0m\n\u001b[1;32m----> 1\u001b[1;33m \u001b[0mjsonFile\u001b[0m \u001b[1;33m=\u001b[0m \u001b[0mopen\u001b[0m\u001b[1;33m(\u001b[0m\u001b[1;34m'jsonFile/{}.json'\u001b[0m\u001b[1;33m.\u001b[0m\u001b[0mformat\u001b[0m\u001b[1;33m(\u001b[0m\u001b[0mlabel\u001b[0m\u001b[1;33m)\u001b[0m\u001b[1;33m,\u001b[0m \u001b[1;34m\"w\"\u001b[0m\u001b[1;33m)\u001b[0m\u001b[1;33m\u001b[0m\u001b[1;33m\u001b[0m\u001b[0m\n\u001b[0m\u001b[0;32m      2\u001b[0m \u001b[0mjsonFile\u001b[0m\u001b[1;33m.\u001b[0m\u001b[0mwrite\u001b[0m\u001b[1;33m(\u001b[0m\u001b[0mjsonStr\u001b[0m\u001b[1;33m)\u001b[0m\u001b[1;33m\u001b[0m\u001b[1;33m\u001b[0m\u001b[0m\n\u001b[0;32m      3\u001b[0m \u001b[0mjsonFile\u001b[0m\u001b[1;33m.\u001b[0m\u001b[0mclose\u001b[0m\u001b[1;33m(\u001b[0m\u001b[1;33m)\u001b[0m\u001b[1;33m\u001b[0m\u001b[1;33m\u001b[0m\u001b[0m\n",
      "\u001b[1;31mFileNotFoundError\u001b[0m: [Errno 2] No such file or directory: 'jsonFile/rf_systems.json'"
     ]
    }
   ],
   "source": [
    "jsonFile = open('jsonFile/{}.json'.format(label), \"w\")\n",
    "jsonFile.write(jsonStr)\n",
    "jsonFile.close()"
   ]
  },
  {
   "cell_type": "code",
   "execution_count": 21,
   "id": "26cdb13f",
   "metadata": {},
   "outputs": [
    {
     "name": "stdout",
     "output_type": "stream",
     "text": [
      "start1\n",
      "10\n",
      "sleep done1\n",
      "start2\n",
      "5\n",
      "start3\n",
      "1\n",
      "sleep done3\n",
      "sleep done2\n",
      "end\n"
     ]
    }
   ],
   "source": [
    "import threading\n",
    "import time\n",
    " \n",
    " \n",
    "def scraper1(x):\n",
    "    print(\"start1\")\n",
    "    print(x)\n",
    "    time.sleep(x)\n",
    "    print(\"sleep done1\")\n",
    "def scraper2(x):\n",
    "    print(\"start2\")\n",
    "    print(x)\n",
    "    time.sleep(x)\n",
    "    print(\"sleep done2\")\n",
    "def scraper3(x):\n",
    "    print(\"start3\")\n",
    "    print(x)\n",
    "    time.sleep(x)\n",
    "    print(\"sleep done3\")\n",
    " \n",
    " \n",
    "t1 = threading.Thread(target=scraper1, args=(10,))\n",
    "t2 = threading.Thread(target=scraper2, args=(5,))\n",
    "t3 = threading.Thread(target=scraper3, args=(1,))# 建立執行緒\n",
    "t1.start()  # 執行\n",
    "\n",
    "t1.join()\n",
    "t2.start()\n",
    "t3.start()\n",
    "t2.join()\n",
    "print(\"end\")"
   ]
  },
  {
   "cell_type": "code",
   "execution_count": 24,
   "id": "44c38a78",
   "metadata": {},
   "outputs": [
    {
     "name": "stdout",
     "output_type": "stream",
     "text": [
      "Worker 1: Data 10\n",
      "Worker 2: Data 11\n",
      "Worker 2: Data 12Worker 1: Data 13\n",
      "\n",
      "Worker 2: Data 14Worker 1: Data 15\n",
      "\n",
      "Worker 2: Data 16\n",
      "Worker 1: Data 17\n",
      "Worker 2: Data 18\n",
      "Worker 1: Data 19\n",
      "Done.\n"
     ]
    }
   ],
   "source": [
    "import time\n",
    "import threading\n",
    "import queue\n",
    "\n",
    "# Worker 類別，負責處理資料\n",
    "class Worker(threading.Thread):\n",
    "  def __init__(self, queue, num):\n",
    "    threading.Thread.__init__(self)\n",
    "    self.queue = queue\n",
    "    self.num = num\n",
    "\n",
    "  def run(self):\n",
    "    while self.queue.qsize() > 0:\n",
    "      # 取得新的資料\n",
    "      msg = self.queue.get()\n",
    "\n",
    "      # 處理資料\n",
    "      print(\"Worker %d: %s\" % (self.num, msg))\n",
    "      time.sleep(1)\n",
    "\n",
    "# 建立佇列\n",
    "my_queue = queue.Queue()\n",
    "\n",
    "# 將資料放入佇列\n",
    "for i in range(10):\n",
    "  my_queue.put(\"Data %d\" % (i+10))\n",
    "\n",
    "# 建立兩個 Worker\n",
    "my_worker1 = Worker(my_queue, 1)\n",
    "my_worker2 = Worker(my_queue, 2)\n",
    "\n",
    "# 讓 Worker 開始處理資料\n",
    "my_worker1.start()\n",
    "my_worker2.start()\n",
    "\n",
    "# 等待所有 Worker 結束\n",
    "my_worker1.join()\n",
    "my_worker2.join()\n",
    "\n",
    "print(\"Done.\")"
   ]
  },
  {
   "cell_type": "code",
   "execution_count": null,
   "id": "34076aab",
   "metadata": {},
   "outputs": [],
   "source": []
  }
 ],
 "metadata": {
  "kernelspec": {
   "display_name": "Python 3",
   "language": "python",
   "name": "python3"
  },
  "language_info": {
   "codemirror_mode": {
    "name": "ipython",
    "version": 3
   },
   "file_extension": ".py",
   "mimetype": "text/x-python",
   "name": "python",
   "nbconvert_exporter": "python",
   "pygments_lexer": "ipython3",
   "version": "3.8.8"
  }
 },
 "nbformat": 4,
 "nbformat_minor": 5
}
