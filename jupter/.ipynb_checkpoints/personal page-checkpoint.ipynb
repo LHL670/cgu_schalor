{
 "cells": [
  {
   "cell_type": "code",
   "execution_count": 160,
   "id": "1984bdc1",
   "metadata": {},
   "outputs": [],
   "source": [
    "import requests\n",
    "from bs4 import BeautifulSoup\n",
    "import datetime\n",
    "import time\n",
    "import threading\n",
    "import queue"
   ]
  },
  {
   "cell_type": "code",
   "execution_count": 29,
   "id": "e1c42a44",
   "metadata": {},
   "outputs": [],
   "source": [
    "%%capture\n",
    "pip install --upgrade firebase-admin \n"
   ]
  },
  {
   "cell_type": "code",
   "execution_count": 161,
   "id": "2a8519a6",
   "metadata": {},
   "outputs": [],
   "source": [
    "import firebase_admin\n",
    "from firebase_admin import credentials\n",
    "from firebase_admin import firestore\n",
    "\n",
    "if not firebase_admin._apps:\n",
    "    cred = credentials.Certificate(\"../jsonFile/service-account.json\")\n",
    "    firebase_admin.initialize_app(cred)\n",
    "    \n",
    "db = firestore.client()"
   ]
  },
  {
   "cell_type": "code",
   "execution_count": 162,
   "id": "a61096f2",
   "metadata": {},
   "outputs": [],
   "source": [
    "# docs = db.collection(u'cguscholar').document('faE3_ksAAAAJ').collection(u'updateTime').order_by(u'h_index.All', direction=firestore.Query.DESCENDING).limit(3).get()\n",
    "# for doc in docs:\n",
    "#     print(f'{doc.id} => {doc.to_dict()}')"
   ]
  },
  {
   "cell_type": "code",
   "execution_count": 163,
   "id": "e808bad7",
   "metadata": {},
   "outputs": [
    {
     "name": "stdout",
     "output_type": "stream",
     "text": [
      "Rfc8k-EAAAAJ\n",
      "CRo660MAAAAJ\n",
      "Ca8f9TEAAAAJ\n",
      "NAzAaY0AAAAJ\n",
      "QLxmlf0AAAAJ\n",
      "6Z9AaHAAAAAJ\n",
      "lLgQE20AAAAJ\n",
      "0ZE58lcAAAAJ\n",
      "ylK19VUAAAAJ\n",
      "IB3_fzoAAAAJ\n",
      "1ZO7pHkAAAAJ\n",
      "bjEpXBoAAAAJ\n",
      "faE3_ksAAAAJ\n",
      "-8xAh5IAAAAJ\n",
      "g-_ZXGsAAAAJ\n",
      "OrFUuH0AAAAJ\n",
      "x_wsduUAAAAJ\n"
     ]
    }
   ],
   "source": [
    "docs = db.collection(u'cguscholar').order_by(u'updateTime').get()\n",
    "\n",
    "for doc in docs:\n",
    "    print(f'{doc.id}')"
   ]
  },
  {
   "cell_type": "code",
   "execution_count": 164,
   "id": "9b9080a4",
   "metadata": {},
   "outputs": [],
   "source": [
    "def currentTime():\n",
    "    now = datetime.datetime.now()\n",
    "    currentTime = now.strftime(\"%Y-%m-%d %H:%M:%S\")\n",
    "    return currentTime"
   ]
  },
  {
   "cell_type": "code",
   "execution_count": 165,
   "id": "feaca5cf",
   "metadata": {},
   "outputs": [],
   "source": [
    "#personal detail\n",
    "def personalData(soup):\n",
    "    info = {}\n",
    "    content = ''.join(soup.find('meta', property = 'og:image')['content']) #list to string\n",
    "    id = content.split('user=')[1].split('&citpid')[0] \n",
    "\n",
    "    d = soup.find('div', id = 'gsc_prf_i')\n",
    "\n",
    "    #name\n",
    "    info['name'] = d.find('div', id = 'gsc_prf_in').text\n",
    "\n",
    "    #university\n",
    "    info['university'] = d.find('a', class_ = 'gsc_prf_ila').text\n",
    "\n",
    "    #email\n",
    "    email = d.find('div', id = 'gsc_prf_ivh').text.split(' ')[1]\n",
    "    info['email'] = email\n",
    "\n",
    "    #picture\n",
    "    info['picture'] = soup.find('div', id = 'gsc_prf_pua').find('img')['src'] \n",
    "    \n",
    "    label = []\n",
    "    for p in soup.find_all('a', class_='gsc_prf_inta gs_ibl'):\n",
    "\n",
    "        label.append(p.text)\n",
    "    info['label'] = label\n",
    "    info['updateTime'] = currentTime()\n",
    "    return info\n"
   ]
  },
  {
   "cell_type": "code",
   "execution_count": 166,
   "id": "247d1965",
   "metadata": {},
   "outputs": [],
   "source": [
    "def citeBy(soup):\n",
    "    citeBy = {}\n",
    "    citations = {}\n",
    "    h_index = {}\n",
    "    i10_index = {}\n",
    "    def cited(status, value):\n",
    "\n",
    "        if status / 2 < 1:        \n",
    "            if status % 2 == 0:\n",
    "                citations['All'] = value\n",
    "            else:\n",
    "                citations['Since2016'] = value\n",
    "            citeBy['citations'] = citations\n",
    "\n",
    "        if status / 2 < 2:\n",
    "            if status % 2 == 0:\n",
    "                h_index['All'] = value\n",
    "            else:\n",
    "                h_index['Since2016'] = value\n",
    "            citeBy['h_index'] = h_index\n",
    "\n",
    "        if status / 2 < 3:\n",
    "            if status % 2 == 0:\n",
    "                i10_index['All'] = value\n",
    "            else:\n",
    "                i10_index['Since2016'] = value\n",
    "            citeBy['i10_index'] = i10_index\n",
    "            \n",
    "    count_d = 0\n",
    "    for d in soup.find_all('td', class_='gsc_rsb_std'):\n",
    "\n",
    "        cited(count_d, d.text)\n",
    "        count_d = count_d + 1       \n",
    "    \n",
    "    return citeBy"
   ]
  },
  {
   "cell_type": "code",
   "execution_count": 167,
   "id": "e04f03cc",
   "metadata": {},
   "outputs": [],
   "source": [
    "def result(soup, ID):\n",
    "    infos = {}\n",
    "    infos['id'] = ID\n",
    "    infos['personalData'] = personalData(soup)\n",
    "    infos['cited'] = citeBy(soup)\n",
    "\n",
    "    return infos"
   ]
  },
  {
   "cell_type": "code",
   "execution_count": 168,
   "id": "63dfacf2",
   "metadata": {},
   "outputs": [],
   "source": [
    "def personalPage(id):\n",
    "    url = 'https://scholar.google.com.tw/citations?hl=zh-TW&user=' + id\n",
    "    r = requests.get(url)\n",
    "    soup = BeautifulSoup(r.text)\n",
    "    return result(soup, id)"
   ]
  },
  {
   "cell_type": "code",
   "execution_count": 169,
   "id": "3e65ab62",
   "metadata": {},
   "outputs": [],
   "source": [
    "import json\n",
    "def jsontransfer(items):\n",
    "    data = json.dumps(items)\n",
    "    jsonStr = json.loads(data) \n",
    "    return jsonStr"
   ]
  },
  {
   "cell_type": "code",
   "execution_count": 170,
   "id": "f77d02c8",
   "metadata": {},
   "outputs": [],
   "source": [
    "def updatePersonal(userID):\n",
    "    items = jsontransfer(personalPage(userID))\n",
    "    print(items)\n",
    "    ref = db.collection(u'cguscholar').document((items['id']))\n",
    "    ref.collection(u'updateTime').document((items['personalData']['updateTime'])).set(items['cited'])\n",
    "    ref.set(items['personalData'])"
   ]
  },
  {
   "cell_type": "code",
   "execution_count": 171,
   "id": "fc3702e3",
   "metadata": {},
   "outputs": [],
   "source": [
    "def dataCheck(ID):\n",
    "    users_ref = db.collection(u'cguscholar').document(ID)\n",
    "    doc = users_ref.get()\n",
    "    if doc.exists:\n",
    "        checkTemp = doc.to_dict()\n",
    "        Timestamp = checkTemp['updateTime']\n",
    "        return Timestamp\n",
    "    else:\n",
    "        return ('Not found')"
   ]
  },
  {
   "cell_type": "code",
   "execution_count": 172,
   "id": "2e74ac8e",
   "metadata": {},
   "outputs": [],
   "source": [
    "def expiresCheck(last_update, expires):\n",
    "    if last_update == 'Not found':\n",
    "        compare = True\n",
    "    else:\n",
    "        expires_date = datetime.datetime.strptime(last_update, \"%Y-%m-%d %H:%M:%S\")\n",
    "        compare_date = expires_date + datetime.timedelta(days = expires)\n",
    "        current_date = datetime.datetime.now()\n",
    "\n",
    "        compare = compare_date < current_date\n",
    "    print(compare)\n",
    "    return compare # compare result\n",
    "    #過期或Not found為true"
   ]
  },
  {
   "cell_type": "code",
   "execution_count": 173,
   "id": "8f6f5c00",
   "metadata": {},
   "outputs": [
    {
     "name": "stdout",
     "output_type": "stream",
     "text": [
      "False\n"
     ]
    },
    {
     "data": {
      "text/plain": [
       "False"
      ]
     },
     "execution_count": 173,
     "metadata": {},
     "output_type": "execute_result"
    }
   ],
   "source": [
    "expiresCheck(dataCheck('Rfc8k-EAAAAJ'), 1)"
   ]
  },
  {
   "cell_type": "code",
   "execution_count": 174,
   "id": "e24cd73d",
   "metadata": {},
   "outputs": [],
   "source": [
    "def userDataList(label):\n",
    "    userDataList = []\n",
    "    # 建立佇列\n",
    "    ID_queue = queue.Queue()\n",
    "\n",
    "    # 將資料放入佇列\n",
    "    label_ref = db.collection(u'Label-Domain').document(label)\n",
    "    docs = label_ref.get()\n",
    "    IDtemp = docs.to_dict()\n",
    "    for i in range(10):\n",
    "        expire_time = dataCheck(IDtemp['userID'][i])\n",
    "        if(expiresCheck(expire_time, 1) or expire_time == 'Not found'):\n",
    "            ID_queue.put(IDtemp['userID'][i])\n",
    "\n",
    "    # Worker 類別，負責處理資料\n",
    "    class Worker(threading.Thread):\n",
    "      def __init__(self, queue, num):\n",
    "        threading.Thread.__init__(self)\n",
    "        self.queue = queue\n",
    "        self.num = num\n",
    "\n",
    "      def run(self):\n",
    "        while self.queue.qsize() > 0:\n",
    "          # 取得新的資料\n",
    "          userID = self.queue.get()\n",
    "\n",
    "          # 處理資料\n",
    "          #print(\"Worker %d: %s\" % (self.num, userID))\n",
    "          updatePersonal(userID)\n",
    "\n",
    "          time.sleep(1)\n",
    "\n",
    "    # 建立兩個 Worker\n",
    "    my_worker1 = Worker(ID_queue, 1)\n",
    "    my_worker2 = Worker(ID_queue, 2)\n",
    "\n",
    "    # 讓 Worker 開始處理資料\n",
    "    my_worker1.start()\n",
    "    my_worker2.start()\n",
    "\n",
    "    # 等待所有 Worker 結束\n",
    "    my_worker1.join()\n",
    "    my_worker2.join()\n",
    "\n",
    "    print(\"Done.\")\n",
    "    \n"
   ]
  },
  {
   "cell_type": "code",
   "execution_count": 176,
   "id": "9441d5a5",
   "metadata": {},
   "outputs": [
    {
     "name": "stdout",
     "output_type": "stream",
     "text": [
      "True\n",
      "True\n",
      "True\n",
      "True\n",
      "True\n",
      "True\n",
      "True\n",
      "True\n",
      "True\n",
      "True\n"
     ]
    },
    {
     "name": "stderr",
     "output_type": "stream",
     "text": [
      "Exception in thread Thread-292:\n",
      "Traceback (most recent call last):\n",
      "  File \"C:\\Users\\USER\\anaconda3\\lib\\threading.py\", line 932, in _bootstrap_inner\n",
      "    self.run()\n",
      "  File \"<ipython-input-174-9ecc5b737298>\", line 29, in run\n",
      "  File \"<ipython-input-170-16bcbfb3031d>\", line 2, in updatePersonal\n",
      "  File \"<ipython-input-168-8d3ecdd865c9>\", line 5, in personalPage\n",
      "  File \"<ipython-input-167-67809081cbe9>\", line 4, in result\n",
      "  File \"<ipython-input-165-db74af9463b5>\", line 13, in personalData\n",
      "AttributeError: 'NoneType' object has no attribute 'text'\n"
     ]
    },
    {
     "name": "stdout",
     "output_type": "stream",
     "text": [
      "{'id': 'dE64QHAAAAAJ', 'personalData': {'name': 'Jonathan Sterne', 'university': 'University of Bristol', 'email': 'bristol.ac.uk', 'picture': 'https://scholar.googleusercontent.com/citations?view_op=view_photo&user=dE64QHAAAAAJ&citpid=1', 'label': ['Medical Statistics', 'HIV', 'Evidence Synthesis', 'Epidemiology', 'Causal Inference'], 'updateTime': '2021-09-27 21:27:14'}, 'cited': {'citations': {'All': '126243', 'Since2016': '78013'}, 'h_index': {'All': '131', 'Since2016': '98'}, 'i10_index': {'All': '374', 'Since2016': '306'}}}\n",
      "{'id': 'lg39tc8AAAAJ', 'personalData': {'name': 'Sharon-Lise Normand', 'university': '首頁', 'email': 'hcp.med.harvard.edu', 'picture': 'https://scholar.googleusercontent.com/citations?view_op=view_photo&user=lg39tc8AAAAJ&citpid=2', 'label': ['statistics', 'causal inference', 'data science', 'comparative effectiveness', 'profiling'], 'updateTime': '2021-09-27 21:27:17'}, 'cited': {'citations': {'All': '116006', 'Since2016': '68017'}, 'h_index': {'All': '110', 'Since2016': '70'}, 'i10_index': {'All': '368', 'Since2016': '275'}}}\n"
     ]
    },
    {
     "name": "stderr",
     "output_type": "stream",
     "text": [
      "Exception in thread Thread-293:\n",
      "Traceback (most recent call last):\n",
      "  File \"C:\\Users\\USER\\anaconda3\\lib\\threading.py\", line 932, in _bootstrap_inner\n",
      "    self.run()\n",
      "  File \"<ipython-input-174-9ecc5b737298>\", line 29, in run\n",
      "  File \"<ipython-input-170-16bcbfb3031d>\", line 2, in updatePersonal\n",
      "  File \"<ipython-input-168-8d3ecdd865c9>\", line 5, in personalPage\n",
      "  File \"<ipython-input-167-67809081cbe9>\", line 4, in result\n",
      "  File \"<ipython-input-165-db74af9463b5>\", line 5, in personalData\n",
      "IndexError: list index out of range\n"
     ]
    },
    {
     "name": "stdout",
     "output_type": "stream",
     "text": [
      "Done.\n"
     ]
    }
   ],
   "source": [
    "label = 'causal_inference'\n",
    "userDataList(label)"
   ]
  },
  {
   "cell_type": "code",
   "execution_count": 88,
   "id": "ba1610d3",
   "metadata": {},
   "outputs": [],
   "source": [
    "# jsonFile = open(\"jsonFile/personalData.json\", \"w\")\n",
    "# jsonFile.write(jsonStr)\n",
    "# jsonFile.close()"
   ]
  }
 ],
 "metadata": {
  "kernelspec": {
   "display_name": "Python 3",
   "language": "python",
   "name": "python3"
  },
  "language_info": {
   "codemirror_mode": {
    "name": "ipython",
    "version": 3
   },
   "file_extension": ".py",
   "mimetype": "text/x-python",
   "name": "python",
   "nbconvert_exporter": "python",
   "pygments_lexer": "ipython3",
   "version": "3.8.8"
  }
 },
 "nbformat": 4,
 "nbformat_minor": 5
}
