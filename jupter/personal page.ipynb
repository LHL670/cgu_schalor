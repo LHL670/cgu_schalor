{
 "cells": [
  {
   "cell_type": "code",
   "execution_count": 3,
   "id": "1984bdc1",
   "metadata": {},
   "outputs": [],
   "source": [
    "%%capture\n",
    "pip install --upgrade firebase-admin "
   ]
  },
  {
   "cell_type": "code",
   "execution_count": 4,
   "id": "65be5773",
   "metadata": {},
   "outputs": [],
   "source": [
    "import requests\n",
    "from bs4 import BeautifulSoup\n",
    "import datetime\n",
    "import time\n",
    "import threading\n",
    "import queue\n",
    "import random"
   ]
  },
  {
   "cell_type": "code",
   "execution_count": 5,
   "id": "2a8519a6",
   "metadata": {},
   "outputs": [],
   "source": [
    "import firebase_admin\n",
    "from firebase_admin import credentials\n",
    "from firebase_admin import firestore\n",
    "\n",
    "if not firebase_admin._apps:\n",
    "    cred = credentials.Certificate(\"../jsonFile/service-account.json\")\n",
    "    firebase_admin.initialize_app(cred)\n",
    "    \n",
    "db = firestore.client()"
   ]
  },
  {
   "cell_type": "code",
   "execution_count": 6,
   "id": "a61096f2",
   "metadata": {},
   "outputs": [],
   "source": [
    "# docs = db.collection(u'cguscholar').document('faE3_ksAAAAJ').collection(u'updateTime').order_by(u'h_index.All', direction=firestore.Query.DESCENDING).limit(3).get()\n",
    "# for doc in docs:\n",
    "#     print(f'{doc.id} => {doc.to_dict()}')"
   ]
  },
  {
   "cell_type": "code",
   "execution_count": 7,
   "id": "e808bad7",
   "metadata": {},
   "outputs": [
    {
     "name": "stdout",
     "output_type": "stream",
     "text": [
      "Ca8f9TEAAAAJ\n",
      "NAzAaY0AAAAJ\n",
      "QLxmlf0AAAAJ\n",
      "6Z9AaHAAAAAJ\n",
      "lLgQE20AAAAJ\n",
      "0ZE58lcAAAAJ\n",
      "IB3_fzoAAAAJ\n",
      "ylK19VUAAAAJ\n",
      "1ZO7pHkAAAAJ\n",
      "bjEpXBoAAAAJ\n",
      "faE3_ksAAAAJ\n",
      "-8xAh5IAAAAJ\n",
      "g-_ZXGsAAAAJ\n",
      "OrFUuH0AAAAJ\n",
      "Rfc8k-EAAAAJ\n",
      "x_wsduUAAAAJ\n",
      "CRo660MAAAAJ\n",
      "DZ-fHPgAAAAJ\n",
      "dE64QHAAAAAJ\n",
      "lg39tc8AAAAJ\n",
      "dYwbc9sAAAAJ\n",
      "vGpPHEgAAAAJ\n",
      "ojbLrDYAAAAJ\n",
      "JG-n5IcAAAAJ\n",
      "8ryT3pQAAAAJ\n",
      "Z7OFTY0AAAAJ\n",
      "k9qzaEcAAAAJ\n"
     ]
    }
   ],
   "source": [
    "docs = db.collection(u'cguscholar').order_by(u'updateTime').get()\n",
    "\n",
    "for doc in docs:\n",
    "    print(f'{doc.id}')"
   ]
  },
  {
   "cell_type": "code",
   "execution_count": 8,
   "id": "9b9080a4",
   "metadata": {},
   "outputs": [],
   "source": [
    "def currentTime():\n",
    "    now = datetime.datetime.now()\n",
    "    currentTime = now.strftime(\"%Y-%m-%d %H:%M:%S\")\n",
    "    return currentTime"
   ]
  },
  {
   "cell_type": "code",
   "execution_count": 9,
   "id": "feaca5cf",
   "metadata": {},
   "outputs": [],
   "source": [
    "#personal detail\n",
    "def personalData(soup):\n",
    "    info = {}\n",
    "    content = ''.join(soup.find('meta', property = 'og:image')['content']) #list to string\n",
    "\n",
    "    d = soup.find('div', id = 'gsc_prf_i')\n",
    "\n",
    "    #name\n",
    "    info['name'] = d.find('div', id = 'gsc_prf_in').text\n",
    "\n",
    "    #university\n",
    "    try:\n",
    "        info['university'] = d.find('a', class_ = 'gsc_prf_ila').text\n",
    "    except:\n",
    "        info['university'] = ' '\n",
    "\n",
    "    #picture\n",
    "    info['picture'] = soup.find('div', id = 'gsc_prf_pua').find('img')['src'] \n",
    "    \n",
    "    label = []\n",
    "    for p in soup.find_all('a', class_='gsc_prf_inta gs_ibl'):\n",
    "\n",
    "        label.append(p.text)\n",
    "    info['label'] = label\n",
    "    info['updateTime'] = currentTime()\n",
    "    return info\n"
   ]
  },
  {
   "cell_type": "code",
   "execution_count": 10,
   "id": "247d1965",
   "metadata": {},
   "outputs": [],
   "source": [
    "def citeBy(soup):\n",
    "    citeBy = {}\n",
    "    citations = {}\n",
    "    h_index = {}\n",
    "    i10_index = {}\n",
    "    def cited(status, value):\n",
    "\n",
    "        if status / 2 < 1:        \n",
    "            if status % 2 == 0:\n",
    "                citations['All'] = value\n",
    "            else:\n",
    "                citations['Since2016'] = value\n",
    "            citeBy['citations'] = citations\n",
    "\n",
    "        if status / 2 < 2:\n",
    "            if status % 2 == 0:\n",
    "                h_index['All'] = value\n",
    "            else:\n",
    "                h_index['Since2016'] = value\n",
    "            citeBy['h_index'] = h_index\n",
    "\n",
    "        if status / 2 < 3:\n",
    "            if status % 2 == 0:\n",
    "                i10_index['All'] = value\n",
    "            else:\n",
    "                i10_index['Since2016'] = value\n",
    "            citeBy['i10_index'] = i10_index\n",
    "            \n",
    "    count_d = 0\n",
    "    for d in soup.find_all('td', class_='gsc_rsb_std'):\n",
    "\n",
    "        cited(count_d, d.text)\n",
    "        count_d = count_d + 1       \n",
    "    \n",
    "    return citeBy"
   ]
  },
  {
   "cell_type": "code",
   "execution_count": 11,
   "id": "e04f03cc",
   "metadata": {},
   "outputs": [],
   "source": [
    "def result(soup, ID):\n",
    "    infos = {}\n",
    "    infos['id'] = ID\n",
    "    infos['personalData'] = personalData(soup)\n",
    "    infos['cited'] = citeBy(soup)\n",
    "\n",
    "    return infos"
   ]
  },
  {
   "cell_type": "code",
   "execution_count": 12,
   "id": "63dfacf2",
   "metadata": {},
   "outputs": [],
   "source": [
    "def personalPage(id):\n",
    "    url = 'https://scholar.google.com.tw/citations?hl=zh-TW&user=' + id\n",
    "    r = requests.get(url)\n",
    "    soup = BeautifulSoup(r.text)\n",
    "    return result(soup, id)"
   ]
  },
  {
   "cell_type": "code",
   "execution_count": 13,
   "id": "3e65ab62",
   "metadata": {},
   "outputs": [],
   "source": [
    "import json\n",
    "def jsontransfer(items):\n",
    "    data = json.dumps(items)\n",
    "    jsonStr = json.loads(data) \n",
    "    return jsonStr"
   ]
  },
  {
   "cell_type": "code",
   "execution_count": 14,
   "id": "f77d02c8",
   "metadata": {},
   "outputs": [],
   "source": [
    "def updatePersonal(userID):\n",
    "    items = jsontransfer(personalPage(userID))\n",
    "    print(items)\n",
    "    ref = db.collection(u'cguscholar').document((items['id']))\n",
    "    ref.collection(u'updateTime').document((items['personalData']['updateTime'])).set(items['cited'])\n",
    "    ref.set(items['personalData'])"
   ]
  },
  {
   "cell_type": "code",
   "execution_count": 62,
   "id": "fc3702e3",
   "metadata": {},
   "outputs": [],
   "source": [
    "def IDCheck(ID):\n",
    "    users_ref = db.collection(u'cguscholar').document(ID)\n",
    "    doc = users_ref.get()\n",
    "    if doc.exists:\n",
    "        checkTemp = doc.to_dict()\n",
    "        Timestamp = checkTemp['updateTime']\n",
    "        return Timestamp\n",
    "    else:\n",
    "        return ('Not found')"
   ]
  },
  {
   "cell_type": "code",
   "execution_count": 63,
   "id": "1d902762",
   "metadata": {},
   "outputs": [],
   "source": [
    "def expiresCheck(last_update, expires):\n",
    "    if last_update == 'Not found':\n",
    "        compare = True\n",
    "    else:\n",
    "        expires_date = datetime.datetime.strptime(last_update, \"%Y-%m-%d %H:%M:%S\")\n",
    "        compare_date = expires_date + datetime.timedelta(days = expires)\n",
    "        current_date = datetime.datetime.now()\n",
    "\n",
    "        compare = compare_date < current_date\n",
    "    print(compare)\n",
    "    return compare # compare result\n",
    "    #過期或Not found為true"
   ]
  },
  {
   "cell_type": "code",
   "execution_count": 64,
   "id": "48bceb05",
   "metadata": {},
   "outputs": [],
   "source": [
    "def ID_queue(label):\n",
    "    # 建立佇列\n",
    "    ID_queue = queue.Queue()\n",
    "\n",
    "    # 將資料放入佇列\n",
    "    label_ref = db.collection(u'Label-Domain').document(label)\n",
    "    docs = label_ref.get()\n",
    "    IDtemp = docs.to_dict()\n",
    "    \n",
    "    #取五個過期或為爬過的ID\n",
    "    number = 5 \n",
    "    ID_count = 0\n",
    "    while (number != 0):        \n",
    "        expire_time = IDCheck(IDtemp['userID'][ID_count])\n",
    "        if(expiresCheck(expire_time, 1)):\n",
    "            print(IDtemp['userID'][ID_count])\n",
    "            ID_queue.put(IDtemp['userID'][ID_count])\n",
    "            number = number - 1\n",
    "        ID_count = ID_count + 1\n",
    "        \n",
    "    return ID_queue"
   ]
  },
  {
   "cell_type": "code",
   "execution_count": 65,
   "id": "e24cd73d",
   "metadata": {},
   "outputs": [],
   "source": [
    "def userDataList(label):\n",
    "    \n",
    "    # Worker 類別，負責處理資料\n",
    "    class Worker(threading.Thread):\n",
    "      def __init__(self, queue, num):\n",
    "        threading.Thread.__init__(self)\n",
    "        self.queue = queue\n",
    "        self.num = num\n",
    "\n",
    "      def run(self):\n",
    "        while self.queue.qsize() > 0:\n",
    "          # 取得新的資料\n",
    "          userID = self.queue.get()\n",
    "\n",
    "          # 處理資料\n",
    "          #print(\"Worker %d: %s\" % (self.num, userID))\n",
    "          updatePersonal(userID)\n",
    "\n",
    "          time.sleep(1)\n",
    "    work_queue = ID_queue(label)\n",
    "    # 建立兩個 Worker\n",
    "    my_worker1 = Worker(work_queue, 1)\n",
    "    my_worker2 = Worker(work_queue, 2)\n",
    "\n",
    "    # 讓 Worker 開始處理資料\n",
    "    my_worker1.start()\n",
    "    my_worker2.start()\n",
    "\n",
    "    # 等待所有 Worker 結束\n",
    "    my_worker1.join()\n",
    "    my_worker2.join()\n",
    "\n",
    "    print(\"Done.\")\n",
    "    \n"
   ]
  },
  {
   "cell_type": "code",
   "execution_count": 66,
   "id": "9441d5a5",
   "metadata": {},
   "outputs": [
    {
     "name": "stdout",
     "output_type": "stream",
     "text": [
      "False\n",
      "False\n",
      "False\n",
      "False\n",
      "False\n",
      "False\n",
      "False\n",
      "False\n",
      "False\n",
      "False\n",
      "True\n",
      "L71WymMAAAAJ\n",
      "True\n",
      "3r-fWJwAAAAJ\n",
      "True\n",
      "2tt6ZJ0AAAAJ\n",
      "True\n",
      "8zZofa8AAAAJ\n",
      "True\n",
      "6F3ZIeEAAAAJ\n",
      "{'id': 'L71WymMAAAAJ', 'personalData': {'name': 'Nick Graetz', 'university': '首頁', 'picture': 'https://scholar.googleusercontent.com/citations?view_op=view_photo&user=L71WymMAAAAJ&citpid=1', 'label': ['Structural racism', 'housing', 'causal inference', 'social policy', 'political economy'], 'updateTime': '2021-09-28 15:18:52'}, 'cited': {'citations': {'All': '39625', 'Since2016': '37083'}, 'h_index': {'All': '25', 'Since2016': '25'}, 'i10_index': {'All': '30', 'Since2016': '30'}}}\n",
      "{'id': '3r-fWJwAAAAJ', 'personalData': {'name': 'Peter Bühlmann', 'university': 'ETH Zurich', 'picture': 'https://scholar.googleusercontent.com/citations?view_op=view_photo&user=3r-fWJwAAAAJ&citpid=5', 'label': ['Statistics', 'Machine Learning', 'Causal Inference', 'Computational Biology'], 'updateTime': '2021-09-28 15:18:52'}, 'cited': {'citations': {'All': '38960', 'Since2016': '22281'}, 'h_index': {'All': '76', 'Since2016': '59'}, 'i10_index': {'All': '166', 'Since2016': '144'}}}\n",
      "{'id': '8zZofa8AAAAJ', 'personalData': {'name': 'Krista Fischer', 'university': 'University of Tartu', 'picture': 'https://scholar.googleusercontent.com/citations?view_op=view_photo&user=8zZofa8AAAAJ&citpid=3', 'label': ['Biostatistics', 'Genetic Epidemiology', 'Polygenic Prediction', 'Causal Inference', 'Mendelian Randomization'], 'updateTime': '2021-09-28 15:18:55'}, 'cited': {'citations': {'All': '36862', 'Since2016': '32155'}, 'h_index': {'All': '64', 'Since2016': '61'}, 'i10_index': {'All': '135', 'Since2016': '125'}}}\n",
      "{'id': '2tt6ZJ0AAAAJ', 'personalData': {'name': 'Alison GOPNIK', 'university': 'Berkeley', 'picture': 'https://scholar.googleusercontent.com/citations?view_op=view_photo&user=2tt6ZJ0AAAAJ&citpid=3', 'label': ['Cognitive Development', 'Probabilistic Models', 'Learning', 'Causal Inference'], 'updateTime': '2021-09-28 15:18:55'}, 'cited': {'citations': {'All': '36736', 'Since2016': '11889'}, 'h_index': {'All': '85', 'Since2016': '57'}, 'i10_index': {'All': '186', 'Since2016': '139'}}}\n",
      "{'id': '6F3ZIeEAAAAJ', 'personalData': {'name': 'Jean Pouget-Abadie', 'university': 'Google Research', 'picture': 'https://scholar.googleusercontent.com/citations?view_op=view_photo&user=6F3ZIeEAAAAJ&citpid=1', 'label': ['Causal Inference', 'Machine Learning'], 'updateTime': '2021-09-28 15:18:57'}, 'cited': {'citations': {'All': '35640', 'Since2016': '35106'}, 'h_index': {'All': '8', 'Since2016': '8'}, 'i10_index': {'All': '8', 'Since2016': '8'}}}\n",
      "Done.\n"
     ]
    }
   ],
   "source": [
    "label = 'causal_inference'\n",
    "userDataList(label)"
   ]
  },
  {
   "cell_type": "code",
   "execution_count": 88,
   "id": "ba1610d3",
   "metadata": {},
   "outputs": [],
   "source": [
    "# jsonFile = open(\"jsonFile/personalData.json\", \"w\")\n",
    "# jsonFile.write(jsonStr)\n",
    "# jsonFile.close()"
   ]
  }
 ],
 "metadata": {
  "kernelspec": {
   "display_name": "Python 3",
   "language": "python",
   "name": "python3"
  },
  "language_info": {
   "codemirror_mode": {
    "name": "ipython",
    "version": 3
   },
   "file_extension": ".py",
   "mimetype": "text/x-python",
   "name": "python",
   "nbconvert_exporter": "python",
   "pygments_lexer": "ipython3",
   "version": "3.8.8"
  }
 },
 "nbformat": 4,
 "nbformat_minor": 5
}
