{
 "cells": [
  {
   "cell_type": "code",
   "execution_count": 60,
   "id": "6db30b9b",
   "metadata": {},
   "outputs": [],
   "source": [
    "import firebase_admin\n",
    "from firebase_admin import credentials\n",
    "from firebase_admin import firestore\n",
    "\n",
    "if not firebase_admin._apps:\n",
    "    cred = credentials.Certificate(\"../jsonFile/service-account.json\")\n",
    "    firebase_admin.initialize_app(cred)\n",
    "    \n",
    "db = firestore.client()"
   ]
  },
  {
   "cell_type": "code",
   "execution_count": 61,
   "id": "503e82d0",
   "metadata": {},
   "outputs": [],
   "source": [
    "import requests\n",
    "from bs4 import BeautifulSoup\n",
    "\n",
    "label='rf_systems'\n",
    "url = 'https://scholar.google.com.tw/citations?view_op=search_authors&hl=zh-TW&mauthors=label:'+ label\n",
    "headers = {\n",
    "    'User-Agent': 'Mozilla/5.0 (Macintosh; Intel Mac OS X 10_13_6) AppleWebKit/537.36 (KHTML, like Gecko) Chrome/73.0.3683.103 Safari/537.36'\n",
    "}\n",
    "r = requests.get(url, headers=headers)\n",
    "soup = BeautifulSoup(r.text)"
   ]
  },
  {
   "cell_type": "code",
   "execution_count": 62,
   "id": "f9580080",
   "metadata": {},
   "outputs": [
    {
     "ename": "AttributeError",
     "evalue": "'NoneType' object has no attribute 'find'",
     "output_type": "error",
     "traceback": [
      "\u001b[1;31m---------------------------------------------------------------------------\u001b[0m",
      "\u001b[1;31mAttributeError\u001b[0m                            Traceback (most recent call last)",
      "\u001b[1;32m<ipython-input-62-f40bb63a48c6>\u001b[0m in \u001b[0;36m<module>\u001b[1;34m\u001b[0m\n\u001b[0;32m     17\u001b[0m     \u001b[1;32mtry\u001b[0m\u001b[1;33m:\u001b[0m\u001b[1;33m\u001b[0m\u001b[1;33m\u001b[0m\u001b[0m\n\u001b[0;32m     18\u001b[0m         \u001b[1;31m#split nextpage after_author\u001b[0m\u001b[1;33m\u001b[0m\u001b[1;33m\u001b[0m\u001b[1;33m\u001b[0m\u001b[0m\n\u001b[1;32m---> 19\u001b[1;33m         \u001b[0mafterAuthor\u001b[0m \u001b[1;33m=\u001b[0m \u001b[0msoup\u001b[0m\u001b[1;33m.\u001b[0m\u001b[0mfind\u001b[0m\u001b[1;33m(\u001b[0m\u001b[1;34m'div'\u001b[0m\u001b[1;33m,\u001b[0m \u001b[0mid\u001b[0m \u001b[1;33m=\u001b[0m \u001b[1;34m'gsc_authors_bottom_pag'\u001b[0m\u001b[1;33m)\u001b[0m\u001b[1;33m.\u001b[0m\u001b[0mfind\u001b[0m\u001b[1;33m(\u001b[0m\u001b[1;34m'button'\u001b[0m\u001b[1;33m,\u001b[0m \u001b[0mclass_\u001b[0m \u001b[1;33m=\u001b[0m \u001b[1;34m'gs_btnPR gs_in_ib gs_btn_half gs_btn_lsb gs_btn_srt gsc_pgn_pnx'\u001b[0m\u001b[1;33m)\u001b[0m\u001b[1;33m[\u001b[0m\u001b[1;34m'onclick'\u001b[0m\u001b[1;33m]\u001b[0m\u001b[1;33m.\u001b[0m\u001b[0msplit\u001b[0m\u001b[1;33m(\u001b[0m\u001b[1;34m'author\\\\x3d'\u001b[0m\u001b[1;33m)\u001b[0m\u001b[1;33m[\u001b[0m\u001b[1;36m1\u001b[0m\u001b[1;33m]\u001b[0m\u001b[1;33m.\u001b[0m\u001b[0msplit\u001b[0m\u001b[1;33m(\u001b[0m\u001b[1;34m'\\\\x26'\u001b[0m\u001b[1;33m)\u001b[0m\u001b[1;33m[\u001b[0m\u001b[1;36m0\u001b[0m\u001b[1;33m]\u001b[0m\u001b[1;33m\u001b[0m\u001b[1;33m\u001b[0m\u001b[0m\n\u001b[0m\u001b[0;32m     20\u001b[0m         \u001b[0mpage\u001b[0m \u001b[1;33m=\u001b[0m \u001b[0mstr\u001b[0m\u001b[1;33m(\u001b[0m\u001b[0mint\u001b[0m\u001b[1;33m(\u001b[0m\u001b[0mpage\u001b[0m\u001b[1;33m)\u001b[0m \u001b[1;33m+\u001b[0m \u001b[1;36m10\u001b[0m\u001b[1;33m)\u001b[0m\u001b[1;33m\u001b[0m\u001b[1;33m\u001b[0m\u001b[0m\n\u001b[0;32m     21\u001b[0m \u001b[1;33m\u001b[0m\u001b[0m\n",
      "\u001b[1;31mAttributeError\u001b[0m: 'NoneType' object has no attribute 'find'"
     ]
    }
   ],
   "source": [
    "searchPage = True\n",
    "count = 1\n",
    "\n",
    "temp = []\n",
    "user = {}\n",
    "page = int('0')\n",
    "  \n",
    "while searchPage == True:\n",
    "    for i in soup.find_all('div', class_ = 'gsc_1usr'):      \n",
    "        #tag = []\n",
    "\n",
    "        id = i.find('a')['href'].split('user=')[1]\n",
    "        temp.append(id)\n",
    "        #temp['label'] = tag\n",
    "        \n",
    "    user['userID'] = temp\n",
    "    try:\n",
    "        #split nextpage after_author\n",
    "        afterAuthor = soup.find('div', id = 'gsc_authors_bottom_pag').find('button', class_ = 'gs_btnPR gs_in_ib gs_btn_half gs_btn_lsb gs_btn_srt gsc_pgn_pnx')['onclick'].split('author\\\\x3d')[1].split('\\\\x26')[0]\n",
    "        page = str(int(page) + 10) \n",
    "        \n",
    "        url = 'https://scholar.google.com.tw/citations?view_op=search_authors&hl=zh-TW&mauthors=label:'+label+'&after_author='+afterAuthor+'&astart='+page\n",
    "        r = requests.get(url, headers=headers)\n",
    "        soup = BeautifulSoup(r.text)\n",
    "        \n",
    "        count = count +1\n",
    "        print(count)\n",
    "    except KeyError as err:        \n",
    "        searchPage == False\n",
    "        break\n",
    "\n",
    "            \n"
   ]
  },
  {
   "cell_type": "code",
   "execution_count": 4,
   "id": "a28434ad",
   "metadata": {},
   "outputs": [],
   "source": [
    "import json\n",
    "def jsontransfer(items):\n",
    "    data = json.dumps(items)\n",
    "    jsonStr = json.loads(data) \n",
    "    return jsonStr"
   ]
  },
  {
   "cell_type": "code",
   "execution_count": null,
   "id": "761e05f7",
   "metadata": {},
   "outputs": [],
   "source": []
  },
  {
   "cell_type": "code",
   "execution_count": 38,
   "id": "8b3a90d1",
   "metadata": {},
   "outputs": [],
   "source": [
    "def update_labelinfo(items, label):\n",
    "    print(label)\n",
    "    ref = db.collection(u'Label-Domain').document(label)\n",
    "    ref.set(items)"
   ]
  },
  {
   "cell_type": "code",
   "execution_count": 21,
   "id": "7024fcda",
   "metadata": {},
   "outputs": [],
   "source": [
    "updateLabel(user, label)"
   ]
  },
  {
   "cell_type": "code",
   "execution_count": 5,
   "id": "53e0e214",
   "metadata": {},
   "outputs": [],
   "source": [
    "import requests\n",
    "from bs4 import BeautifulSoup\n",
    "import datetime\n",
    "def currentTime():\n",
    "    now = datetime.datetime.now()\n",
    "    currentTime = now.strftime(\"%Y-%m-%d %H:%M:%S\")\n",
    "    return currentTime"
   ]
  },
  {
   "cell_type": "code",
   "execution_count": 44,
   "id": "8c18c02e",
   "metadata": {},
   "outputs": [],
   "source": [
    "def get_labelIDlist(label):\n",
    "\n",
    "    url = 'https://scholar.google.com.tw/citations?view_op=search_authors&hl=zh-TW&mauthors=label:' + label\n",
    "    headers = {\n",
    "        'User-Agent': 'Mozilla/5.0 (Macintosh; Intel Mac OS X 10_13_6) AppleWebKit/537.36 (KHTML, like Gecko) Chrome/73.0.3683.103 Safari/537.36'\n",
    "    }\n",
    "    r = requests.get(url, headers=headers)\n",
    "    soup = BeautifulSoup(r.text)\n",
    "\n",
    "    searchPage = True\n",
    "    tempList = []\n",
    "    Label = {}\n",
    "    page = int('0')\n",
    "\n",
    "    while searchPage == True:\n",
    "        for i in soup.find_all('div', class_='gsc_1usr'):\n",
    "            #tag = []\n",
    "\n",
    "            id = i.find('a')['href'].split('user=')[1]\n",
    "            tempList.append(id)\n",
    "            #temp['label'] = tag\n",
    "\n",
    "        Label['userID'] = tempList\n",
    "        try:\n",
    "            # split nextpage after_author\n",
    "            afterAuthor = soup.find('div', id='gsc_authors_bottom_pag').find(\n",
    "                'button', class_='gs_btnPR gs_in_ib gs_btn_half gs_btn_lsb gs_btn_srt gsc_pgn_pnx')['onclick'].split('author\\\\x3d')[1].split('\\\\x26')[0]\n",
    "            page = str(int(page) + 10)\n",
    "\n",
    "            url = 'https://scholar.google.com.tw/citations?view_op=search_authors&hl=zh-TW&mauthors=label:' + \\\n",
    "                label+'&after_author='+afterAuthor+'&astart='+page\n",
    "            r = requests.get(url, headers=headers)\n",
    "            soup = BeautifulSoup(r.text)\n",
    "            print(page)\n",
    "        except :\n",
    "            searchPage == False\n",
    "            break\n",
    "    Label['updateTime'] = currentTime()\n",
    "    return Label"
   ]
  },
  {
   "cell_type": "code",
   "execution_count": 48,
   "id": "988f7097",
   "metadata": {},
   "outputs": [
    {
     "name": "stdout",
     "output_type": "stream",
     "text": [
      "{'userID': [], 'updateTime': '2021-10-17 21:30:01'}\n"
     ]
    }
   ],
   "source": [
    " t=get_LabelIDList('5G Wireless Communications')\n",
    "print(t)"
   ]
  },
  {
   "cell_type": "code",
   "execution_count": 22,
   "id": "492327c6",
   "metadata": {},
   "outputs": [
    {
     "name": "stdout",
     "output_type": "stream",
     "text": [
      "<class 'dict'>\n"
     ]
    }
   ],
   "source": [
    "print(type(t))"
   ]
  },
  {
   "cell_type": "code",
   "execution_count": 47,
   "id": "89c4d113",
   "metadata": {},
   "outputs": [],
   "source": [
    "updateLabel(t, '5G Wireless Communications')"
   ]
  },
  {
   "cell_type": "code",
   "execution_count": 40,
   "id": "0873271b",
   "metadata": {},
   "outputs": [],
   "source": [
    "def labelinfoformat(data):\n",
    "    rewriteData = data\n",
    "    if(len(data['userID']) == 0):\n",
    "        print(len(data['userID']))\n",
    "        return False\n",
    "    # check updateTime format\n",
    "    if(data['updateTime'] == '' or data['updateTime'] == None):\n",
    "        rewriteData['personalData']['updateTime'] = currentTime()\n",
    "        print(2)\n",
    "\n",
    "    try:\n",
    "        datetime.datetime.strptime(\n",
    "            data['updateTime'], \"%Y-%m-%d %H:%M:%S\")\n",
    "        print(1)\n",
    "    except:\n",
    "        rewriteData['updateTime'] = currentTime()\n",
    "        print(3)\n",
    "    return rewriteData"
   ]
  },
  {
   "cell_type": "code",
   "execution_count": 41,
   "id": "b41d0225",
   "metadata": {},
   "outputs": [],
   "source": [
    "\n",
    "def LabelCrawl():\n",
    "    print('label start')\n",
    "    label = get_lastupdatelabel()  # limit\n",
    "    labellist = get_labelIDlist(label)\n",
    "    print(labellist)\n",
    "    check_labelformat = labelinfoformat(labellist)\n",
    "\n",
    "    # label list 為空或格式錯誤時回傳False,格式錯誤修正後回傳rewriteInfo\n",
    "    if(check_labelformat != False):\n",
    "        update_labelinfo(labellist, label)\n",
    "        print('label 1done')\n",
    "    else:\n",
    "        rewrite_labelinfo = check_labelformat\n",
    "        update_labelinfo(rewrite_labelinfo, label)\n",
    "        print('label done')"
   ]
  },
  {
   "cell_type": "code",
   "execution_count": 62,
   "id": "942579a8",
   "metadata": {},
   "outputs": [],
   "source": [
    "p= {'userID': ['NjciM8IAAAAJ', '_FsNXuIAAAAJ', '8UU9ZfYAAAAJ', 'X_arEpUAAAAJ', 'ptBfinUAAAAJ', 'ZyX78GgAAAAJ', 'N-SEWfcAAAAJ', 'lmOFlZIAAAAJ', '683EoygAAAAJ', 'w-3Ew7wAAAAJ', 'KhHjFWMAAAAJ', 'E57IHlUAAAAJ', 'uyoWO5gAAAAJ', 'qXf3SpwAAAAJ', 'To17VOkAAAAJ', 'FhcloGAAAAAJ', '5eWXa0YAAAAJ', 'eD_xT7UAAAAJ', 'd8QkDAwAAAAJ', 'CAoTUEgAAAAJ', 'rGZmioMAAAAJ', 'heg5lugAAAAJ', 'IVlZ1wsAAAAJ', 'j-NMdXcAAAAJ', 'Qjqh8HUAAAAJ', 'biE0BGcAAAAJ', 'm5lXn6oAAAAJ', '-NqEMJcAAAAJ', 'Af66FWsAAAAJ', 'eRTlT2wAAAAJ', 'yHtxQcQAAAAJ', 'DoPZHWcAAAAJ', 'A3z3s24AAAAJ', 'OCbSI08AAAAJ', 'CLJ4pmEAAAAJ', '4lodKcsAAAAJ', '9CIaAwcAAAAJ', '-7NOZu0AAAAJ', '_BFAbiYAAAAJ', '5pxbliIAAAAJ', 'pcgCwM0AAAAJ', 'CS6GfDYAAAAJ', 'T1-O8JEAAAAJ', '0HMabSEAAAAJ', 'c2UuvMUAAAAJ', 'HZsS6BUAAAAJ', 'wlZwsdQAAAAJ', 'I6obUmQAAAAJ', 'AAQh4bAAAAAJ', 'YzZ6WPgAAAAJ', 'vcj74QYAAAAJ', 'pkTofqsAAAAJ', 'm5CfhiMAAAAJ', '5a-LqosAAAAJ', 'WKP9choAAAAJ', 'opqKtpgAAAAJ', 'QOOVr8AAAAAJ', '3eV7wJIAAAAJ', 'b7zC8YkAAAAJ', 'lU2C_bwAAAAJ', 'Ff8XTpMAAAAJ', 'jCY3UIcAAAAJ', 'nPyakUUAAAAJ', 'pkISiIsAAAAJ', 'GmkF9BsAAAAJ', 'B747ynEAAAAJ', 'PF6ZKJkAAAAJ', 'jYb3FjYAAAAJ', 'xbKwlO4AAAAJ', 'tcuhPQYAAAAJ', '75VB9hAAAAAJ', 'rm7HkcMAAAAJ'], 'label': 'rf_systems', 'updateTime': ''}"
   ]
  },
  {
   "cell_type": "code",
   "execution_count": null,
   "id": "c3e47beb",
   "metadata": {},
   "outputs": [],
   "source": []
  },
  {
   "cell_type": "code",
   "execution_count": 42,
   "id": "aceab1d7",
   "metadata": {},
   "outputs": [],
   "source": [
    "def get_lastupdatelabel():\n",
    "    query = db.collection(u'Label-Domain').where(u'updateTime', '==', None).limit(1)\n",
    "    results = query.stream()\n",
    "    for r in results:\n",
    "        label = r.id\n",
    "    return label"
   ]
  },
  {
   "cell_type": "code",
   "execution_count": 45,
   "id": "776737e1",
   "metadata": {},
   "outputs": [
    {
     "name": "stdout",
     "output_type": "stream",
     "text": [
      "label start\n",
      "{'userID': [], 'updateTime': '2021-10-17 21:28:13'}\n",
      "0\n",
      "5G Wireless Communications\n",
      "label done\n"
     ]
    }
   ],
   "source": [
    "LabelCrawl()"
   ]
  },
  {
   "cell_type": "code",
   "execution_count": null,
   "id": "24dd4bf1",
   "metadata": {},
   "outputs": [],
   "source": []
  }
 ],
 "metadata": {
  "kernelspec": {
   "display_name": "Python 3",
   "language": "python",
   "name": "python3"
  },
  "language_info": {
   "codemirror_mode": {
    "name": "ipython",
    "version": 3
   },
   "file_extension": ".py",
   "mimetype": "text/x-python",
   "name": "python",
   "nbconvert_exporter": "python",
   "pygments_lexer": "ipython3",
   "version": "3.8.8"
  }
 },
 "nbformat": 4,
 "nbformat_minor": 5
}
